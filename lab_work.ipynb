{
  "nbformat": 4,
  "nbformat_minor": 0,
  "metadata": {
    "colab": {
      "provenance": [],
      "toc_visible": true,
      "include_colab_link": true
    },
    "kernelspec": {
      "name": "python3",
      "display_name": "Python 3"
    },
    "language_info": {
      "name": "python"
    }
  },
  "cells": [
    {
      "cell_type": "markdown",
      "metadata": {
        "id": "view-in-github",
        "colab_type": "text"
      },
      "source": [
        "<a href=\"https://colab.research.google.com/github/khuzin-e/mipt-sem2-python-lab/blob/main/lab_work.ipynb\" target=\"_parent\"><img src=\"https://colab.research.google.com/assets/colab-badge.svg\" alt=\"Open In Colab\"/></a>"
      ]
    },
    {
      "cell_type": "markdown",
      "source": [
        "# Лабораторная работа"
      ],
      "metadata": {
        "id": "rloJD2luQnuQ"
      }
    },
    {
      "cell_type": "markdown",
      "source": [
        "Баллы за секции:\n",
        "- *Задание 1* - 10 баллов\n",
        "- *Задание 2* - 20 баллов\n",
        "- *Задание 3* - 30 баллов\n",
        "- **Итого** - 60 баллов\n",
        "\n",
        "Оценка за лабу $ = \\frac{score}{6}$"
      ],
      "metadata": {
        "id": "xIZ02xiML9p_"
      }
    },
    {
      "cell_type": "markdown",
      "source": [
        "## Внимание! Attention! Achtung!"
      ],
      "metadata": {
        "id": "OEDe7x8YRID0"
      }
    },
    {
      "cell_type": "markdown",
      "source": [
        "**Данная лабораторная работа является блокирующей**, т.е. если лабораторная работа не выполнена, то оценка за курс - неуд.\n",
        "\n",
        "Лабораторная работа считается выполненной, если **за каждое из заданий получено не менее 2 баллов**."
      ],
      "metadata": {
        "id": "ZEmKA-7NR1Y9"
      }
    },
    {
      "cell_type": "markdown",
      "source": [
        "## Формат сдачи лабораторной работы"
      ],
      "metadata": {
        "id": "N1ZbZ8dkR5q_"
      }
    },
    {
      "cell_type": "markdown",
      "source": [
        "Данная лабораторная работа сдается так же, как и проект - заполняете данный ноутбук, отправляете его через GitHub с указанием проверяющего."
      ],
      "metadata": {
        "id": "tEwx7LLQR-h8"
      }
    },
    {
      "cell_type": "markdown",
      "source": [
        "**Ассистенты не будут запускать ячейки кода, а смотреть на выведенный результат и код. Если ячейка кода не запущена - балл не ставится, даже при правильно написанном коде.**\n",
        "\n",
        "***(Комментарии что курс по Python легче чем по C++ учтены)***"
      ],
      "metadata": {
        "id": "qKwaNCJKj7b8"
      }
    },
    {
      "cell_type": "markdown",
      "source": [
        ">**Примечание**\n",
        ">\n",
        ">Данные задания вдохновлены предметом \"Введение в анализ данных\" 2 курса, по итогу которого идёт отбор на DS-поток. Если вы видите себя в смежных областях, советуем выполнить данную лабораторку по максимуму."
      ],
      "metadata": {
        "id": "hlUYK7MDRGye"
      }
    },
    {
      "cell_type": "code",
      "source": [
        "# Всё необходимое для выполнения данной лабораторной работы!\n",
        "import requests\n",
        "from time import sleep\n",
        "\n",
        "import numpy as np\n",
        "import pandas as pd\n",
        "import matplotlib.pyplot as plt\n",
        "import seaborn as sns"
      ],
      "metadata": {
        "id": "1qzEqvohoZfB"
      },
      "execution_count": 152,
      "outputs": []
    },
    {
      "cell_type": "markdown",
      "source": [
        "## Задание 1. Парсинг - 10 баллов"
      ],
      "metadata": {
        "id": "rB_FYHU2k8w-"
      }
    },
    {
      "cell_type": "markdown",
      "source": [
        "В этом задании Вам предстоит работать с API сайта <a target=\"_blank\" href=\"hh.ru\">hh.ru</a>. Документация доступна по <a target=\"_blank\" href=\"https://github.com/hhru/api/blob/master/docs/vacancies.md#search\">ссылке</a>."
      ],
      "metadata": {
        "id": "F0gr5cjaoQJy"
      }
    },
    {
      "cell_type": "markdown",
      "source": [
        "<b><font color=\"red\">Внимание!</font> При работе с API не забывайте делать паузы между запросами, иначе вас забанят. Просрочка дедлайна по этой причине не принимается!</b>"
      ],
      "metadata": {
        "id": "v8iCQYk7TNvK"
      }
    },
    {
      "cell_type": "markdown",
      "source": [
        "**Задача:**\n",
        "1. выбрать 5 интересующих вас профессий (не смежных, т.е. Аналатик и Data Engineer не считается корректным)\n",
        "2. затем получить доступные по данным профессиям вакансии в Москве и выделить их физические координаты\n",
        "3. нанести полученные координаты на карту местоположения компаний"
      ],
      "metadata": {
        "id": "-HAm80rqRqAZ"
      }
    },
    {
      "cell_type": "markdown",
      "source": [
        "*Пример запроса для профессии:*"
      ],
      "metadata": {
        "id": "H0GhQJvipXYj"
      }
    },
    {
      "cell_type": "code",
      "source": [
        "URL = 'https://api.hh.ru/vacancies'\n",
        "\n",
        "params = {\n",
        "    'text': \"Физик-ядерщик\",\n",
        "    'area': 1,\n",
        "    'page': 0,\n",
        "    'per_page': 10\n",
        "}\n",
        "\n",
        "data = requests.get(URL, params).json()"
      ],
      "metadata": {
        "id": "aZLGoS_DpsXI"
      },
      "execution_count": 153,
      "outputs": []
    },
    {
      "cell_type": "markdown",
      "source": [
        "Если Ваш запрос прошел успешно, то вы получите следующие ключи (значения данных ключей вы найдете по ссылке на документацию):"
      ],
      "metadata": {
        "id": "yHQtIBRQp91_"
      }
    },
    {
      "cell_type": "code",
      "source": [
        "data.keys()\n"
      ],
      "metadata": {
        "colab": {
          "base_uri": "https://localhost:8080/"
        },
        "id": "DW6mxzggpvKw",
        "outputId": "631b50ab-175d-4d3d-90db-816781026f5d"
      },
      "execution_count": 154,
      "outputs": [
        {
          "output_type": "execute_result",
          "data": {
            "text/plain": [
              "dict_keys(['items', 'found', 'pages', 'per_page', 'page', 'clusters', 'arguments', 'alternate_url'])"
            ]
          },
          "metadata": {},
          "execution_count": 154
        }
      ]
    },
    {
      "cell_type": "markdown",
      "source": [
        ">**Примечание**\n",
        ">\n",
        ">В `data['pages']` будет хранится количество найденных страниц вакансий - для корректного сбора данных Вам нужно пробежать по **КАЖДОЙ** странице и сделать соотвествующие запросы."
      ],
      "metadata": {
        "id": "O-qAwsmrTAvQ"
      }
    },
    {
      "cell_type": "markdown",
      "source": [
        ">**Совет**\n",
        ">\n",
        ">Посмотрите что хранится в `items`!"
      ],
      "metadata": {
        "id": "OEPOQVYxsMyN"
      }
    },
    {
      "cell_type": "markdown",
      "source": [
        "(1 балл) Выберете для нас 5 наиболее интересных специальностей и получите по ним имеющиеся вакансии:"
      ],
      "metadata": {
        "id": "JWvkFrh9qhkj"
      }
    },
    {
      "cell_type": "code",
      "source": [
        "URL = 'https://api.hh.ru/vacancies'\n",
        "\n",
        "professions = [\"Курьер\", \"Кассир\", \"Оператор\", \"Водитель\", \"Сварщик\"]\n",
        "vacancies = dict()\n",
        "\n",
        "params = {\n",
        "  'text': \"\",\n",
        "  'area': 1,\n",
        "  'per_page': 100\n",
        "}\n",
        "for prof in professions:\n",
        "  params['text'] = prof \n",
        "  data = requests.get(URL, params).json()\n",
        "  vacancies[prof] = list()\n",
        "  for j in range(data['pages']):\n",
        "    params['page'] = j\n",
        "    data = requests.get(URL, params).json()\n",
        "    vacancies[prof].extend(x for x in data['items'])\n"
      ],
      "metadata": {
        "id": "_Nm-vyiBqugq"
      },
      "execution_count": 155,
      "outputs": []
    },
    {
      "cell_type": "code",
      "source": [
        "# for prof in professions:\n",
        "#   print(prof)\n",
        "#   for vac in vacancies[prof]:\n",
        "#     print(vac)"
      ],
      "metadata": {
        "id": "gg6_ldBU6c4D"
      },
      "execution_count": 156,
      "outputs": []
    },
    {
      "cell_type": "markdown",
      "source": [
        "(1 балл) Посчитайте сколько всего найдено вакансий:"
      ],
      "metadata": {
        "id": "g0bdgyNWquuY"
      }
    },
    {
      "cell_type": "code",
      "source": [
        "noof_vacancies = sum(len(v) for v in vacancies.values())"
      ],
      "metadata": {
        "id": "lxyXtIs6q5cc"
      },
      "execution_count": 157,
      "outputs": []
    },
    {
      "cell_type": "code",
      "source": [
        "print(noof_vacancies)"
      ],
      "metadata": {
        "colab": {
          "base_uri": "https://localhost:8080/"
        },
        "id": "JNzq9L-d60Jr",
        "outputId": "a1fa6df7-ec2a-4b62-bde7-28b5db174605"
      },
      "execution_count": 158,
      "outputs": [
        {
          "output_type": "stream",
          "name": "stdout",
          "text": [
            "8513\n"
          ]
        }
      ]
    },
    {
      "cell_type": "markdown",
      "source": [
        "(1 балл) Создайте структуру данных, которая будет хранить в себе имя компании и ее координаты (широта и долгота):"
      ],
      "metadata": {
        "id": "wQeULnNyq5wk"
      }
    },
    {
      "cell_type": "code",
      "source": [
        "class Coord:\n",
        "  def __init__(self, latitude, longitude):\n",
        "    self.latitude = latitude\n",
        "    self.longitude = longitude\n",
        "\n",
        "class Company:\n",
        "  def __init__(self, name, latitude, longitude):\n",
        "    self.name = name\n",
        "    self.coord = Coord(latitude, longitude)\n"
      ],
      "metadata": {
        "id": "aR501yltVdLm"
      },
      "execution_count": 159,
      "outputs": []
    },
    {
      "cell_type": "markdown",
      "source": [
        "(1 балл) Создайте экземпляр этой структуры данных для каждой компании, которая выставила вакансию:"
      ],
      "metadata": {
        "id": "ccIi3wIvVkG0"
      }
    },
    {
      "cell_type": "code",
      "source": [
        "companies = set()\n",
        "for prof in vacancies:\n",
        "  for vac in vacancies[prof]:\n",
        "    name = str(vac['employer']['name']) if vac['employer'] != None else \"None\"\n",
        "    latitude = float(vac['address']['lat']) if vac['address'] != None and vac['address']['lat'] != None else None\n",
        "    longitude = float(vac['address']['lng']) if vac['address'] != None and vac['address']['lng'] != None else None\n",
        "    company = Company(name, latitude, longitude)\n",
        "    companies.add(company)"
      ],
      "metadata": {
        "id": "tR6mYW7jtcCQ"
      },
      "execution_count": 160,
      "outputs": []
    },
    {
      "cell_type": "markdown",
      "source": [
        "(1 балл) Найдите количество вакансий, у которых заданы координаты (значения данных может быть пустым):"
      ],
      "metadata": {
        "id": "SyBpNd0vtcNu"
      }
    },
    {
      "cell_type": "code",
      "source": [
        "count = 0\n",
        "for lst in vacancies.values():\n",
        "  count += sum(int(vac['lat'] != None and vac['lng'] != None) for vac in [l['address'] for l in lst if l['address'] != None])\n",
        "print(count)"
      ],
      "metadata": {
        "id": "lVgNCVALt2qJ",
        "colab": {
          "base_uri": "https://localhost:8080/"
        },
        "outputId": "f656a6ef-4a80-4eb4-9661-5b1ab1808aa8"
      },
      "execution_count": 161,
      "outputs": [
        {
          "output_type": "stream",
          "name": "stdout",
          "text": [
            "5809\n"
          ]
        }
      ]
    },
    {
      "cell_type": "markdown",
      "source": [
        "(1 балл) Отберите вакансии, которые расположены в пределах МКАД (можно грубо):"
      ],
      "metadata": {
        "id": "aWNXrM-cu5Vi"
      }
    },
    {
      "cell_type": "code",
      "source": [
        "from geopy.distance import geodesic \n",
        "\n",
        "mkad_vac = []\n",
        "center = (55.752919, 37.626941)\n",
        "radius = 17.0\n",
        "for lst in vacancies.values():\n",
        "    for vac in [l['address'] for l in lst if l['address'] != None]:\n",
        "        if vac['lat'] != None and vac['lng'] != None:\n",
        "            coords = (vac['lat'], vac['lng'])\n",
        "            dist = geodesic(center, coords).km\n",
        "            if (dist <= radius):\n",
        "                mkad_vac.append(vac)\n",
        "print(len(mkad_vac))"
      ],
      "metadata": {
        "id": "01g9wVEyyn-J",
        "colab": {
          "base_uri": "https://localhost:8080/"
        },
        "outputId": "155a3b08-931f-4f39-966d-19d1570a118f"
      },
      "execution_count": 162,
      "outputs": [
        {
          "output_type": "stream",
          "name": "stdout",
          "text": [
            "4550\n"
          ]
        }
      ]
    },
    {
      "cell_type": "markdown",
      "source": [
        "(1 балл) Постройте график в координатах \"широта-долгота\" для отображения вакансий внутри МКАД (не забывайте прописать прозрачность, чтобы увидеть скопления):"
      ],
      "metadata": {
        "id": "4LCb9IL_bgB_"
      }
    },
    {
      "cell_type": "code",
      "source": [
        "x = [vac['lat'] for vac in mkad_vac]\n",
        "y = [vac['lng'] for vac in mkad_vac]\n",
        "plt.plot(x, y, color='purple', marker='*', alpha=0.1, linewidth=0)\n",
        "plt.show()"
      ],
      "metadata": {
        "id": "6ogiXDvKcDV8",
        "outputId": "e2185ff7-4050-43d3-9a78-e0db52ec4290",
        "colab": {
          "base_uri": "https://localhost:8080/",
          "height": 430
        }
      },
      "execution_count": 163,
      "outputs": [
        {
          "output_type": "display_data",
          "data": {
            "text/plain": [
              "<Figure size 640x480 with 1 Axes>"
            ],
            "image/png": "[encoded data removed]"
          },
          "metadata": {}
        }
      ]
    },
    {
      "cell_type": "markdown",
      "source": [
        "(1 балл) Нанесите все точки вакансий на карту (для этого вам поможет данная <a target=\"_blank\" href=\"https://plotly.com/python/mapbox-layers/\">документации</a>, не забудьте про прозрачность и центрирование по Москве): "
      ],
      "metadata": {
        "id": "YvS8b7eqt214"
      }
    },
    {
      "cell_type": "code",
      "source": [
        "import plotly.express as px\n",
        "\n",
        "map_box = px.scatter_mapbox(lat = x, lon = y, center={'lat' : center[0], 'lon' : center[1]}, zoom=10, height=800)\n",
        "\n",
        "map_box.update_layout(mapbox_style=\"open-street-map\")\n",
        "map_box.update_layout(margin={\"r\":0,\"t\":0,\"l\":0,\"b\":0})\n",
        "map_box.show()\n"
      ],
      "metadata": {
        "id": "1ceHEBdAys8o",
        "outputId": "72426d2b-b4d3-4c48-e2a5-6c6662cf4120",
        "colab": {
          "base_uri": "https://localhost:8080/",
          "height": 817
        }
      },
      "execution_count": 164,
      "outputs": [
        {
          "output_type": "display_data",
          "data": {
            "text/html": [
              "<html>\n",
              "<head><meta charset=\"utf-8\" /></head>\n",
              "<body>\n",
              "    <div>            <script src=\"https://cdnjs.cloudflare.com/ajax/libs/mathjax/2.7.5/MathJax.js?config=TeX-AMS-MML_SVG\"></script><script type=\"text/javascript\">if (window.MathJax && window.MathJax.Hub && window.MathJax.Hub.Config) {window.MathJax.Hub.Config({SVG: {font: \"STIX-Web\"}});}</script>                <script type=\"text/javascript\">window.PlotlyConfig = {MathJaxConfig: 'local'};</script>\n",
              "        <script src=\"https://cdn.plot.ly/plotly-2.18.2.min.js\"></script>                <div id=\"9b88667f-dcd2-4fb8-817d-2a6425c2cfa6\" class=\"plotly-graph-div\" style=\"height:800px; width:100%;\"></div>            <script type=\"text/javascript\">                                    window.PLOTLYENV=window.PLOTLYENV || {};                                    if (document.getElementById(\"9b88667f-dcd2-4fb8-817d-2a6425c2cfa6\")) {                    Plotly.newPlot(                        \"9b88667f-dcd2-4fb8-817d-2a6425c2cfa6\",                        [{\"hovertemplate\":\"lat=%{lat}<br>lon=%{lon}<extra></extra>\",\"lat\":[55.795039,55.754203,55.708303,55.80909,55.741764,55.724109,55.760601,55.822281,55.710281,55.853976,55.74674,55.755454,55.784683333206935,55.70587841985502,55.720631,55.76212,55.805756,55.657672,55.707583,55.816065,55.749162,55.677763,55.708308,55.67592,55.730852,55.745402,55.866182,55.661318,55.680798,55.781737,55.809504,55.680763,55.76618645296725,55.759886,55.762971,55.750925,55.787401,55.782795,55.777084,55.731835,55.745007,55.86256,55.752587,55.682803,55.697975,55.811939952629665,55.7621,55.82357,55.807602,55.775778,55.721665,55.768345,55.755864,55.761669,55.835048,55.739265,55.723957,55.79013,55.795322,55.792498,55.866192,55.821097,55.668447,55.780567,55.80357,55.744637,55.752587,55.665802,55.79013,55.694358,55.729422,55.655519,55.672854,55.800448,55.742635,55.683163,55.796774,55.749646,55.793313,55.7134,55.707415,55.636402,55.742564,55.766197,55.898205,55.780122,55.639212,55.767418,55.805968,55.742564,55.681265,55.849767,55.775849,55.789315,55.830442,55.641244,55.791486,55.722365,55.706421,55.795322,55.712305,55.8529,55.6928,55.68768727241602,55.70632,55.77077,55.746046,55.687188,55.687243,55.781074,55.886761,55.805047,55.74033,55.719911,55.770968,55.687188,55.793581,55.772411,55.811791,55.710418,55.712305,55.882828,55.690222,55.733579,55.811791,55.673306,55.75824,55.777383,55.607977,55.790514,55.662989,55.749633,55.759355,55.769226,55.74114,55.857177561780084,55.725757,55.784592,55.898205,55.775864,55.745863,55.729919,55.75939,55.783595,55.621623,55.856391,55.791486,55.661318,55.807850612901994,55.763467,55.717173,55.789704,55.758732,55.751097,55.725574,55.771742,55.821097,55.735089,55.786187,55.705351,55.710235,55.745189,55.794791,55.806611,55.695377,55.744632,55.813152,55.742863,55.763868,55.737791,55.785599,55.85008,55.734202,55.738302,55.73438,55.747485,55.710235,55.708354,55.741075,55.821097,55.738171,55.85008,55.733523,55.806424,55.74990889744109,55.748376,55.811427,55.845228,55.753215,55.751796,55.788991,55.75213213459712,55.747485,55.793009,55.721665,55.697661,55.840624,55.870642,55.768182,55.7694206237793,55.757582,55.78118,55.752355,55.743426,55.809024,55.714191,55.777449,55.749907,55.77717,55.650439,55.818397,55.683848,55.731029,55.808801,55.85296,55.847745,55.682179,55.725546,55.811771,55.743426,55.775707,55.775484,55.730664,55.732002,55.642753,55.785599,55.647554,55.757055,55.705158,55.623254,55.649312,55.752374,55.770649,55.836929,55.804916,55.799133,55.769833,55.758088,55.613433,55.76053,55.79013,55.699999,55.746785,55.694616,55.733457,55.612599,55.835776,55.845855,55.612599,55.698863,55.714004,55.78932,55.863833,55.797296,55.671696,55.711534,55.79476,55.794624,55.800792,55.802432,55.733457,55.761345,55.785118,55.755864,55.711392,55.75322,55.783595,55.774993,55.795553,55.774796,55.779565,55.671443,55.808801,55.795322,55.877748,55.745701,55.774315,55.697661,55.757339,55.808285,55.791486,55.658256,55.729696,55.761745,55.72706,55.613433,55.734993,55.770725,55.724277,55.642199,55.790008,55.789902,55.622278,55.74222,55.746324,55.739732,55.619574,55.613433,55.66469,55.683919,55.755819,55.799765,55.697975,55.794624,55.759132,55.699588,55.734202,55.736853,55.673458,55.613433,55.794968,55.7870892,55.748924,55.773808,55.753301,55.850499,55.73182,55.70772,55.858094,55.805968,55.681529,55.776856,55.763868,55.89235,55.753215,55.775484,55.803697,55.843641,55.775581,55.848897,55.775707,55.755819,55.816844,55.646873,55.772411,55.665284,55.839886,55.619574,55.774451,55.846618,55.635965,55.792807,55.795322,55.755864,55.734202,55.697346,55.877738,55.866041,55.654396,55.670077,55.727511,55.748311,55.65598749999999,55.740872,55.870481,55.676321,55.67058,55.710692,55.71882551744966,55.687213,55.75322,55.769717,55.665284,55.640533,55.844041,55.731739,55.713872,55.735018,55.64664,55.718593,55.734663,55.781469,55.630721,55.681529,55.768978,55.742407,55.801167,55.761644,55.76212,55.673148,55.699310302734375,55.714937,55.792827,55.735753,55.858468,55.670036,55.790008,55.708475,55.835968,55.792827,55.618939,55.748924,55.794831,55.773636,55.777474,55.789902,55.8032615,55.76484,55.766739,55.775591,55.619574,55.64664,55.754223,55.728996,55.755864,55.845855,55.681534,55.835078,55.730912,55.755864,55.630868,55.699310302734375,55.709018,55.606309,55.857862,55.757339,55.673458,55.755864,55.82663,55.721914,55.73002586983378,55.809838,55.791248,55.811427,55.755419,55.77758326485841,55.889881,55.774791,55.811953,55.815666,55.728601,55.820642,55.833713,55.723379,55.73662,55.673148,55.807602,55.789902,55.788525,55.737806,55.69451,55.715773,55.810117,55.862717,55.62883,55.695672,55.6935979314771,55.736412,55.883404,55.618679,55.878056,55.736503,55.789902,55.695875,55.809444,55.647783,55.691435,55.693155,55.744211,55.789902,55.746791,55.755864,55.729108,55.64664,55.681712,55.721919,55.681509,55.612599,55.790221,55.721924,55.757339,55.881722,55.772411,55.7343931428192,55.784795,55.798196,55.706883,55.823216,55.844041,55.832267,55.677468,55.822953,55.82663,55.764551,55.734202,55.724368,55.747368,55.821097,55.807193,55.795322,55.775707,55.675113,55.724981,55.792863,55.834057,55.638475,55.757339,55.785787,55.755246,55.709236,55.613433,55.690283,55.777105,55.891128,55.813152,55.71058,55.800494,55.708491,55.77517,55.757339,55.732139,55.755770964159346,55.709485,55.683919,55.809838,55.75593,55.731855,55.789902,55.673306,55.721919,55.766785,55.650028,55.757653,55.812777,55.72501378257136,55.66469,55.751761,55.750783,55.795322,55.748311,55.771418,55.791248,55.771418,55.689136,55.673717,55.807956,55.780993,55.793586,55.677763,55.687015,55.703079,55.796693,55.771494,55.772072,55.864449,55.722218,55.728368,55.750783,55.875617,55.685878,55.797119,55.721919,55.743928,55.664649,55.613433,55.740867,55.657723,55.834082,55.775484,55.742737,55.771418,55.821426,55.755864,55.759861,55.807463915539,55.719419,55.619574,55.845855,55.836403,55.675113,55.696138,55.865333,55.612599,55.771165,55.654157,55.771418,55.769231,55.653319,55.746223,55.782071,55.769585,55.73778,55.867324,55.772416,55.874809,55.763057,55.71116893185504,55.803611,55.747079,55.800453,55.672691,55.720195,55.755864,55.720885,55.845855,55.810112,55.764754,55.789902,55.71307,55.725546,55.757339,55.845855,55.757506,55.857321,55.810117,55.60968,55.692125,55.721914,55.721919,55.757769,55.722801,55.809166,55.823161,55.734871,55.75399,55.710687,55.780319,55.810117,55.861954,55.752156,55.695682,55.78359,55.696362,55.733792,55.771418,55.721914,55.66076,55.805665,55.660531,55.799674,55.774305,55.788748,55.692125,55.625288,55.864611,55.625288,55.657723,55.813738,55.673184,55.705797,55.687015,55.753038,55.764759,55.736412,55.625288,55.721914,55.757339,55.845855,55.757339,55.625288,55.792807,55.728469,55.782076,55.7337,55.751923,55.726117,55.748924,55.612599,55.845855,55.673306,55.810117,55.708927,55.810117,55.771418,55.721914,55.858129,55.809474,55.757339,55.867526,55.789902,55.789902,55.833637,55.751416,55.771418,55.721914,55.797756,55.756589,55.721914,55.625288,55.804268,55.755864,55.693043,55.728469,55.690882,55.792807,55.724124,55.774305,55.689415,55.758949,55.674575,55.863576,55.865531,55.811771,55.712868,55.692125,55.722673702111116,55.691892,55.768061,55.731739,55.719419,55.782871,55.746335,55.73777,55.773363,55.795322,55.810117,55.755864,55.794421,55.771418,55.753215,55.839224,55.746791,55.721919,55.721914,55.789902,55.659932,55.854062,55.721914,55.647554,55.869071,55.786009,55.625288,55.750783,55.789902,55.740867,55.625288,55.845855,55.875223,55.759841,55.810117,55.755819,55.771418,55.759344,55.630868,55.78283,55.721919,55.746791,55.664857,55.897614,55.746405,55.755211,55.875183,55.788991,55.753215,55.758802,55.810117,55.690882,55.721914,55.639034,55.710692,55.845855,55.736179,55.757339,55.800453,55.789902,55.77637,55.790231,55.658256,55.775591,55.755864,55.690882,55.756969,55.625288,55.753215,55.809717,55.789902,55.857321,55.757339,55.662334,55.721914,55.755819,55.807463915539,55.757339,55.721919,55.810117,55.810117,55.811235,55.752587,55.757339,55.632825,55.845855,55.789957,55.816844,55.625288,55.779818,55.789902,55.721914,55.648042,55.738596,55.664649,55.750312,55.810117,55.810117,55.875617,55.690882,55.792807,55.757339,55.791643,55.674138,55.807602,55.765402,55.845855,55.664649,55.848897,55.810117,55.692125,55.679697,55.779818,55.887473,55.757339,55.810117,55.746335,55.729873,55.652796,55.759496,55.705797,55.749646,55.789902,55.757339,55.721914,55.78034,55.721919,55.691892,55.721919,55.764906,55.821097,55.779818,55.662928,55.723465,55.810117,55.720246,55.807463915539,55.753215,55.781469,55.651049,55.748924,55.731739,55.731739,55.795322,55.789902,55.757339,55.647178,55.753215,55.772067,55.805346,55.778952,55.70214,55.706168,55.807463915539,55.645842,55.732965,55.735256,55.690882,55.789902,55.721919,55.789902,55.757339,55.654137,55.757339,55.731739,55.755864,55.757339,55.757339,55.721914,55.753215,55.625288,55.684889,55.692125,55.789902,55.677468,55.839891,55.648042,55.789902,55.810117,55.810117,55.670067,55.721919,55.691435,55.625288,55.738591,55.731739,55.625288,55.710768,55.721914,55.731739,55.732965,55.746791,55.724216,55.827262,55.850995,55.79098,55.680001,55.681534,55.810117,55.637718,55.748924,55.74723295660558,55.732139,55.657961,55.664857,55.748924,55.748924,55.722801,55.721914,55.844041,55.731739,55.807602,55.728469,55.757339,55.810117,55.664852,55.748924,55.803499,55.810117,55.692125,55.830326,55.771418,55.721914,55.794371,55.619589,55.651049,55.625288,55.7956,55.810117,55.721919,55.721919,55.623829,55.697285,55.664649,55.845855,55.71413,55.759203,55.771418,55.785604,55.789957,55.690877,55.721914,55.810117,55.845855,55.748924,55.821097,55.746791,55.692125,55.705818,55.757339,55.692125,55.741303,55.690877,55.845855,55.692125,55.660318,55.708491,55.737015,55.845855,55.807602,55.82574,55.807463915539,55.724459,55.757339,55.804192,55.804116,55.775327,55.69384,55.807463915539,55.721914,55.721919,55.739742,55.740867,55.754329,55.7322,55.845855,55.691892,55.690877,55.737973,55.86503,55.678626,55.731739,55.82173,55.807463915539,55.785043,55.697615,55.731739,55.746791,55.746791,55.705295,55.690283,55.691892,55.775459,55.748924,55.639176,55.778051,55.6809,55.731739,55.625288,55.636737,55.76249,55.776669,55.692125,55.741627,55.771418,55.664857,55.626213,55.823095,55.676895,55.744622,55.692125,55.685878,55.757339,55.808832,55.721914,55.685853,55.721219,55.692125,55.732965,55.625288,55.807602,55.691892,55.625288,55.664857,55.721914,55.852258,55.753615,55.690877,55.637759,55.721914,55.692125,55.762394,55.752035058426515,55.682651,55.769094,55.767691,55.776836,55.768694,55.77317,55.749162,55.758509,55.754203,55.773413,55.780218,55.762171,55.769135,55.729579,55.765954,55.722157,55.747272,55.779565,55.74114,55.780147,55.82041,55.743988,55.753438,55.804853162251895,55.759856,55.678042,55.624286,55.748402,55.75937,55.764561,55.765412,55.772411,55.741146087646484,55.737005,55.683123,55.681752,55.756913,55.743988,55.779474,55.774213,55.764141,55.749582,55.767276,55.671641,55.73182,55.788692,55.795433,55.708030700683594,55.725331,55.808059855080764,55.715677,55.720418,55.708729,55.751148,55.79103,55.737507,55.753215,55.756584,55.80909,55.692754,55.770806,55.879495,55.861555,55.88565,55.690278,55.744637,55.76758541107183,55.800914,55.668239,55.823838,55.724667,55.731901,55.74678,55.844374,55.70285,55.727582,55.845855,55.690283,55.737527,55.694358,55.74559,55.652725,55.691765,55.80772399902344,55.772249,55.752739,55.736164,55.708729,55.682651,55.615426,55.776532,55.705742,55.734643,55.857766,55.739387,55.71839,55.745245,55.88565,55.797862,55.786252,55.643978,55.78997253264382,55.719166,55.76996,55.735626,55.704413,55.783165,55.827641,55.725164,55.811007,55.749646,55.75209,55.79103,55.749646,55.620647,55.762449,55.738571,55.75584711200045,55.753311,55.705042,55.823216,55.753468,55.81609,55.75238374856835,55.738596,55.821578,55.85578,55.792478,55.600918,55.804081,55.72731144649454,55.661689,55.727805,55.764794,55.681732,55.799907,55.6224365234375,55.889841,55.75123318489651,55.612329,55.760444,55.757278,55.791081,55.703479,55.705042,55.67583500941333,55.792361,55.862681,55.74033,55.805093,55.753215,55.825482,55.613961,55.771145,55.756994,55.725164,55.727658,55.746203,55.738591,55.773413,55.74185,55.728079,55.786602,55.690106,55.703789,55.843404,55.809171,55.738596,55.780816,55.753215,55.726031,55.737826,55.856356,55.780218,55.721655,55.743988,55.753215,55.809712,55.75421513819531,55.756969,55.682701,55.708496,55.805796,55.65079,55.60102,55.612182,55.828015,55.771297,55.832955,55.744637,55.782491,55.757339,55.853541,55.770664,55.682651,55.796167,55.753215,55.857008,55.698285,55.746968,55.682184,55.749451,55.755864,55.803479,55.863091,55.636107,55.731531,55.77271,55.737568,55.754694,55.80046337083229,55.7832,55.734856,55.757121,55.747317,55.753438,55.757146,55.790464,55.747069,55.724124,55.749826,55.69407385652748,55.644145,55.708009,55.811619,55.74906,55.75322,55.708729,55.670021,55.752815,55.829633,55.756584,55.847189,55.809206,55.851106,55.79021,55.750808,55.73735,55.760955,55.763868,55.850995,55.746203,55.69830747206199,55.743183,55.727775,55.632205,55.69185496097125,55.6777980019531,55.753215,55.790458,55.746218,55.77355,55.854997,55.758293582524786,55.683498,55.735849,55.851884,55.737304,55.757957,55.766131,55.747622,55.83964492233113,55.865025,55.711067,55.763422,55.83115,55.743928,55.7969983865164,55.7696949992446,55.727851,55.71018,55.780891826549954,55.756705,55.875804,55.681732,55.743771,55.77123269345155,55.694363,55.76094,55.67559,55.73963,55.778654,55.638475,55.784233,55.783195,55.769676,55.77435,55.807921,55.692475,55.807602,55.799477,55.752683,55.622085,55.849388,55.705037,55.771596,55.75056,55.743117,55.690283,55.757582,55.745863,55.863303,55.69587,55.680311,55.725204,55.750535,55.73054259222856,55.65883,55.75859,55.713106,55.736802,55.838132,55.754203,55.744774,55.739549,55.821032,55.618649,55.73259,55.845855,55.750479,55.804617,55.720418,55.706371,55.740309,55.713225627567546,55.649368,55.706883,55.786019,55.740999,55.741652,55.693931,55.893354,55.656377,55.876637,55.612329,55.822276,55.7536,55.796172,55.723739,55.77734895011401,55.747485,55.793186,55.770178,55.790231,55.780216217041016,55.763807,55.682706,55.871602,55.777282,55.75132,55.767514,55.749461,55.74563,55.76214,55.754411,55.712589,55.703124,55.690283,55.667828,55.783372,55.743674,55.893723,55.722801,55.656158,55.793566,55.790231,55.85052,55.783914,55.851106,55.769292,55.850995,55.844041,55.76996,55.86208,55.622278,55.740309,55.757698,55.84629,55.727328,55.708039,55.780213,55.76409,55.687766,55.778137,55.844041,55.771166511870284,55.707299,55.755864,55.600918,55.756903,55.821578,55.636311,55.811007,55.645878,55.738049,55.890987,55.726446,55.723328,55.705488,55.625288,55.70882,55.678915,55.648926,55.783195,55.649164,55.759106,55.753468,55.756842,55.742706,55.781499,55.653319,55.753433,55.723856,55.628871,55.850499,55.746927,55.764693147947256,55.727932,55.762161,55.884418,55.699441,55.739225,55.615329,55.727927,55.804182,55.717001,55.763057,55.774482,55.745726,55.662222,55.686345,55.694114,55.741328,55.750028,55.796294,55.790231,55.70561,55.64238385619448,55.760661,55.790231,55.756994,55.705351,55.662227,55.663146,55.753215,55.761725,55.863303,55.757957,55.760256,55.74906,55.699558,55.809343,55.715682,55.683386,55.612329,55.659967,55.650323,55.705042,55.753124,55.715606,55.755439,55.654462,55.756513,55.751366,55.76326,55.739108,55.705295,55.633013,55.612329,55.839891,55.782744,55.730482,55.727425,55.896852,55.768127,55.779666,55.72088,55.836049,55.802153,55.865066,55.844895,55.770785,55.751665,55.86754601030782,55.838,55.73410217945511,55.73883,55.760444,55.749646,55.752946,55.732357,55.703875,55.876637,55.807805,55.82753,55.838132,55.654452,55.707152,55.888296,55.823211,55.755687,55.744632,55.71622,55.640609,55.612182,55.73182,55.76169,55.795403,55.794614,55.749486,55.74597,55.7864637954086,55.764693147947256,55.675798,55.758549,55.753215,55.783514,55.747368,55.879561,55.761907,55.727927,55.732945,55.778963,55.659124,55.727161,55.730395,55.814639,55.749633,55.838,55.720819,55.782319,55.726127,55.849367,55.604605,55.796167,55.731189133195436,55.640497627130316,55.747115,55.826417,55.869794,55.69431123891857,55.838,55.810966,55.743968,55.834451,55.757339,55.73182,55.664395,55.732413,55.74521,55.621719,55.875971,55.753747,55.803469,55.783195,55.67836957769015,55.863171,55.74332,55.612182,55.65946,55.818953,55.663629,55.682651,55.821032,55.766921,55.64991760253906,55.621409,55.749451,55.819312,55.744632,55.754861,55.84024,55.718775,55.708734,55.758949,55.780583,55.780324,55.821315,55.640604,55.810799,55.800979,55.895045,55.655158,55.749669352619925,55.777251,55.81648,55.724053,55.766749,55.761695,55.655158,55.875804,55.82937,55.621673,55.894495,55.783914,55.747368,55.726639,55.760038,55.855078,55.723004,55.866031,55.811563,55.803631,55.847422,55.824533,55.693043,55.86947,55.766749,55.74637,55.749669352619925,55.719455,55.791071,55.896968,55.766218,55.755763,55.74564,55.849423,55.735854,55.677484,55.738591,55.636107,55.772416,55.72875662553482,55.867879,55.740867,55.746167,55.803975,55.74637,55.762373,55.699162,55.74145,55.850408,55.684498,55.612329,55.743401,55.770264,55.653309,55.753534,55.761948,55.754284,55.760474,55.792701,55.863833,55.727927,55.696362,55.761948,55.86495,55.729138,55.606827,55.789922,55.79728,55.773353,55.823216,55.783195,55.821012,55.74263,55.744632,55.736128,55.682321,55.761036,55.647473,55.651994,55.799047,55.810966,55.792488,55.6632334397,55.731146,55.887937,55.764475,55.764764,55.845855,55.755267,55.807602,55.757604418685226,55.75322,55.719338,55.754841,55.822508,55.787761,55.817628,55.670574,55.710692,55.863212,55.713654,55.747368,55.768127,55.758864766071376,55.691963,55.748067,55.815312,55.702942,55.706447,55.712142,55.839881,55.738404,55.749147,55.74637,55.822878,55.734151,55.695799,55.799047,55.879192,55.723328,55.776132,55.735849,55.68942,55.677336,55.806059,55.788991,55.796167,55.826417,55.751675,55.788905,55.804294,55.875425,55.714668,55.792483,55.8232137038235,55.737826,55.788216,55.818923,55.790231,55.743705,55.857745,55.646955,55.773672,55.748731,55.783195,55.856361,55.757339,55.726872,55.676915,55.67691,55.796405,55.617644170462306,55.620891,55.844597,55.811007,55.605165,55.613961,55.867879,55.758949,55.790018,55.646635,55.768881,55.818923,55.712112,55.789684,55.771768,55.718821,55.623254,55.613326,55.801318,55.75052,55.649281,55.674169,55.706371,55.637886,55.745468,55.729858,55.75205,55.725595,55.755783,55.807961,55.697691,55.683696,55.670021,55.661445,55.725894,55.688741,55.845855,55.733984,55.611114,55.897322,55.612329,55.616209,55.691958,55.61269,55.722213,55.638597,55.721219,55.693444,55.7131706,55.790231,55.705463,55.737715,55.721265,55.779849,55.756584,55.713106,55.78815383166443,55.663146,55.790464,55.714151,55.6683388,55.875965,55.76446,55.8513276,55.642748,55.743649,55.800448,55.714151,55.640604,55.757794,55.814705,55.741759,55.623864,55.792938,55.847978,55.72053,55.612329,55.66439,55.754,55.808832,55.867915,55.638318,55.755804,55.7528,55.67655,55.74597,55.738784,55.777768,55.788991,55.805042,55.772861,55.796167,55.850995,55.692612,55.73733330094077,55.809717,55.797377,55.863833,55.753215,55.724525,55.889926,55.727293,55.885575,55.728241,55.630436720861,55.669149833742715,55.656199,55.67691,55.740289,55.894969,55.81648,55.797644,55.802153,55.682793,55.794097,55.676301,55.700035,55.867672,55.647117,55.64983,55.821745,55.612182,55.78321,55.753615,55.8926037,55.828015,55.659647,55.689634,55.675565,55.843692,55.717847,55.892385,55.714395829848925,55.70916,55.701262,55.691734,55.823216,55.616076,55.889881,55.74906,55.771915,55.744637,55.743831,55.664827,55.60968,55.89769,55.764754,55.813703,55.77435,55.84724,55.682173,55.686345,55.771459,55.84724,55.757339,55.761411,55.789704,55.844041,55.686497,55.854289,55.763467,55.655273137689704,55.647346,55.691958,55.786602,55.763133,55.761512,55.777393,55.747368,55.791172,55.772492,55.775864,55.665081,55.752105,55.668259,55.793176,55.84724,55.791805,55.677646,55.790231,55.764764,55.67223,55.839724,55.754076,55.714151,55.694358,55.65354122874148,55.836049,55.845451,55.863166,55.707446,55.793283,55.794254,55.675123,55.6354265,55.693155,55.679143,55.79516,55.6733932,55.807435,55.879243,55.758407,55.652796,55.68226,55.61813,55.6561018,55.628728,55.898376,55.70073,55.766212,55.617434,55.731065,55.658586,55.646071,55.650043,55.8600384710255,55.776132,55.640111,55.753215,55.744019,55.771459,55.878273,55.798019,55.67793,55.8499499,55.81648,55.74073,55.7492611,55.783944,55.744632,55.717589,55.64983,55.833349,55.667873,55.710692,55.794624,55.778375,55.772112,55.768076,55.74108,55.641229,55.797392,55.7769509,55.903625,55.772097,55.76482,55.694369438501475,55.646914,55.864631,55.845784,55.682808,55.720819,55.776026,55.779717,55.7324515,55.7363176,55.715606,55.821573,55.888119,55.674514,55.756123,55.638318,55.810966,55.718278,55.706771,55.748356,55.77712,55.723785,55.657291,55.735991,55.744059,55.750216,55.678499,55.622436,55.85052,55.625349,55.7832891,55.654802,55.7587971,55.706883,55.7127696,55.784374,55.886029,55.81648,55.74637,55.6823,55.744059,55.682179,55.839224,55.629562,55.737507,55.76996,55.773702,55.684018,55.71124,55.808235,55.798672,55.743928,55.865369,55.88557,55.621409,55.757339,55.79013,55.803691,55.810966,55.75322,55.778926,55.789881,55.888296,55.868339,55.755864,55.689223,55.761381,55.65146,55.75808,55.660429,55.754076,55.771844,55.770775,55.723785,55.727166,55.754076,55.7241539,55.753215,55.867374,55.712528,55.820578,55.716813,55.695844,55.612329,55.768659,55.670077,55.678108,55.843889,55.77472,55.819661,55.784622,55.716711,55.821345,55.675473,55.748356,55.723785,55.662308,55.754076,55.729858,55.772112,55.749162,55.741434,55.83848,55.662501,55.868339,55.890987,55.649261,55.7428508,55.747368,55.70846,55.70445799010796,55.689461,55.80123,55.75437,55.710687,55.750211,55.808452,55.663019,55.84724,55.789704,55.710687,55.731658,55.763857,55.788444,55.658586,55.657723,55.746172,55.747034,55.773231,55.757384,55.738591,55.8093324035597,55.771707,55.737568,55.839613,55.688741,55.661821,55.708030700683594,55.813703,55.7701109,55.752481,55.656682,55.789957,55.795069,55.817648,55.65366,55.7956412,55.628307,55.892824,55.738404,55.772411,55.734785,55.611119,55.790448,55.772735,55.737061,55.741338,55.612111,55.772492,55.770076,55.81258,55.8076915,55.651384,55.718907,55.701262,55.8093324035597,55.720819,55.759851,55.708511,55.782562,55.875678,55.739458,55.7751491,55.757308,55.729006,55.67691,55.661445,55.636636,55.677341,55.624444,55.732195,55.634446,55.631519,55.752531,55.851263,55.746765,55.846133,55.755864,55.6867573,55.791248,55.780284,55.747368,55.810648,55.6790243,55.715606,55.695875,55.850408,55.823211,55.808827,55.849792,55.759086,55.805452,55.714668,55.693703,55.693703,55.792807,55.737157,55.712634,55.71807,55.803671,55.64574,55.752379,55.701262,55.8621951,55.693297,55.70076,55.693297,55.844748,55.791071,55.855179,55.670574,55.85912,55.710692,55.708734,55.738591,55.652364,55.706786,55.8078,55.700725,55.88557,55.612182,55.73259,55.612182,55.612329,55.790231,55.745402,55.765843,55.755864,55.89345,55.814705,55.769135,55.612217,55.832909,55.863833,55.739524,55.758038,55.775722,55.67756,55.656138,55.750819,55.781119,55.755586,55.826918,55.728094,55.818169,55.748356,55.764764,55.818169,55.612182,55.616076,55.612182,55.823211,55.611307,55.747363,55.653319,55.738759,55.879324,55.885575,55.795778,55.722598,55.78099488021231,55.755267,55.73908421550486,55.6903054,55.783195,55.75975,55.808366,55.663867,55.702589,55.755783,55.7404759,55.894969,55.863833,55.701262,55.747363,55.70846,55.7891839,55.84724,55.847978,55.776021,55.774381,55.793622,55.754269,55.758088,55.776907,55.786602,55.652004,55.730426,55.803671,55.754,55.7216089,55.749162,55.656357,55.703416365271984,55.844748,55.707202,55.800979,55.763741,55.74185,55.729873,55.70422,55.6482369,55.738596,55.81648,55.847978,55.756123,55.778375,55.778375,55.793434,55.849792,55.854997,55.764065,55.774796,55.658439,55.834446,55.758468,55.647305,55.75745,55.789211725272956,55.737061,55.898689,55.691963,55.746405,55.747642,55.6825267,55.8811344,55.705863,55.790312,55.7049,55.721822,55.894217,55.693297,55.790231,55.861156,55.61995,55.781641,55.648616,55.6799193,55.670574,55.708841,55.782198,55.832889,55.740553,55.701262,55.743066,55.62421,55.738819,55.75589727607349,55.793951,55.823211,55.621719,55.772502,55.759821,55.642774,55.729868,55.612182,55.612500585605275,55.825285,55.81648,55.678945,55.757582,55.743522,55.772178,55.78148542865907,55.736311,55.709622,55.780745,55.682651,55.72347,55.690106,55.759446,55.826417,55.762019,55.837515,55.678458,55.760434,55.720819,55.761259,55.755825,55.860726,55.722659,55.679605,55.82674048915555,55.86106,55.801435,55.807850612901994,55.70461,55.681686,55.840442,55.712589,55.733695,55.781312,55.830176,55.659429,55.733574,55.630721,55.684528,55.65625,55.806555,55.752192,55.613209,55.843101,55.694358,55.811675,55.740563,55.864086,55.708841,55.850408,55.706573,55.787695,55.648214,55.736199,55.807774,55.749451,55.743928,55.714191,55.758372,55.656412,55.65158825005069,55.730416,55.636107,55.679265,55.690222,55.813167,55.843555,55.765493,55.811685,55.612111,55.707644,55.783706,55.824501,55.756766,55.665477,55.656682,55.753772,55.753255,55.80448485246767,55.767879,55.675108,55.72342,55.855179,55.652888,55.707441,55.671641,55.732023,55.762434,55.792721,55.72055,55.818291,55.643835,55.628678,55.661049,55.877642,55.650439,55.7209,55.795069,55.743426,55.881768,55.714911,55.707182,55.868319,55.73376114534474,55.723922,55.8188510796065,55.735778,55.77795,55.70632,55.797159,55.675382,55.806424,55.743928,55.814553,55.782825,55.720307,55.850838,55.731257,55.746324,55.771879,55.747115,55.784374,55.850439,55.838147,55.705026,55.686015,55.811953,55.724667,55.766663,55.704509,55.749618,55.610845,55.70918,55.850515,55.78148542865907,55.639187,55.749339,55.685812,55.712776,55.758407,55.65578375327043,55.704473,55.713365,55.80442,55.750884,55.643139,55.748179,55.843121,55.814588,55.863207,55.781995,55.77717,55.772335,55.851904,55.708841,55.784774,55.742306,55.76279656098921,55.73182,55.820111,55.673311,55.771418,55.779428,55.703525,55.776011,55.8118769592117,55.614053,55.736351,55.793829,55.722593,55.726157,55.824309,55.70285,55.867955,55.846345,55.716042,55.689989,55.65655,55.813152,55.846396,55.78567,55.881025,55.742245,55.670524,55.847861,55.752541,55.75132,55.746233,55.726548,55.709322,55.748934,55.76238250732422,55.799608,55.716022,55.827641,55.727582,55.8982,55.794254302978516,55.721128,55.775459,55.705483,55.758372,55.737922,55.635985,55.739823,55.750418,55.642357,55.737785,55.757009,55.88236980166446,55.709105063599566,55.811563,55.836231,55.746963,55.821097,55.772097,55.796719,55.743588,55.866788,55.811685,55.782825,55.65079,55.736138,55.771393,55.838961,55.683092,55.798935,55.812853,55.613687,55.812555,55.62301,55.884853,55.694002,55.705427,55.718172,55.823014,55.829183,55.741434,55.734243,55.740026,55.836539,55.694358,55.689035,55.799087,55.726071,55.70669,55.844041,55.746481,55.772563,55.755348,55.743517,55.850515,55.891204,55.742706,55.76721,55.751908,55.788044,55.867293,55.715418,55.637164,55.789694,55.67292,55.795069,55.74597,55.757009,55.809171,55.710915,55.653136,55.777287,55.871819,55.704808,55.659404,55.7832,55.711706,55.813658,55.761254,55.870718,55.808513,55.748123,55.742113,55.678519,55.721189,55.770451,55.772968,55.656158,55.823985,55.670077,55.670498,55.702034,55.660272,55.680864,55.782825,55.699310302734375,55.8349663080005,55.799507,55.765493,55.827788,55.796223,55.689146,55.679285,55.743928,55.666051,55.693551,55.67559,55.649667,55.861989,55.784405,55.678362,55.751665,55.682706,55.843404,55.800914,55.80613,55.672016,55.761497,55.76130676269531,55.654269,55.756817,55.738596,55.736235,55.774872,55.832803,55.674311,55.610845,55.720793,55.610845,55.684072,55.897327,55.732651,55.784172,55.630721,55.818291,55.653223,55.705037,55.841347,55.885292,55.74449,55.788545,55.884479,55.733193,55.742311,55.770178,55.731739,55.75667,55.847346,55.764171,55.722674,55.726264,55.816551,55.794922,55.701785,55.788576,55.75015,55.73182,55.727582,55.747622,55.864611,55.662593,55.772102,55.754,55.87481903109348,55.657672,55.81424170882929,55.799047,55.770588,55.826149,55.901652,55.702064,55.664857,55.76285,55.773849,55.867384,55.812054,55.69762,55.901652,55.808022,55.787761,55.634181,55.708912,55.77038,55.621719,55.811295,55.727876,55.748822,55.89287,55.771393,55.884418,55.838268,55.755864,55.890512,55.770755,55.844909456932086,55.678418,55.780162,55.79014,55.735474,55.789208,55.712507,55.772264,55.733781,55.77619275563933,55.802831,55.765726,55.799603,55.759618,55.707441,55.677666,55.697661,55.659932,55.75132,55.809206,55.758443,55.718537,55.838263,55.649312,55.771079,55.803691,55.73883,55.608989,55.728489,55.750788,55.809494,55.698193,55.867384,55.807592,55.898205,55.857523,55.614053,55.773429,55.749633,55.639425,55.669823,55.682640075683594,55.765265,55.794381,55.727232,55.811619,55.688324,55.772178,55.753929,55.788353,55.675067,55.798874,55.629531,55.633033,55.758407,55.738282,55.787447,55.711635,55.781448,55.831231,55.785918,55.846345,55.766121,55.846022,55.825017,55.675748,55.82677360736269,55.791081,55.736681,55.831089,55.758924,55.774664,55.753843,55.727709,55.654884,55.613433,55.750965,55.841165,55.877713,55.686284,55.688969,55.86946,55.734278,55.669336,55.77038,55.75667,55.765027,55.724677,55.729062,55.686015,55.737446,55.733574,55.753529,55.820546,55.656158,55.745326,55.775297,55.725093,55.771742,55.654782,55.866182,55.661308,55.794522,55.653121,55.695002,55.708922,55.757009,55.750535,55.733107,55.803595,55.627239,55.632652,55.863146,55.691765,55.755864,55.791977,55.799765,55.60102,55.880278,55.805579,55.873163,55.713846,55.846396,55.654543,55.751756,55.7621,55.791486,55.698021,55.733062,55.80865,55.846138,55.708044,55.780441,55.703251,55.738059,55.786505,55.677524,55.726345,55.738596,55.797159,55.803924,55.627239,55.802432,55.77194,55.637942,55.734075,55.735018,55.671874,55.81212,55.647051,55.755343,55.800726,55.837343,55.780623,55.801283,55.7216702979338,55.703652,55.675682,55.709388,55.76802871978208,55.784881,55.706594,55.758909,55.694358,55.786192,55.735596,55.734567,55.862353,55.78732,55.77674940381172,55.721047,55.746248,55.815696,55.782481,55.787003659944325,55.803261,55.884868,55.727516,55.745316,55.842342,55.746132,55.825891,55.705026,55.6487507766697,55.814679,55.687015,55.65691,55.656158,55.720154,55.807668,55.640111,55.721295,55.73182,55.741571,55.81126,55.820561,55.727709,55.628871,55.702618472870455,55.6741916669324,55.867541,55.691712863630315,55.78118,55.708582,55.799036,55.749633,55.610845,55.766126,55.757729,55.734922,55.79183,55.854138,55.898205,55.771393,55.742311,55.7943,55.705894,55.867541,55.811128,55.70918,55.878273,55.843525,55.805649,55.810395,55.764334,55.789892,55.71019,55.820111,55.714044,55.884868,55.69455,55.784136,55.735854,55.70860482804927,55.739562780456716,55.770168,55.757339,55.675245,55.807972,55.887725,55.721295,55.884868,55.848518,55.658662,55.749248,55.793247,55.727207,55.831064,55.845643,55.82677360736269,55.756569,55.695408,55.629094,55.884868,55.88616,55.710697,55.749646,55.782491,55.775079,55.773925,55.739975,55.803853,55.736904,55.763594,55.604102,55.756548,55.626147,55.861464,55.802204,55.882883,55.786009,55.764769,55.733234,55.712452,55.777434,55.71159,55.73441,55.721047,55.732433,55.772097,55.88928,55.758949,55.778735,55.758737,55.695677,55.810678,55.754907,55.625786,55.755864,55.743558,55.848539,55.841205,55.649312,55.741434,55.675108,55.686736,55.777798,55.737061,55.706371,55.609467,55.7993,55.716808,55.785118,55.737836,55.774527,55.766866,55.82395,55.829183,55.811007,55.727232,55.760049,55.716022,55.708648,55.73259,55.728981,55.684447,55.640111,55.610845,55.78239624881108,55.81609,55.751366,55.664075,55.784172,55.85678,55.723866,55.705858,55.688116,55.713669,55.82801,55.711863,55.850272,55.711863,55.673199,55.847437,55.80397,55.699157,55.789892,55.885862,55.786505,55.609467,55.67225,55.749476,55.775272,55.783514,55.684509061076035,55.820556,55.830569,55.860928,55.724124,55.657748,55.666944,55.780988,55.822276,55.745433,55.681214,55.783195,55.802796,55.76285,55.722025,55.81864,55.729615,55.776294,55.702952,55.845855,55.746228,55.814396,55.654137,55.763174,55.79014,55.61356,55.823343,55.684077,55.650028,55.75092315673828,55.772436,55.80146,55.757009,55.777059,55.649825,55.730477,55.784,55.672021,55.82677360736269,55.858887,55.68655776977539,55.854891,55.80061,55.871223,55.705894,55.656153,55.8592,55.773494,55.761826,55.718354,55.735317,55.851465,55.736169,55.643134,55.815716,55.789461,55.654376,55.751801,55.783944,55.713988,55.694358,55.804486,55.668224,55.690537,55.793313,55.73182,55.761811,55.728241,55.639578,55.771054,55.628871,55.860337,55.705858,55.844627,55.74905644939987,55.737466,55.639187,55.69762,55.766121,55.604097,55.7249,55.770178,55.804461,55.78728,55.749633,55.708831,55.675113,55.846618,55.727683,55.741556,55.752511,55.642753,55.851359,55.895161,55.733898,55.649063,55.691927,55.758017,55.727582,55.754481,55.691455,55.77633,55.821097,55.755657,55.719571,55.647412,55.851465,55.709322,55.669336,55.650439,55.814892,55.788454,55.722142,55.612599,55.775327,55.620992,55.755864,55.794391,55.794851,55.678869,55.820202,55.760786,55.739975,55.739564,55.699467,55.708303,55.790231,55.816713,55.77038,55.829183,55.819985,55.789461,55.70774,55.75475,55.641869,55.711412,55.775393,55.888745,55.74826,55.724697,55.790494,55.836999,55.756341,55.628032,55.727673,55.81609,55.86947,55.769509,55.660084,55.750656,55.740487,55.795444,55.772644,55.661333,55.643155,55.869794,55.692181,55.867597,55.693627,55.71949,55.860565,55.657672,55.746,55.84980654813252,55.867157,55.797534,55.785888,55.760818,55.840442,55.749646,55.75896,55.705858,55.710849,55.749646,55.836615,55.708354,55.836772,55.861411172406704,55.654386,55.781626,55.705422,55.734075,55.706644,55.847189,55.643134,55.879243,55.81864,55.612182,55.760266,55.762277,55.666218,55.817542,55.783554,55.672488,55.724961,55.870248,55.711356,55.839375,55.665741,55.766491,55.791405,55.675108,55.79790337525754,55.695875,55.850646,55.669224,55.684452,55.720413,55.727303,55.734309,55.869794,55.643551,55.790838,55.713674,55.738079,55.754709,55.803899,55.724626,55.654569,55.676108,55.752815,55.75826,55.708354,55.654061,55.764729,55.753666,55.736154,55.886569,55.646188,55.669656,55.722766,55.754203,55.755449,55.850196,55.769909,55.739975,55.695403,55.677605,55.793632,55.790018,55.742159,55.75060291137248,55.755864,55.669194,55.898376,55.791582,55.747774,55.749633,55.787811,55.666056,55.613616,55.647051,55.711995,55.630345,55.74725069423801,55.7445,55.749532,55.736681,55.666431,55.764572,55.71019,55.765595,55.804491,55.785599,55.647539,55.70005,55.772097,55.848953,55.71019,55.725732,55.623254,55.888296,55.657403,55.799765,55.772279,55.70881,55.75671,55.772097,55.77196,55.702865,55.74333,55.785341,55.675113,55.746025,55.792149,55.66631,55.784,55.621623,55.748311,55.701176,55.721954,55.769955,55.734309,55.839992,55.7496452331543,55.831312,55.67691,55.726325,55.866682,55.810648,55.654462,55.677717,55.77037,55.675108,55.679783,55.79014,55.772512,55.756589,55.783514,55.732131239906735,55.743517,55.754644,55.802083,55.741759,55.826625,55.727298,55.66049,55.73146,55.673275,55.805776,55.790043,55.781676,55.733959,55.749511,55.733234,55.718202,55.85576,55.766121,55.662034,55.73182,55.713106,55.70846,55.7264332601731,55.726315,55.744318,55.755864,55.771393,55.767995,55.807415,55.812373,55.764065,55.710124,55.666274,55.814553,55.740867,55.712776,55.648875,55.676113,55.776011,55.688269,55.884711,55.815312,55.711032,55.64122204337004,55.768274,55.74767109142865,55.814892,55.760786,55.758397,55.72849867309503,55.790534,55.69761,55.747312,55.650277,55.715134,55.76854246398392,55.708841,55.66046,55.875965,55.764749,55.710398,55.631554,55.733574,55.844359,55.686629,55.826417,55.77595,55.799047,55.709236,55.771241,55.736473,55.722679,55.718106,55.733903,55.725757,55.875935,55.732651,55.647219,55.749248,55.77595,55.810359,55.711371,55.748235,55.7095,55.745808,55.74185,55.749633,55.733563,55.789709,55.703682,55.729138,55.7496452331543,55.713507,55.716022,55.654193,55.771682,55.708308,55.739838,55.748883,55.880965,55.764794,55.621668,55.756822,55.68766,55.826963,55.723922,55.866056,55.670021,55.81045,55.727511,55.764197,55.788464,55.749162,55.650439,55.755809,55.838501,55.764739,55.757273,55.79388,55.802917,55.775424,55.682224,55.813081,55.755864,55.810896,55.749364,55.714795,55.733888,55.679783,55.754520684853475,55.724662,55.78486,55.675108,55.717335,55.795752,55.73925,55.628113,55.78973,55.774213,55.636107,55.807501,55.803783,55.653172,55.625572,55.799497,55.683082,55.83479822273942,55.8982,55.867314,55.756873,55.708308,55.807602,55.725093,55.661389,55.763158,55.670021,55.721665,55.71304,55.731632,55.671575,55.656809,55.8982,55.636107,55.86357,55.734623,55.820177,55.647422,55.723247,55.693043,55.865748,55.727293,55.703515,55.676149,55.7832,55.755864,55.685137,55.639192,55.793586,55.681686,55.80608,55.702059,55.79013,55.754299,55.661333,55.81781,55.800909,55.732276,55.864217,55.723415,55.792498,55.730705,55.792807,55.712776,55.745392,55.798166,55.804359,55.751432,55.736179,55.85294,55.769195,55.724662,55.744637,55.712589,55.788338,55.814376,55.816819,55.758215,55.675869,55.648931,55.79013,55.730527,55.798662,55.758412,55.729422,55.706563,55.800448,55.604605,55.815494,55.809717,55.885292,55.898205,55.712791,55.772887,55.798014,55.884418,55.771028,55.728175,55.714795,55.824177,55.830262092616884,55.769793,55.696971,55.700567,55.842823,55.680707,55.830574,55.755373,55.673311,55.707415,55.636402,55.708283,55.753387,55.843985,55.724662,55.738287,55.649815,55.774229,55.72347,55.742564,55.741348,55.738809,55.800448,55.752703,55.67058,55.898205,55.770284,55.769636,55.675108,55.639212,55.736356,55.741804,55.715616,55.610845,55.660064,55.784774,55.743938,55.770188,55.886155,55.792377,55.776927,55.650145,55.731307486757956,55.664268,55.742727,55.629775,55.788338,55.707943,55.775849,55.762161,55.73404,55.803697,55.773505,55.7496452331543,55.708303,55.755864,55.695682,55.750358,55.645725,55.778254,55.675443,55.853349,55.613687,55.639192,55.726269,55.826898,55.623259,55.616849,55.70772,55.829896,55.693992,55.710656,55.615807,55.731070143108994,55.867314,55.617342,55.6928,55.804025,55.727511,55.735261,55.654193,55.616829,55.700567,55.696174,55.702252,55.682706,55.657946,55.703834,55.755864,55.727511,55.784091,55.709287,55.711016,55.744683,55.847169,55.82801,55.687188,55.815655,55.839815,55.753413,55.768613,55.65015,55.708475,55.654046,55.852051,55.696976,55.789082,55.800605,55.751538,55.773079370501485,55.606309,55.679219,55.760201,55.7914414673287,55.788991,55.752972,55.718912,55.661333,55.807668,55.638114,55.687188,55.863091,55.715418,55.727516,55.849974,55.854062,55.84261,55.710418,55.768699,55.712305,55.882828,55.72414,55.69761,55.707816,55.77838,55.710129,55.753904,55.8982,55.712791,55.863565,55.764744,55.788338,55.673306,55.754608,55.788338,55.677864,55.607977,55.687949,55.671991,55.66929,55.759476,55.738753,55.756766,55.755348,55.664187,55.702901,55.836701,55.727232,55.75283,55.815099,55.755864,55.637535,55.810299,55.765144,55.707644,55.660607,55.64267356467638,55.732276,55.780152,55.729062,55.717837,55.865339,55.755864,55.886761,55.839881,55.649815,55.676331,55.77432,55.886807,55.809712,55.870819,55.797518,55.663954,55.700567,55.67389,55.614533665260694,55.709992,55.628678,55.730603,55.713988,55.770223,55.708354,55.777439,55.854436,55.898205,55.757941,55.732342,55.781104,55.856225,55.788991,55.761284,55.767706,55.745863,55.667772,55.751031,55.71271,55.769038,55.73664,55.734866,55.809661,55.701293,55.898205,55.881641,55.765017,55.61179,55.891441,55.714323,55.753413,55.748179,55.784121,55.791386061439745,55.71591,55.839886,55.748154,55.802831,55.856391,55.791486,55.685122,55.816227,55.732276,55.762161,55.77912,55.680707,55.661318,55.761371,55.84024,55.71271,55.791582,55.813222,55.7249,55.648225,55.758732,55.863207,55.856563,55.727719,55.766916,55.832146,55.850439,55.751097,55.764794,55.793581,55.649378,55.708912,55.740765,55.720834,55.734293,55.736681,55.705351,55.755864,55.710235,55.719592,55.891441,55.706371,55.657007,55.622324,55.882737,55.671778,55.699436,55.816359,55.788905,55.60786,55.775535,55.858155,55.788991,55.763751,55.74789,55.821391,55.792301,55.804359,55.628678,55.65306635140329,55.786313,55.659551,55.805579,55.719166,55.728003,55.736138,55.821032,55.844895,55.748138,55.85008,55.681686,55.756513,55.840034311261036,55.746436,55.777915,55.755864,55.854421,55.747485,55.88928,55.703297,55.74112,55.710235,55.640172,55.724408,55.837667,55.756822,55.70772,55.613433,55.761685,55.708841,55.849534,55.759709,55.727719,55.671869,55.706771,55.656915,55.74597,55.738171,55.85008,55.699269,55.726284,55.612477,55.786991,55.735621,55.70881,55.722304,55.770968,55.680986,55.732327,55.679285,55.748376,55.839815,55.811427,55.710362,55.753215,55.732656,55.883484,55.719815,55.87892,55.874723,55.650094,55.681686,55.649312,55.639578,55.719338,55.75213213459712,55.81514,55.770152,55.846345,55.88923,55.704083,55.710824,55.747485,55.751244,55.697661,55.840897,55.840624,55.870642,55.768182,55.802194,55.757582,55.657007,55.640045,55.849974,55.770623,55.69762,55.795322,55.770983,55.752355,55.652888,55.841372,55.755864,55.759684,55.891345,55.809024,55.723577,55.863212,55.682645,55.765088,55.643978,55.699446,55.604097,55.640736,55.733969,55.831231,55.816359,55.752805,55.71446,55.874506,55.792807,55.650439,55.818397,55.889502,55.798201,55.722771,55.670498,55.731029,55.764956,55.808801,55.803074,55.85296,55.649936,55.682179,55.79118595494416,55.739904,55.643622,55.707816,55.811771,55.723567,55.870415,55.841347,55.746593,55.612599,55.693414,55.682625,55.668909,55.809962,55.706533,55.692323,55.695383,55.718659,55.885171,55.691765,55.724079,55.751452,55.730897,55.79386,55.622273,55.683386,55.654193,55.755864,55.785599,55.805887,55.705224,55.720388,55.610845,55.757055,55.607977,55.705158,55.806429,55.813829,55.751107,55.732905,55.79599,55.818877,55.775535,55.623254,55.805042,55.649312,55.718537,55.689009,55.712791,55.800134,55.659932,55.70245,55.836929,55.799133,55.755864,55.853976,55.723207,55.757648,55.784,55.804127,55.706416,55.700349,55.65237,55.706619,55.613433,55.708841,55.76053,55.612599,55.79013,55.699999,55.70285,55.818417,55.694616,55.683082,55.797913,55.663121,55.733457,55.691998,55.835776,55.785149,55.706325,55.704499,55.862757,55.682356,55.885292,55.712492,55.612599,55.622273,55.708582,55.700557,55.659409,55.703408,55.801966,55.854891,55.698863,55.61748,55.812555,55.85959,55.790494,55.863833,55.797296,55.628113,55.646391,55.613087,55.643185,55.749395,55.671696,55.673905,55.751538,55.675118,55.703799,55.79476,55.693414,55.68612162849958,55.628871,55.842221,55.800792,55.683848,55.692972,55.802432,55.776927,55.766126,55.635869,55.757941,55.733457,55.689409573991966,55.841205,55.785118,55.79721,55.845259,55.729534,55.716798,55.673306,55.750226,55.713324,55.727704,55.89483498960836,55.659932,55.81136858643689,55.679336,55.75322,55.6366,55.610845,55.788991,55.800281,55.715601,55.783595,55.702368,55.867581,55.745073,55.8202018737793,55.723328,55.687015,55.8118769592117,55.738607,55.674819,55.721853,55.692323,55.659495,55.780598,55.849408,55.892168,55.755864,55.676108,55.671443,55.810896,55.821097,55.820202,55.74339,55.755864,55.808801,55.661912,55.803788,55.677925,55.832916259765625,55.761821,55.784157,55.735621,55.715276,55.777155,55.6733102419489,55.726396,55.844895,55.886433,55.745701,55.688933,55.685122,55.74823,55.861411172406704,55.708095,55.760707,55.69761,55.697661,55.733254,55.654548,55.657103,55.65272,55.745113,55.773505,55.818564,55.66351877255831,55.749633,55.811862,55.746365,55.745113,55.867738,55.707233,55.628871,55.720798,55.735317,55.674544,55.663146,55.809874,55.70772,55.763974,55.808285,55.648875,55.836701,55.839249,55.682645,55.618649,55.882904,55.791486,55.788991,55.692957,55.726396,55.698858,55.81868,55.718912,55.658256,55.729696,55.643978,55.736681,55.706756,55.848488,55.613433,55.734993,55.791749,55.664187,55.728925,55.658622,55.770537,55.742423,55.643978,55.710362,55.831646,55.725037,55.662334,55.622278,55.758407,55.718441,55.677864,55.688329,55.71517,55.851359,55.74222,55.609543,55.770026,55.82268,55.622273,55.689009,55.619574,55.613433,55.819985,55.7633,55.758407,55.879028324541366,55.733254,55.679864,55.786743,55.708841,55.697975,55.783853,55.733229,55.863207,55.794624,55.678747,55.759132,55.817797,55.675108,55.799507,55.736853,55.773241,55.819327,55.781215,55.726264,55.650551,55.613433,55.794968,55.811007,55.674544,55.884868,55.771464,55.878809,55.624977,55.790453,55.773808,55.698163,55.7824,55.850499,55.63837814331055,55.86601,55.643713,55.75582593750569,55.757242,55.724302,55.752967,55.748934,55.790534,55.842893,55.714217,55.703038,55.746785,55.674357,55.604102,55.721265,55.639578,55.791997,55.792534,55.726396,55.754644,55.850515,55.875763,55.7869,55.88781420482051,55.767509,55.851839,55.617917,55.686264,55.7832,55.875965,55.65691,55.643134,55.706563,55.725169,55.708831,55.731257,55.70696500826417,55.665614,55.735647,55.657103,55.75475,55.700953,55.648931,55.643185,55.853895,55.711863,55.645751,55.695002,55.753564,55.848877,55.682651,55.747495,55.722847,55.812934,55.787336,55.870794,55.802401,55.817411,55.639222,55.854891,55.85718,55.875965,55.74691557536853,55.708831,55.809712,55.704184,55.754466,55.693444,55.763837,55.818923,55.82712,55.837089421862494,55.845643,55.768699,55.884444,55.818645,55.63784,55.717847,55.705858,55.659409,55.799755,55.885862,55.786505,55.85718,55.829183,55.851293,55.727014,55.67325,55.760975,55.729625,55.891915,55.811432,55.695383,55.639947570496034,55.670077,55.751421,55.891915,55.726264,55.804951,55.684072,55.735084,55.699807,55.706264,55.818645,55.631773,55.720099,55.727709,55.729625,55.84636,55.755864,55.661912,55.735094,55.837662,55.791086,55.729954,55.731536,55.822964,55.697189,55.708030700683594,55.803697,55.774188,55.833612,55.861393,55.701029,55.65691,55.689035,55.800438,55.708407,55.608012,55.845643,55.786521,55.65465,55.719277,55.882727,55.760403,55.685802,55.854416,55.748392,55.656235,55.696362,55.829183,55.748392,55.753267520135566,55.821558,55.771084,55.807617,55.656235,55.753706,55.82669,55.806965,55.792225,55.877758,55.873198,55.81424170882929,55.88513,55.783625,55.829183,55.792589,55.875965,55.870794,55.757901,55.637535,55.744647,55.662334,55.856265,55.73958,55.739255,55.788368,55.611607,55.848887,55.740398657514106,55.656773,55.878273,55.657672,55.741845351624875,55.684097,55.720149,55.685802,55.772664,55.64828,55.812681,55.75667,55.64828,55.662334,55.889881,55.863399,55.735647,55.737203,55.818665,55.658535,55.656937894101965,55.70005,55.850515,55.776796,55.739539],\"legendgroup\":\"\",\"lon\":[37.691728,37.556388,37.652822,37.482439,37.501312,37.608428,37.622369,37.494377,37.688557,37.569351,37.53747,37.565668,37.58068691003381,37.646210761901465,37.713243,37.570599,37.588979,37.529412,37.6236,37.45866,37.539742,37.620267,37.522207,37.597917,37.645411,37.706739,37.5812,37.723026,37.634479,37.592384,37.654044,37.533499,37.61615127116343,37.764079,37.564482,37.768444,37.499372,37.600181,37.603011,37.682269,37.507708,37.589859,37.702346,37.617941,37.432061,37.63189581640657,37.55867,37.50204,37.581253,37.631451,37.648483,37.590542,37.617698,37.551654,37.637299,37.640848,37.78651,37.380363,37.771319,37.731488,37.577229,37.641045,37.559856,37.687722,37.591027,37.566072,37.702355,37.74154,37.380363,37.674579,37.566081,37.730958,37.610745,37.594584,37.49957,37.62846,37.486086,37.62368,37.591279,37.644477,37.598869,37.636536,37.545492,37.60752,37.587362,37.633634,37.622378,37.601169,37.622226,37.545492,37.582403,37.666953,37.500486,37.47978,37.578568,37.683194,37.581173,37.653873,37.647657,37.771319,37.62758,37.567446,37.421551,37.87089124784953,37.603011,37.589734,37.800227,37.619603,37.481945,37.690893,37.585035,37.568057,37.5342,37.576816,37.652157,37.619603,37.493317,37.679044,37.636338,37.6865,37.62758,37.587937,37.625334,37.58517,37.636338,37.432115,37.678523,37.606829,37.64683,37.584829,37.550738,37.537434,37.664635,37.583373,37.502786,37.60557573547326,37.637587,37.5956,37.587362,37.671013,37.837543,37.397216,37.598968,37.655544,37.622531,37.4781,37.581173,37.723026,37.505699695770176,37.635305,37.673825,37.558212,37.733563,37.769522,37.74481,37.679053,37.641045,37.593075,37.73694,37.448456,37.658796,37.70638,37.594719,37.652319,37.574148,37.566072,37.620824,37.670932,37.617887,37.639922,37.7062,37.526708,37.618866,37.472917,37.747505,37.581307,37.658796,37.652705,37.615776,37.641045,37.414364,37.526708,37.577966,37.593237,37.606627023442655,37.423617,37.76513,37.637919,37.622504,37.532637,37.67988,37.592007803640904,37.581307,37.800694,37.648483,37.430426,37.445383,37.641045,37.881291,37.63899612426758,37.555651,37.578532,37.441844,37.722163,37.594135,37.670914,37.519315,37.773771,37.607116,37.683302,37.573537,37.62899,37.612254,37.530041,37.619638,37.558077,37.651861,37.685197,37.639339,37.722163,37.6547,37.676214,37.611554,37.587569,37.525827,37.7062,37.724732,37.519171,37.771903,37.625828,37.625172,37.820403,37.679008,37.411427,37.757665,37.37562,37.701762,37.553505,37.630544,37.619764,37.380363,37.752365,37.630248,37.727346,37.709156,37.604565,37.455085,37.662093,37.604565,37.693184,37.723475,37.588853,37.545581,37.798107,37.569926,37.685386,37.698771,37.494449,37.71389,37.704547,37.709156,37.643129,37.659326,37.617698,37.772235,37.622513,37.655544,37.550244,37.489666,37.520797,37.601421,37.554026,37.530041,37.771319,37.730958,37.801413,37.522126,37.430426,37.659173,37.527947,37.581173,37.429959,37.636311,37.566548,37.534811,37.630535,37.474381,37.592411,37.673969,37.520491,37.49003,37.586904,37.608984,37.616629,37.539374,37.605508,37.752149,37.630535,37.578262,37.550567,37.617644,37.604484,37.432061,37.494449,37.760584,37.743471,37.618866,37.41114,37.750801,37.630535,37.783734,37.4800343,37.542949,37.663773,37.606263,37.444422,37.637003,37.803973,37.444548,37.622226,37.849886,37.57492,37.617887,37.626322,37.622504,37.676214,37.403118,37.439284,37.670079,37.537254,37.6547,37.617644,37.735395,37.500432,37.679044,37.705967,37.486778,37.752158,37.532664,37.539697,37.672837,37.586122,37.771319,37.617698,37.618866,37.723079,37.580714,37.495078,37.441431,37.554493,37.692177,37.534263,37.5418248,37.416619,37.546048,37.470419,37.449012,37.675109,37.678290280456075,37.584227,37.622513,37.407492,37.705967,37.608113,37.66265,37.393766,37.474911,37.397449,37.47969,37.420401,37.753101,37.561068,37.62493,37.849886,37.578055,37.653334,37.536778,37.611455,37.570599,37.432483,37.80620193481445,37.621884,37.5933,37.863531,37.511463,37.64975,37.49003,37.592994,37.537847,37.5933,37.508346,37.542949,37.71115,37.585143,37.526636,37.586904,37.791461,37.410708,37.678218,37.521524,37.752158,37.47969,37.635125,37.622747,37.617698,37.662093,37.652616,37.41635,37.697612,37.617698,37.601358,37.80620193481445,37.62077,37.626843,37.644899,37.659173,37.750801,37.617698,37.6607,37.684317,37.73005344411067,37.73995,37.559388,37.76513,37.402749,37.590965365943646,37.537676,37.650334,37.636374,37.635206,37.623636,37.642042,37.568686,37.783949,37.399111,37.432483,37.635422,37.586904,37.706407,37.486598,37.422575,37.744747,37.739941,37.680625,37.512946,37.425054,37.56280005318672,37.621767,37.679448,37.583149,37.507915,37.590075,37.586904,37.664905,37.453333,37.481154,37.599911,37.727921,37.578109,37.586904,37.540991,37.617698,37.680607,37.47969,37.516449,37.684326,37.654538,37.604565,37.544638,37.624157,37.659173,37.488844,37.679044,37.6191855386916,37.684632,37.389481,37.592096,37.497468,37.66265,37.450189,37.651816,37.589347,37.6607,37.403791,37.618866,37.709443,37.707107,37.641045,37.588521,37.771319,37.6547,37.501654,37.687084,37.682727,37.410879,37.637362,37.659173,37.49877,37.625612,37.625091,37.630544,37.601879,37.523716,37.619378,37.620824,37.59286,37.719423,37.659631,37.483104,37.659173,37.39568,37.63821242637067,37.675047,37.550567,37.73995,37.681982,37.664033,37.586904,37.432115,37.684326,37.641423,37.743471,37.507367,37.59851,37.732780954294526,37.578262,37.514068,37.771984,37.771319,37.534263,37.53031,37.559388,37.53031,37.568084,37.794343,37.511508,37.668067,37.493326,37.620267,37.607089,37.495087,37.464985,37.592797,37.663162,37.629888,37.726376,37.569153,37.771984,37.622163,37.431828,37.576995,37.684326,37.568102,37.63314,37.630544,37.416619,37.43278,37.5236,37.676214,37.502875,37.53031,37.864618,37.617698,37.610557,37.5059357301634,37.67387,37.752158,37.662093,37.575693,37.501654,37.591189,37.465802,37.604565,37.881785,37.716405,37.530301,37.583373,37.646139,37.565389,37.705293,37.491269,37.628541,37.680365,37.4743,37.720537,37.508894,37.67650612170344,37.550226,37.536589,37.594584,37.610592,37.626241,37.617698,37.387226,37.662093,37.739941,37.561392,37.586904,37.732386,37.685197,37.659173,37.662093,37.852006,37.585673,37.739941,37.720106,37.598699,37.684317,37.684326,37.406864,37.674993,37.541126,37.50089,37.668983,37.760845,37.6751,37.632098,37.739941,37.687704,37.588548,37.498402,37.56017,37.824553,37.411005,37.53031,37.684317,37.54356,37.413367,37.741827,37.62007,37.520357,37.472171,37.598699,37.761339,37.484846,37.761339,37.43278,37.60284,37.750451,37.656353,37.607089,37.635009,37.561401,37.621767,37.761339,37.684317,37.659173,37.662093,37.659173,37.761339,37.586122,37.61291,37.704125,37.391745,37.859309,37.674535,37.542949,37.604565,37.662093,37.432115,37.739941,37.60452,37.739941,37.53031,37.684317,37.585583,37.464571,37.659173,37.493353,37.586904,37.586904,37.504124,37.772217,37.530301,37.684317,37.791495,37.588233,37.684317,37.761339,37.83209,37.617698,37.49047,37.61291,37.478145,37.586122,37.825155,37.520357,37.576501,37.620681,37.760234,37.673286,37.704889,37.639339,37.615866,37.598699,37.67485927514597,37.479007,37.678406,37.393766,37.67387,37.729619,37.539401,37.584236,37.533068,37.771319,37.739941,37.617698,37.586518,37.530301,37.622504,37.668408,37.540991,37.684326,37.684317,37.586904,37.549184,37.497198,37.684317,37.724732,37.497414,37.473348,37.761339,37.771984,37.586904,37.416619,37.761339,37.662093,37.490497,37.630122,37.739941,37.617644,37.53031,37.650334,37.601358,37.726089,37.684326,37.540991,37.631936,37.578873,37.682592,37.519404,37.715803,37.67988,37.622504,37.642698,37.739941,37.478145,37.684317,37.759228,37.675109,37.662093,37.533194,37.659173,37.594584,37.586904,37.535017,37.53128,37.429959,37.521524,37.617698,37.478145,37.615524,37.761339,37.622504,37.798592,37.586904,37.585673,37.659173,37.605715,37.684317,37.617644,37.5059357301634,37.659173,37.684326,37.739941,37.739941,37.837201,37.702355,37.659173,37.765911,37.662093,37.678541,37.735395,37.761339,37.48137,37.586904,37.684317,37.627948,37.411014,37.63314,37.773161,37.739941,37.739941,37.622163,37.478145,37.586122,37.659173,37.810018,37.661653,37.581262,37.669818,37.662093,37.63314,37.537254,37.739941,37.598699,37.724885,37.666225,37.661536,37.659173,37.739941,37.539401,37.730437,37.606703,37.609874,37.656353,37.62368,37.586904,37.659173,37.684317,37.713926,37.684326,37.479007,37.684326,37.557008,37.641045,37.666225,37.582592,37.610269,37.739941,37.421614,37.5059357301634,37.622504,37.561068,37.469431,37.542949,37.393766,37.393766,37.771319,37.586904,37.659173,37.746885,37.622504,37.663162,37.417967,37.533032,37.795574,37.578801,37.5059357301634,37.472494,37.663099,37.829961,37.478145,37.586904,37.684326,37.586904,37.659173,37.555876,37.659173,37.393766,37.617698,37.659173,37.659173,37.684317,37.622504,37.761339,37.855285,37.598699,37.586904,37.651816,37.486796,37.627948,37.586904,37.739941,37.739941,37.453495,37.684326,37.599911,37.761339,37.411005,37.393766,37.761339,37.475872,37.684317,37.393766,37.663099,37.540991,37.571282,37.446794,37.597414,37.634182,37.525432,37.652616,37.739941,37.757485,37.542949,37.536558290665916,37.39568,37.431199,37.631936,37.542949,37.542949,37.674984,37.684317,37.66265,37.393766,37.581262,37.61291,37.659173,37.739941,37.631936,37.542949,37.566584,37.739941,37.598699,37.489347,37.53031,37.684317,37.583859,37.627912,37.469431,37.761339,37.706667,37.739941,37.684326,37.684326,37.608014,37.529286,37.63314,37.662093,37.521048,37.758743,37.53031,37.665551,37.678541,37.478136,37.684317,37.739941,37.662093,37.542949,37.641045,37.540991,37.598699,37.679466,37.659173,37.598699,37.598339,37.478136,37.662093,37.598699,37.468488,37.659631,37.435187,37.662093,37.581262,37.436382,37.5059357301634,37.717824,37.659173,37.513368,37.601888,37.534254,37.507583,37.5059357301634,37.684317,37.684326,37.655041,37.416619,37.752454,37.620878,37.662093,37.479007,37.478136,37.852266,37.474228,37.560511,37.393766,37.660269,37.5059357301634,37.46423,37.806856,37.393766,37.540991,37.540991,37.86151,37.601879,37.479007,37.491682,37.542949,37.513008,37.526528,37.524309,37.393766,37.761339,37.598968,37.51626,37.53305,37.598699,37.495994,37.530301,37.631936,37.510161,37.65585,37.761545,37.562182,37.598699,37.431828,37.659173,37.463772,37.684317,37.43181,37.524705,37.598699,37.663099,37.761339,37.581262,37.479007,37.761339,37.631936,37.684317,37.646633,37.713189,37.478136,37.456936,37.684317,37.598699,37.578684,37.64452591538429,37.661913,37.577157,37.695007,37.688494,37.586104,37.677643,37.539742,37.641045,37.556388,37.594513,37.593084,37.701358,37.494521,37.632987,37.609694,37.651556,37.605283,37.601421,37.502786,37.590964,37.758644,37.567455,37.612299,37.589909211669095,37.596112,37.630966,37.72829,37.586607,37.6441,37.610512,37.796544,37.679044,37.59346389770508,37.627696,37.547701,37.49082,37.566054,37.567455,37.59189,37.62307,37.60257,37.59957,37.565461,37.554843,37.637003,37.567033,37.617141,37.500972747802734,37.573717,37.638421558012425,37.552166,37.378791,37.622091,37.655239,37.808761,37.51838,37.622504,37.647531,37.482439,37.384558,37.564212,37.539886,37.567114,37.68659,37.601879,37.566072,37.60241984292177,37.584146,37.534433,37.519728,37.63738,37.607763,37.659308,37.470806,37.648474,37.567716,37.662093,37.601879,37.505166,37.674579,37.665713,37.631254,37.662668,37.482940673828125,37.677984,37.818292,37.516925,37.622091,37.661922,37.682314,37.615749,37.666638,37.605768,37.515362,37.730562,37.388538,37.648385,37.68659,37.54966,37.720079,37.640452,37.63515426256542,37.629232,37.595914,37.587614,37.503352,37.569216,37.443066,37.658787,37.800901,37.62368,37.761806,37.808761,37.62368,37.507592,37.591916,37.58084,37.61467543718504,37.656227,37.639824,37.497468,37.639806,37.619477,37.60209072023729,37.411014,37.498725,37.477381,37.60496,37.609272,37.495437,37.53710043383691,37.481469,37.634056,37.638683,37.86522,37.531316,37.66758346557617,37.594153,37.52629518518051,37.605966,37.662353,37.648888,37.574525,37.763989,37.639824,37.506392890876306,37.527615,37.471192,37.5342,37.399929,37.622504,37.625513,37.731991,37.620177,37.661239,37.64745,37.569881,37.636437,37.411005,37.594513,37.609586,37.740049,37.533301,37.569306,37.425881,37.447369,37.611976,37.411014,37.613808,37.622504,37.575612,37.581029,37.653343,37.593084,37.610682,37.567455,37.622504,37.798583,37.63721488822073,37.615524,37.661329,37.455346,37.792654,37.587254,37.602526,37.607026,37.489401,37.666513,37.618552,37.566072,37.600603,37.659173,37.636446,37.625154,37.661922,37.715022,37.622504,37.610557,37.497872,37.657664,37.450252,37.542824,37.617698,37.390514,37.465883,37.656218,37.41864,37.663324,37.41193,37.621516,37.82698231796378,37.719423,37.560493,37.524076,37.581352,37.612299,37.62183,37.530409,37.680949,37.825155,37.665165,37.673878848629954,37.473492,37.5956,37.832252,37.539347,37.622513,37.622091,37.55248,37.874652,37.470455,37.647531,37.578424,37.780904,37.467131,37.472324,37.698609,37.693633,37.654376,37.617887,37.597414,37.636437,37.63665731697449,37.661743,37.571363,37.609326,37.549282425931835,37.5358032331349,37.622504,37.531011,37.56538,37.678963,37.653388,37.61338304882224,37.583886,37.829997,37.621947,37.540425,37.624543,37.531954,37.535071,37.488515525130865,37.581424,37.618507,37.592788,37.571776,37.568102,37.5799318624265,37.7162596871716,37.565901,37.599777,37.46934373247107,37.618372,37.665551,37.86522,37.568956,37.62038621230292,37.674588,37.601978,37.506038,37.589868,37.596489,37.650846,37.559541,37.620025,37.631936,37.653846,37.57351,37.561509,37.581262,37.814187,37.818283,37.621444,37.443111,37.639815,37.665336,37.478145,37.564132,37.601879,37.555651,37.837543,37.59109,37.664896,37.623483,37.709775,37.536526,37.63455682537742,37.73977,37.660045,37.844738,37.584865,37.534559,37.556388,37.659865,37.652957,37.386202,37.506541,37.600891,37.662093,37.597962,37.635116,37.378791,37.685341,37.593794,37.58945321097505,37.744118,37.592096,37.625558,37.609613,37.532547,37.66442,37.725765,37.760863,37.557628,37.605966,37.647037,37.621184,37.715022,37.828784,37.614998484043824,37.581307,37.635754,37.595501,37.53128,37.593082427978516,37.84499,37.66132,37.690111,37.586024,37.786887,37.58888,37.784767,37.775541,37.620411,37.729278,37.72387,37.506056,37.601879,37.746822,37.576708,37.863423,37.661284,37.674984,37.607978,37.613584,37.531289,37.439535,37.628685,37.467131,37.607116,37.597414,37.66265,37.595914,37.596722,37.608984,37.82865,37.634119,37.454852,37.472575,37.545743,37.593075,37.557834,37.573447,37.6024,37.66265,37.51626956564113,37.456828,37.617698,37.609272,37.694935,37.498725,37.521138,37.800901,37.526537,37.846679,37.608607,37.480543,37.564123,37.661626,37.761339,37.382106,37.746624,37.545141,37.719423,37.765094,37.552732,37.639806,37.408139,37.617734,37.614707,37.646139,37.612299,37.634586,37.633742,37.444422,37.679502,37.60620215211448,37.476169,37.6471,37.732152,37.757817,37.484442,37.710045,37.476169,37.546228,37.626097,37.564168,37.483014,37.671561,37.732665,37.850272,37.565955,37.657799,37.534406,37.620609,37.531289,37.68138,37.618975258929666,37.64639,37.531289,37.661239,37.817995,37.474318,37.482852,37.622504,37.619171,37.59109,37.624543,37.611446,37.539347,37.63111,37.455642,37.817969,37.622863,37.605966,37.599094,37.731236,37.639824,37.817115,37.81804,37.79993,37.647639,37.60646,37.756021,37.514985,37.656703,37.773134,37.521569,37.605966,37.486796,37.720816,37.644791,37.597756,37.617554,37.632709,37.590722,37.609344,37.624355,37.607619,37.658913,37.637946,37.662838,37.817169,37.70939511114461,37.576861,37.588946406429145,37.71804,37.653972,37.62368,37.715695,37.635521,37.623905,37.557628,37.638737,37.443641,37.534559,37.524166,37.585404,37.588683,37.497468,37.568354,37.566072,37.793373,37.606325,37.607026,37.637003,37.658536,37.617033,37.799418,37.59083,37.514958,37.7374103707467,37.60620215211448,37.661841,37.641036,37.622504,37.720232,37.707107,37.533697,37.622881,37.476169,37.535763,37.668264,37.755015,37.469871,37.41343,37.757368,37.537434,37.576861,37.610332,37.714348,37.589976,37.441628,37.65876,37.715022,37.72827441796818,37.60785533247466,37.539078,37.437307,37.664581,37.52973679894954,37.576861,37.80108,37.561625,37.57422,37.659173,37.637003,37.760647,37.640857,37.880015,37.611733,37.70187,37.789285,37.618848,37.620025,37.632021197587534,37.602148,37.83439,37.607026,37.750514,37.71327,37.483095,37.661922,37.386202,37.56556,37.52971649169922,37.713962,37.542824,37.746948,37.566072,37.665911,37.492024,37.824652,37.622091,37.620681,37.590677,37.558715,37.604933,37.663818,37.721651,37.531774,37.682188,37.762129,37.537025491468455,37.635107,37.702167,37.457798,37.624211,37.592348,37.762129,37.665542,37.451555,37.713827,37.607673,37.578801,37.707107,37.680104,37.625846,37.478082,37.575468,37.493668,37.604601,37.759677,37.434702,37.429534,37.49047,37.664204,37.624211,37.407133,37.537025491468455,37.608275,37.773053,37.55346,37.380875,37.61468,37.676852,37.438987,37.611895,37.755491,37.411005,37.656218,37.620519,37.615006623000056,37.662614,37.416619,37.720124,37.627328,37.407133,37.607898,37.806084,37.676035,37.44409,37.624085,37.605966,37.499282,37.632772,37.537901,37.662973,37.620887,37.659353,37.408507,37.578029,37.545581,37.476169,37.824553,37.620887,37.604026,37.859174,37.589536,37.677894,37.541027,37.605768,37.497468,37.719423,37.386184,37.663692,37.566072,37.410035,37.664141,37.519593,37.516898,37.62828,37.695402,37.80108,37.636123,37.6421923935,37.633068,37.611302,37.652966,37.639725,37.662093,37.657808,37.581253,37.65614216400081,37.715471,37.739447,37.674615,37.385753,37.781497,37.496839,37.449003,37.675109,37.604771,37.607655,37.707107,37.632709,37.64273286871695,37.527965,37.597261,37.512631,37.759991,37.61759,37.656631,37.486769,37.681937,37.716118,37.407133,37.606281,37.468605,37.485664,37.695402,37.595114,37.62122,37.655356,37.829997,37.60213,37.560889,37.513305,37.67988,37.715022,37.437307,37.817295,37.573133,37.483454,37.626834,37.790893,37.636123,37.497620238098,37.581029,37.787084,37.497791,37.531289,37.772226,37.497486,37.74843,37.676484,37.705455,37.719423,37.600406,37.659173,37.624992,37.50584,37.505831,37.800757,37.50657694829633,37.601627,37.637811,37.800901,37.590883,37.731991,37.662614,37.620681,37.615354,37.609488,37.620698,37.497791,37.620555,37.612641,37.579475,37.607933,37.625828,37.591377,37.506397,37.539401,37.746247,37.767834,37.685341,37.677661,37.631496,37.645699,37.598546,37.449677,37.696346,37.450647,37.498725,37.56989,37.55248,37.47704,37.526357,37.528882,37.662093,37.489877,37.606622,37.604484,37.605966,37.706461,37.527956,37.695214,37.630364,37.521542,37.524705,37.87308,37.6619293,37.531289,37.766145,37.66176,37.454753,37.666072,37.647531,37.844738,37.48363465618813,37.482852,37.530409,37.521066,37.545092,37.588108,37.605948,37.4212951,37.525827,37.508122,37.594584,37.521066,37.663818,37.406944,37.731856,37.628226,37.738378,37.579223,37.59038,37.615506,37.605966,37.760647,37.40592,37.463772,37.622441,37.539509,37.614608,37.832854,37.678164,37.514949,37.548375,37.643498,37.67988,37.514787,37.486302,37.715022,37.597414,37.533517,37.50387853967257,37.798592,37.777922,37.545581,37.622504,37.414948,37.594279,37.6251,37.602166,37.586563,37.6584069656064,37.660665241733305,37.492832,37.505831,37.617339,37.585592,37.702167,37.5832008,37.607619,37.780617,37.574112,37.763081,37.62369,37.592258,37.69145,37.770052,37.826763,37.607026,37.597854,37.713189,37.6667456,37.489401,37.749661,37.85833,37.475495,37.482627,37.681559,37.553612,37.60794664285256,37.595321,37.651592,37.728164,37.497468,37.613746,37.537676,37.539347,37.679808,37.566072,37.555993,37.62669,37.720106,37.602822,37.561392,37.486975,37.653846,37.630975,37.779314,37.850272,37.583131,37.630975,37.659164,37.540209,37.558212,37.66265,37.855096,37.433157,37.635305,37.715203370361074,37.518937,37.527956,37.533301,37.833132,37.631954,37.582215,37.707107,37.609407,37.632305,37.660413,37.481496,37.593992,37.563655,37.400998,37.630975,37.499938,37.664941,37.53128,37.639725,37.751978,37.486302,37.534011,37.521066,37.674579,37.60271862640601,37.624355,37.447512,37.602139,37.673564,37.489985,37.693237,37.72369,37.6719139,37.727921,37.644127,37.59392,37.6120921,37.448662,37.633068,37.751538,37.606703,37.60929,37.507484,37.6080221,37.599732,37.587344,37.631586,37.380875,37.506837,37.612461,37.471425,37.752571,37.529906,37.69210509786946,37.655356,37.532951,37.622504,37.866558,37.583131,37.480768,37.49983,37.562874,37.4873478,37.702167,37.416727,37.7506778,37.624642,37.566072,37.461005,37.770052,37.643165,37.466063,37.675109,37.494449,37.494449,37.682601,37.61441,37.631236,37.656173,37.486661,37.6868172,37.588314,37.435268,37.557179,37.67459001165666,37.746912,37.585278,37.477633,37.537029,37.582861,37.627912,37.636814,37.6354281,37.6956961,37.81804,37.498725,37.588781,37.574256,37.777077,37.539509,37.80108,37.660593,37.768444,37.571543,37.615982,37.578406,37.467536,37.467087,37.628065,37.718489,37.562757,37.667582,37.439535,37.508804,37.56486,37.441538,37.7088537,37.592096,37.6455472,37.531711,37.658356,37.702167,37.407133,37.726313,37.628065,37.450243,37.668399,37.616521,37.51838,37.595914,37.546004,37.4601736,37.612182,37.634964,37.49541,37.568102,37.475692,37.602166,37.713962,37.659173,37.380354,37.403118,37.80108,37.622513,37.6906376,37.623106,37.588683,37.613467,37.617698,37.604026,37.570186,37.488583,37.685017,37.48861,37.635664,37.708491,37.376626,37.578406,37.566818,37.534011,37.4018128,37.622504,37.688503,37.389122,37.5123344,37.607709,37.804934,37.605966,37.64922,37.554493,37.776008,37.585422,37.820385,37.832872,37.523186,37.792286,37.786141,37.469108,37.571543,37.578406,37.487658,37.534011,37.645699,37.68261,37.539742,37.657314,37.635844,37.605373,37.613467,37.608607,37.594638,37.4816486,37.707107,37.662084,37.65370843741693,37.482978,37.5367094,37.624965,37.6751,37.718489,37.799203,37.480993,37.630975,37.558212,37.6751,37.664779,37.560134,37.61936,37.471425,37.43278,37.683679,37.408948,37.619459,37.505463,37.411005,37.4540039583356,37.675882,37.631748,37.490694,37.528882,37.419925,37.500972747802734,37.486975,37.5729866,37.5004944,37.540075,37.678541,37.616485,37.402938,37.614365,37.6038278,37.675891,37.588808,37.681937,37.679044,37.824616,37.606622,37.680517,37.679457,37.468183,37.531127,37.611895,37.632305,37.620429,37.821454,37.7579799,37.612389,37.43499,37.651592,37.4540039583356,37.582861,37.645779,37.658643,37.633697,37.66707,37.566288,37.4831614,37.547387,37.622513,37.505831,37.477049,37.588233,37.765408,37.652822,37.662506,37.47359,37.516368,37.639842,37.680077,37.599031,37.662596,37.617698,37.7543326,37.559388,37.70302,37.707107,37.459469,37.6902795,37.81804,37.664905,37.44409,37.497468,37.463772,37.519773,37.521093,37.507178,37.790893,37.605858,37.605858,37.586122,37.430723,37.730652,37.67625,37.744927,37.472378,37.700137,37.651592,37.4474824,37.533984,37.571085,37.533984,37.575531,37.773053,37.652625,37.543084,37.437622,37.675109,37.622091,37.411005,37.587658,37.768462,37.638737,37.726269,37.602166,37.607026,37.600891,37.607026,37.605966,37.531289,37.65691,37.608167,37.617698,37.645097,37.731856,37.494521,37.718121,37.652427,37.545581,37.483328,37.572225,37.533113,37.493524,37.592788,37.832997,37.590461,37.681317,37.521605,37.560017,37.400971,37.571543,37.639725,37.400971,37.607026,37.613746,37.607026,37.497468,37.696741,37.707098,37.646139,37.593983,37.547342,37.602166,37.585026,37.702796,37.631097588693905,37.805168,37.49249390484076,37.6909371,37.719423,37.41979,37.713566,37.586131,37.7920351,37.567985,37.4980484,37.585601,37.545581,37.651592,37.707098,37.662084,37.59969,37.630975,37.59038,37.627885,37.538566,37.720474,37.673106,37.676295,37.628083,37.533301,37.546947,37.634793,37.744927,37.40592,37.8134768,37.539742,37.569351,37.47478912170335,37.575531,37.585583,37.531774,37.606281,37.629295,37.730437,37.645196,37.5371666,37.411014,37.702167,37.59038,37.777077,37.494449,37.494449,37.624633,37.519773,37.653388,37.48738,37.556316,37.839268,37.574211,37.65876,37.728442,37.659937,37.46860355686913,37.468183,37.674005,37.527965,37.682592,37.597486,37.6669445,37.5645521,37.82785,37.612865,37.673106,37.5136654,37.597522,37.533984,37.531289,37.643588,37.600513,37.675181,37.602966,37.6833928,37.449003,37.622612,37.729745,37.662228,37.417473,37.651592,37.766226,37.746463,37.538009,37.617672519014114,37.806416,37.497468,37.611742,37.608949,37.787677,37.535916,37.730437,37.607026,37.69667489814727,37.755922,37.702167,37.758401,37.555651,37.505508,37.662398,37.5544846514507,37.590497,37.624885,37.691297,37.661922,37.651825,37.569306,37.567419,37.437307,37.64542,37.442545,37.632287,37.586212,37.610332,37.609119,37.617298,37.656532,37.691701,37.550333,37.44487180737384,37.625352,37.592222,37.505699695770176,37.726385,37.633176,37.655526,37.72387,37.620052,37.543677,37.509168,37.644306,37.391071,37.62493,37.624103,37.724957,37.588224,37.821643,37.621264,37.445859,37.674579,37.640848,37.408382,37.484756,37.622621,37.44409,37.597091,37.732575,37.540856,37.712156,37.764573,37.542824,37.568102,37.670914,37.682619,37.72979,37.6515698981465,37.813423,37.656218,37.524103,37.625334,37.597863,37.579672,37.652849,37.729404,37.611895,37.749283,37.585718,37.780509,37.506056,37.547674,37.540075,37.74852,37.715552,37.58555069576994,37.674642,37.43499,37.696049,37.652625,37.828712,37.6047,37.554843,37.391296,37.656263,37.748897,37.635458,37.465398,37.635934,37.483903,37.722406,37.52068,37.683302,37.651268,37.616485,37.722163,37.601789,37.632484,37.657646,37.548339,37.66334664076567,37.653981,37.7378557249904,37.66397,37.670591,37.603011,37.51759,37.654269,37.593246,37.568102,37.693723,37.677831,37.76583,37.533526,37.669288,37.667555,37.465281,37.539078,37.727275,37.669181,37.520716,37.723672,37.611796,37.636374,37.63738,37.602373,37.512838,37.537371,37.718669,37.380929,37.439526,37.5544846514507,37.645258,37.606092,37.431882,37.420006,37.736617,37.54249368849886,37.653873,37.751637,37.647325,37.683949,37.628074,37.540245,37.491081,37.734165,37.582394,37.602139,37.607116,37.631505,37.670178,37.622612,37.62616,37.523743,37.62565997420422,37.637003,37.743085,37.432124,37.53031,37.666836,37.743804,37.5531,37.625773978595,37.616979,37.588503,37.601448,37.632035,37.57201,37.429303,37.648465,37.664186,37.64957,37.503998,37.583805,37.626088,37.620824,37.655544,37.484029,37.507116,37.585035,37.633814,37.635206,37.752212,37.786887,37.546093,37.513296,37.627103,37.763692,37.776206970214844,37.606954,37.64648,37.443066,37.630203,37.587362,37.79841232299805,37.766235,37.628406,37.661617,37.682619,37.748852,37.631649,37.783141,37.770906,37.526115,37.751718,37.631299,37.56105738161441,37.62618013491748,37.622953,37.550774,37.496569,37.641045,37.435268,37.578442,37.710431,37.667438,37.729404,37.677831,37.587254,37.591036,37.567392,37.450225,37.4402,37.531199,37.834875,37.585619,37.832827,37.70302,37.637856,37.426204,37.604223,37.667914,37.586356,37.444521,37.509173,37.39338,37.526295,37.633886,37.674579,37.624534,37.703281,37.778685,37.654987,37.66265,37.682619,37.676942,37.759533,37.722208,37.439526,37.590237,37.617734,37.59339,37.584901,37.583697,37.577184,37.646013,37.628262,37.786303,37.625181,37.616485,37.514958,37.631299,37.611976,37.747855,37.537973,37.551636,37.592959,37.597809,37.750451,37.719423,37.796283,37.717627,37.659712,37.713719,37.52466,37.755392,37.662623,37.693184,37.652301,37.517015,37.883977,37.607969,37.525091,37.554493,37.497575,37.74737,37.53985,37.530121,37.677831,37.80620193481445,37.50116201188466,37.612829,37.652849,37.409154,37.59984,37.854368,37.605858,37.568102,37.517761,37.625118,37.506038,37.745987,37.475639,37.673421,37.631757,37.817169,37.66132,37.447369,37.584146,37.568911,37.631631,37.612254,37.656288146972656,37.539392,37.632305,37.411014,37.721094,37.601609,37.518803,37.547594,37.718669,37.785737,37.718669,37.433535,37.604484,37.549381,37.709766,37.62493,37.465398,37.594504,37.639815,37.450998,37.553424,37.627831,37.785485,37.634865,37.550199,37.523743,37.595501,37.393766,37.763656,37.657826,37.726313,37.605813,37.716378,37.649328,37.651583,37.42235,37.678685,37.595564,37.637003,37.630203,37.535062,37.484846,37.640093,37.650684,37.40592,37.598467256884646,37.529412,37.500387375086284,37.695402,37.604897,37.626421,37.666638,37.438502,37.719064,37.6327,37.671462,37.581523,37.760369,37.424138,37.666638,37.635916,37.781506,37.62996,37.803865,37.401069,37.611742,37.600343,37.647019,37.765336,37.7267,37.567392,37.732152,37.447952,37.617698,37.634443,37.674049,37.666861513937796,37.632278,37.698232,37.661473,37.716387,37.664824,37.642923,37.664402,37.664428,37.48055599943747,37.583742,37.521884,37.740965,37.626762,37.6047,37.643641,37.430426,37.549184,37.786887,37.780904,37.549238,37.857638,37.411391,37.625172,37.873493,37.403118,37.71804,37.603693,37.416278,37.582448,37.733105,37.6198,37.581523,37.504924,37.587362,37.496345,37.616979,37.635251,37.537434,37.695205,37.52218,37.6333122253418,37.618758,37.609317,37.698852,37.832252,37.57051,37.622836,37.769172,37.567931,37.627301,37.560413,37.633194,37.517823,37.736617,37.631586,37.681146,37.592087,37.5827,37.44603,37.632646,37.64957,37.678846,37.657395,37.501941,37.452651,37.44487603346218,37.574525,37.705481,37.494907,37.863145,37.737435,37.749167,37.72687,37.830958,37.630535,37.677822,37.650433,37.646848,37.624022,37.572621,37.467275,37.548797,37.631622,37.401069,37.763647,37.617276,37.75417,37.631065,37.611796,37.657206,37.391071,37.751233,37.662461,37.626843,37.685638,37.632817,37.760045,37.679053,37.64834,37.581191,37.411526,37.593956,37.488215,37.422728,37.689995,37.631299,37.536526,37.697064,37.821571,37.630077,37.634443,37.582421,37.662668,37.617698,37.603244,37.794073,37.602526,37.713234,37.568506,37.66017,37.517015,37.655544,37.627059,37.514068,37.55867,37.581173,37.720322,37.750397,37.629403,37.657682,37.801179,37.712255,37.744612,37.662892,37.704143,37.607844,37.511733,37.411014,37.51759,37.582251,37.630077,37.800335,37.675127,37.641971,37.663584,37.555705,37.541045,37.626304,37.630598,37.608975,37.554933,37.549157,37.509999,37.56141,37.6483515717571,37.692546,37.76177,37.429815,37.850314362661635,37.473357,37.659685,37.586104,37.674579,37.582367,37.519539,37.551699,37.659299,37.662551,37.523338777476084,37.465721,37.591072,37.600172,37.597306,37.70555471274048,37.582466,37.545141,37.692177,37.885989,37.480633,37.580337,37.625343,37.723672,37.552206296958566,37.457205,37.607089,37.551564,37.607978,37.599983,37.597226,37.532951,37.727086,37.637003,37.566288,37.773268,37.52298,37.72687,37.633742,37.631253476195155,37.44067976876762,37.580184,37.429727728835964,37.578532,37.438224,37.532592,37.537434,37.718669,37.531954,37.667034,37.808967,37.597028,37.677265,37.587362,37.567392,37.523743,37.657718,37.613153,37.580184,37.862273,37.380929,37.480777,37.580948,37.641818,37.557906,37.793759,37.631388,37.721256,37.782701,37.670142,37.545141,37.651304,37.584074,37.830006,37.720785327493694,37.405199509501,37.660521,37.58508,37.617321,37.603514,37.675675,37.727086,37.545141,37.581864,37.759452,37.541027,37.489248,37.752257,37.634676,37.535511,37.44487603346218,37.738584,37.43154,37.485861,37.545141,37.628559,37.607448,37.62368,37.580481,37.504483,37.670618,37.788261,37.607412,37.618695,37.405893,37.607862,37.631388,37.525684,37.580409,37.724975,37.631002,37.473348,37.62095,37.697172,37.500773,37.693947,37.755302,37.59047,37.465721,37.401617,37.435268,37.578819,37.620681,37.614069,37.40672,37.498402,37.392517,37.556891,37.539814,37.617698,37.580903,37.583095,37.452507,37.625181,37.509173,37.43499,37.440496,37.607125,37.657143,37.685341,37.576322,37.560871,37.387711,37.659326,37.562604,37.587093,37.633526,37.440919,37.444521,37.800901,37.698852,37.579457,37.646489,37.720941,37.600891,37.646256,37.760288,37.532951,37.718669,37.59875264418024,37.619477,37.756021,37.755985,37.709766,37.529726,37.627005,37.725487,37.615677,37.695879,37.489392,37.437775,37.61565,37.437775,37.454932,37.590524,37.523653,37.806075,37.631388,37.575477,37.704143,37.576322,37.43728,37.683194,37.738629,37.720232,37.621987233134625,37.780338,37.485412,37.436409,37.825155,37.426582,37.705104,37.450019,37.647037,37.809542,37.667851,37.719423,37.607323,37.6327,37.471443,37.774867,37.664788,37.627265,37.648519,37.662093,37.546093,37.385861,37.555876,37.570168,37.661473,37.623052,37.503414,37.598187,37.743471,37.723419189453125,37.63835,37.63765,37.631299,37.480552,37.770043,37.590758,37.70231,37.583895,37.44487603346218,37.693992,37.70005416870117,37.476231,37.825892,37.553567,37.613153,37.626843,37.55142,37.712973,37.616045,37.606757,37.560125,37.496228,37.619441,37.638853,37.600145,37.551735,37.554627,37.675657,37.624642,37.718669,37.674579,37.580346,37.755859,37.658356,37.588296,37.637003,37.558715,37.586563,37.525208,37.658976,37.633742,37.578298,37.725487,37.578873,37.71366442858873,37.57104,37.645258,37.424138,37.678846,37.607862,37.687102,37.595501,37.607583,37.5198,37.537434,37.732593,37.501654,37.539688,37.684569,37.740004,37.831237,37.525827,37.575792,37.5577,37.711347,37.744944,37.624085,37.621561,37.630212,37.607933,37.623214,37.547396,37.641045,37.664545,37.629439,37.691603,37.496228,37.627103,37.631622,37.683302,37.574157,37.492221,37.618569,37.604565,37.534254,37.618974,37.617698,37.717474,37.739429,37.576735,37.816262,37.766839,37.788261,37.507349,37.625594,37.652822,37.531289,37.696516,37.401069,37.444521,37.778811,37.551735,37.625406,37.7608,37.801377,37.418299,37.601906,37.581352,37.734488,37.580238,37.771139,37.509909,37.375961,37.667582,37.715839,37.619477,37.664195,37.644917,37.520752,37.717348,37.706712,37.526896,37.50955,37.509352,37.674885,37.57691,37.49382,37.528172,37.674606,37.626726,37.483265,37.529412,37.392437,37.453897381614325,37.57581,37.50186,37.508921,37.58128,37.655526,37.62368,37.609254,37.725487,37.613198,37.62368,37.549821,37.652705,37.452435,37.5806482989801,37.554627,37.580894,37.600424,37.663584,37.462119,37.578424,37.638853,37.633068,37.774867,37.607026,37.650226,37.569899,37.640237,37.647486,37.734012,37.63146,37.784668,37.712363,37.683545,37.643058,37.620312,37.622333,37.808752,37.43499,37.60874955686896,37.664905,37.568282,37.581038,37.444224,37.378782,37.860603,37.4167,37.57691,37.511077,37.774319,37.695196,37.730338,37.713351,37.651044,37.387864,37.540542,37.625037,37.874652,37.585467,37.652705,37.687515,37.55478,37.719154,37.700568,37.513332,37.545824,37.512496,37.649319,37.556388,37.6266,37.539051,37.664599,37.788261,37.617411,37.696795,37.545087,37.737291,37.847388,37.65075299888849,37.617698,37.63164,37.587344,37.705607,37.566934,37.537434,37.640668,37.545824,37.618767,37.630598,37.858339,37.620627,37.54087457405882,37.688027,37.752598,37.705481,37.575343,37.515227,37.721256,37.364032,37.755715,37.7062,37.595555,37.695178,37.435268,37.619135,37.721265,37.682368,37.625828,37.588683,37.485331,37.794073,37.531819,37.700424,37.562533,37.435268,37.605724,37.834066,37.542392,37.708958,37.501654,37.801565,37.627786,37.706479,37.70231,37.622531,37.566458,37.42978,37.703829,37.658643,37.4167,37.44568,37.623680114746094,37.510457,37.505831,37.680931,37.579232,37.459469,37.647639,37.854656,37.524911,37.43499,37.469521,37.661473,37.585547,37.588233,37.720232,37.86071023809772,37.722208,37.76345,37.715812,37.698511,37.65364,37.479941,37.523555,37.568408,37.732736,37.540892,37.713027,37.715641,37.518749,37.537083,37.697172,37.672855,37.599615,37.678846,37.618686,37.637003,37.844738,37.662084,37.6809650932532,37.784911,37.738881,37.617698,37.567392,37.586176,37.456765,37.6319,37.48738,37.654601,37.575891,37.693723,37.416619,37.420006,37.536616,37.650002,37.5531,37.43039,37.628864,37.512631,37.436292,37.5485412239591,37.527507,37.53970216959715,37.574157,37.766839,37.631802,37.69044215344234,37.659254,37.424057,37.592518,37.620941,37.789429,37.59622000157833,37.622612,37.553136,37.588108,37.570141,37.590219,37.618992,37.391071,37.64259,37.4402,37.437316,37.691459,37.695402,37.625091,37.605885,37.598699,37.560826,37.399066,37.537964,37.637587,37.547728,37.66503,37.493353,37.541027,37.691459,37.65629,37.613548,37.726897,37.699651,37.511005,37.629295,37.537434,37.661006,37.498896,37.795403,37.707,37.623680114746094,37.522054,37.64648,37.635539,37.410053,37.522207,37.528576,37.770376,37.700181,37.638683,37.497081,37.528118,37.573348,37.497054,37.653972,37.483445,37.55248,37.590362,37.692177,37.593524,37.749984,37.539742,37.683302,37.658006,37.462909,37.522135,37.649732,37.541018,37.770178,37.688692,37.58791,37.693381,37.617698,37.768956,37.756569,37.437999,37.381091,37.469521,37.63791494477252,37.562497,37.709156,37.43499,37.763567,37.711276,37.508229,37.629906,37.596749,37.62307,37.656218,37.691881,37.402695,37.515461,37.61229,37.459038,37.632987,37.44700601223344,37.587362,37.671624,37.564895,37.522207,37.581253,37.760045,37.630921,37.544485,37.55248,37.648483,37.500953,37.730482,37.594351,37.557763,37.587362,37.656218,37.650909,37.613548,37.61768,37.712929,37.564105,37.49047,37.67996,37.6251,37.712533,37.619576,37.719423,37.617698,37.855797,37.645267,37.493326,37.633176,37.549983,37.423213,37.380363,37.71459,37.702634,37.779341,37.495617,37.548699,37.651403,37.393694,37.731488,37.702894,37.586122,37.420006,37.800936,37.577328,37.648843,37.716612,37.533194,37.530085,37.671804,37.562497,37.566072,37.72387,37.662353,37.762327,37.798242,37.768453,37.613063,37.558993,37.380363,37.695429,37.566063,37.751547,37.566081,37.589518,37.594584,37.658751,37.785917,37.798592,37.553424,37.587362,37.696139,37.600037,37.802553,37.732152,37.511365,37.408975,37.437999,37.436562,37.52719183376152,37.631936,37.622306,37.692672,37.578082,37.715821,37.485421,37.56282,37.432124,37.598869,37.636536,37.444611,37.76857,37.526124,37.562497,37.747568,37.638719,37.532367,37.385582,37.545492,37.626412,37.548402,37.594584,37.766881,37.449012,37.587362,37.373087,37.522162,37.43499,37.622378,37.502031,37.567779,37.632727,37.718669,37.454816,37.62616,37.712318,37.865346,37.731398,37.454555,37.661455,37.539626,37.612667060188016,37.75302,37.558643,37.629044,37.662353,37.504358,37.500486,37.748708,37.432358,37.403118,37.545518,37.623680114746094,37.652822,37.617698,37.590973,37.755895,37.63341,37.741091,37.734389,37.558832,37.585619,37.645267,37.713351,37.715111,37.625828,37.622235,37.803973,37.65911,37.554457,37.477327,37.626187,37.61537983595707,37.671624,37.715812,37.421551,37.745528,37.692177,37.739941,37.628092,37.601762,37.692672,37.400477,37.70673,37.66132,37.79083,37.648043,37.617698,37.692177,37.72952,37.629798,37.436283,37.494243,37.540272,37.489392,37.619603,37.687407,37.517419,37.748439,37.633661,37.539626,37.406423,37.728622,37.595222,37.622306,37.497638,37.74772,37.779332,37.52894830886149,37.626843,37.468829,37.587003,37.4831887352133,37.67988,37.671588,37.708536,37.702634,37.597226,37.617159,37.619603,37.465883,37.646013,37.692177,37.670016,37.497198,37.499076,37.6865,37.662353,37.62758,37.587937,37.504663,37.424057,37.408049,37.846867,37.65461,37.51529,37.587362,37.696139,37.575891,37.648187,37.662353,37.432115,37.649939,37.662353,37.601645,37.64683,37.396236,37.757629,37.479834,37.761527,37.709946,37.506056,37.759533,37.598672,37.491251,37.510107,37.698852,37.765318,37.777868,37.617698,37.650981,37.591647,37.717411,37.749283,37.53817,37.800640177723665,37.548699,37.508571,37.659892,37.857737,37.575765,37.617698,37.585035,37.486769,37.638719,37.503864,37.671543,37.500306,37.798583,37.677598,37.580077,37.428082,37.692672,37.62016,37.62653960370261,37.654287,37.483903,37.445437,37.71866,37.865992,37.652705,37.582107,37.496138,37.587362,37.569809,37.615228,37.828128,37.529744,37.67988,37.662174,37.533194,37.837543,37.637272,37.762462,37.644477,37.669944,37.465982,37.566189,37.598842,37.655939,37.587362,37.678218,37.364122,37.614006,37.642725,37.569126,37.748439,37.540245,37.566476,37.61844512075185,37.714869,37.486778,37.804117,37.583742,37.4781,37.581173,37.424767,37.599094,37.548699,37.748708,37.62864,37.715821,37.723026,37.734632,37.492024,37.644477,37.710081,37.810153,37.687102,37.627705,37.733563,37.604762,37.599507,37.686024,37.655571,37.414418,37.669181,37.769522,37.638683,37.493317,37.683572,37.803865,37.788351,37.560323,37.709677,37.659847,37.448456,37.617698,37.658796,37.710081,37.642725,37.794199,37.624328,37.622819,37.516278,37.437496,37.462496,37.772271,37.573133,37.656469,37.60302,37.581586,37.67988,37.526097,37.576951,37.728002,37.708769,37.648843,37.483903,37.53788490674552,37.542428,37.417266,37.568497,37.629232,37.734955,37.428351,37.386202,37.637946,37.672855,37.526708,37.633167,37.60646,37.67336680432017,37.661976,37.741216,37.617698,37.54179,37.581307,37.578819,37.703829,37.717294,37.658796,37.517895,37.719037,37.495752,37.528118,37.803973,37.630535,37.658527,37.622621,37.497369,37.744226,37.686024,37.62837,37.80311,37.536023,37.514958,37.414364,37.526708,37.732251,37.381037,37.614267,37.579493,37.716477,37.700424,37.701223,37.652157,37.632817,37.463188,37.605858,37.423617,37.517419,37.76513,37.708356,37.622504,37.748915,37.515416,37.453603,37.612955,37.511535,37.637192,37.633176,37.625172,37.525208,37.668345,37.592007803640904,37.63747,37.533822,37.64957,37.573124,37.587344,37.796643,37.581307,37.618423,37.430426,37.48543,37.445383,37.641045,37.881291,37.604529,37.555651,37.624328,37.797774,37.670016,37.667716,37.424138,37.771319,37.524192,37.441844,37.828712,37.6456,37.617698,37.66486,37.641387,37.594135,37.63544,37.604771,37.43313,37.616027,37.640452,37.65823,37.607862,37.68659,37.620905,37.44603,37.772271,37.751071,37.62431,37.669351,37.586122,37.683302,37.573537,37.636419,37.495662,37.767465,37.497575,37.612254,37.580625,37.530041,37.719594,37.619638,37.440568,37.651861,37.692006050262066,37.695232,37.643273,37.408049,37.639339,37.655149,37.515245,37.450998,37.537371,37.604565,37.417724,37.439374,37.583418,37.798261,37.638018,37.426249,37.588799,37.689905,37.56971,37.662668,37.504582,37.766612,37.446587,37.612686,37.624453,37.622863,37.628092,37.617698,37.7062,37.603559,37.619917,37.747532,37.718669,37.519171,37.64683,37.771903,37.645636,37.755473,37.763926,37.386112,37.596219,37.618354,37.60302,37.625828,37.514787,37.625172,37.857638,37.605706,37.696148,37.583778,37.549184,37.676331,37.411427,37.37562,37.617698,37.569351,37.706434,37.750909,37.70231,37.755697,37.638898,37.691028,37.587667,37.59948,37.630544,37.622612,37.619764,37.604565,37.380363,37.752365,37.648474,37.522216,37.727346,37.632987,37.526268,37.621139,37.709156,37.44144,37.455085,37.58332,37.78598,37.59047,37.658661,37.551016,37.553424,37.631892,37.604565,37.624453,37.438224,37.851799,37.750451,37.839744,37.594252,37.476231,37.693184,37.609712,37.832827,37.578046,37.393568,37.545581,37.798107,37.629906,37.64251,37.621992,37.63243,37.536967,37.569926,37.440308,37.770025,37.501654,37.614734,37.698771,37.417724,37.62169523809799,37.633742,37.5016,37.71389,37.62899,37.728398,37.704547,37.661455,37.531954,37.630769,37.569809,37.709156,37.60219892060205,37.452507,37.659326,37.609416,37.573564,37.701161,37.64489,37.432115,37.760036,37.421758,37.600154,37.5876720029421,37.549184,37.76815303602967,37.56892,37.622513,37.644486,37.718669,37.67988,37.644827,37.526268,37.655544,37.736294,37.489059,37.70647,37.61907196044922,37.564123,37.607089,37.625773978595,37.695762,37.660521,37.614392,37.426249,37.516171,37.715462,37.676816,37.524121,37.617698,37.625037,37.554026,37.768956,37.641045,37.533661,37.834569,37.617698,37.530041,37.807845,37.402695,37.748583,37.42660903930664,37.636015,37.579205,37.716477,37.565075,37.694235,37.43231041352599,37.784803,37.637946,37.63385,37.801413,37.432448,37.424767,37.540497,37.5806482989801,37.38119,37.766756,37.424057,37.430426,37.714671,37.627059,37.548734,37.63562,37.864061,37.545518,37.780518,37.48305208465506,37.537434,37.866073,37.739977,37.864061,37.667132,37.688306,37.633742,37.697433,37.560125,37.615623,37.482852,37.602939,37.803973,37.787013,37.527947,37.536616,37.510107,37.676313,37.43313,37.506541,37.548914,37.581173,37.67988,37.42713,37.784803,37.688539,37.527983,37.708536,37.429959,37.636311,37.640452,37.659847,37.60072,37.679071,37.630535,37.474381,37.748619,37.598672,37.686302,37.810477,37.424075,37.653128,37.640452,37.708356,37.588233,37.674561,37.543794,37.608984,37.751538,37.633913,37.601645,37.434154,37.45177,37.575792,37.616629,37.614868,37.504995,37.44259,37.624453,37.605706,37.752149,37.630535,37.778811,37.5857,37.751538,37.72921797420258,37.714671,37.700891,37.53031,37.622612,37.432061,37.631775,37.697109,37.582394,37.494449,37.511131,37.760584,37.631002,37.43499,37.612829,37.41114,37.495958,37.778946,37.69816,37.716378,37.688881,37.630535,37.783734,37.800901,37.615623,37.545141,37.611122,37.729988,37.632386,37.657736,37.663773,37.615551,37.675343,37.444422,37.64011001586914,37.576025,37.639195,37.617300152778625,37.638063,37.783581,37.671552,37.763692,37.659254,37.447926,37.665776,37.708662,37.659308,37.615605,37.607862,37.741172,37.525208,37.506783,37.382115,37.381801,37.76345,37.439526,37.714231,37.603819,37.55112591340447,37.681326,37.647711,37.619656,37.602966,37.719423,37.588108,37.638422,37.638853,37.589518,37.396281,37.732593,37.66601,37.67909998597298,37.638683,37.715138,37.548734,37.7608,37.708185,37.558993,37.63243,37.517734,37.437775,37.677975,37.422728,37.621085,37.621022,37.661922,37.652634,37.620492,37.758922,37.507646,37.581173,37.580202,37.613036,37.799239,37.476231,37.698708,37.588108,37.51416579496663,37.628155,37.798583,37.417176,37.751385,37.87308,37.578073,37.497791,37.654322,37.44702642754531,37.535511,37.662353,37.631954,37.774876,37.799724,37.512191,37.725487,37.750451,37.780949,37.575477,37.704143,37.698708,37.444521,37.528334,37.712327,37.502292,37.6653,37.657476,37.552543,37.772325,37.588799,37.800809807498865,37.554493,37.591719,37.552543,37.716378,37.6107,37.433526,37.755122,37.644612,37.636994,37.774876,37.618031,37.753164,37.72687,37.657476,37.577436,37.617698,37.807845,37.548887,37.495743,37.382016,37.663827,37.636329,37.625433,37.464931,37.500972747802734,37.403118,37.576699,37.515623,37.564293,37.842376,37.638422,37.624534,37.636706,37.658126,37.593354,37.535511,37.728784,37.602328,37.432259,37.619477,37.676592,37.441817,37.67086,37.819999,37.547791,37.824553,37.444521,37.819999,37.49790401852316,37.764177,37.731856,37.780949,37.547791,37.761635,37.62501,37.628676,37.507268,37.596228,37.597989,37.500387375086284,37.511652,37.656829,37.444521,37.527588,37.588108,37.581173,37.599813,37.650981,37.552157,37.543794,37.680895,37.519144,37.508229,37.641009,37.618084,37.537236,37.71547469311506,37.631909,37.480777,37.529412,37.78878160840739,37.803308,37.709865,37.441817,37.515946,37.549777,37.735395,37.763647,37.549777,37.543794,37.537676,37.657637,37.715138,37.570474,37.73527,37.55664,37.55783541964245,37.695178,37.439526,37.730122,37.507286],\"marker\":{\"color\":\"#636efa\"},\"mode\":\"markers\",\"name\":\"\",\"showlegend\":false,\"subplot\":\"mapbox\",\"type\":\"scattermapbox\"}],                        {\"template\":{\"data\":{\"histogram2dcontour\":[{\"type\":\"histogram2dcontour\",\"colorbar\":{\"outlinewidth\":0,\"ticks\":\"\"},\"colorscale\":[[0.0,\"#0d0887\"],[0.1111111111111111,\"#46039f\"],[0.2222222222222222,\"#7201a8\"],[0.3333333333333333,\"#9c179e\"],[0.4444444444444444,\"#bd3786\"],[0.5555555555555556,\"#d8576b\"],[0.6666666666666666,\"#ed7953\"],[0.7777777777777778,\"#fb9f3a\"],[0.8888888888888888,\"#fdca26\"],[1.0,\"#f0f921\"]]}],\"choropleth\":[{\"type\":\"choropleth\",\"colorbar\":{\"outlinewidth\":0,\"ticks\":\"\"}}],\"histogram2d\":[{\"type\":\"histogram2d\",\"colorbar\":{\"outlinewidth\":0,\"ticks\":\"\"},\"colorscale\":[[0.0,\"#0d0887\"],[0.1111111111111111,\"#46039f\"],[0.2222222222222222,\"#7201a8\"],[0.3333333333333333,\"#9c179e\"],[0.4444444444444444,\"#bd3786\"],[0.5555555555555556,\"#d8576b\"],[0.6666666666666666,\"#ed7953\"],[0.7777777777777778,\"#fb9f3a\"],[0.8888888888888888,\"#fdca26\"],[1.0,\"#f0f921\"]]}],\"heatmap\":[{\"type\":\"heatmap\",\"colorbar\":{\"outlinewidth\":0,\"ticks\":\"\"},\"colorscale\":[[0.0,\"#0d0887\"],[0.1111111111111111,\"#46039f\"],[0.2222222222222222,\"#7201a8\"],[0.3333333333333333,\"#9c179e\"],[0.4444444444444444,\"#bd3786\"],[0.5555555555555556,\"#d8576b\"],[0.6666666666666666,\"#ed7953\"],[0.7777777777777778,\"#fb9f3a\"],[0.8888888888888888,\"#fdca26\"],[1.0,\"#f0f921\"]]}],\"heatmapgl\":[{\"type\":\"heatmapgl\",\"colorbar\":{\"outlinewidth\":0,\"ticks\":\"\"},\"colorscale\":[[0.0,\"#0d0887\"],[0.1111111111111111,\"#46039f\"],[0.2222222222222222,\"#7201a8\"],[0.3333333333333333,\"#9c179e\"],[0.4444444444444444,\"#bd3786\"],[0.5555555555555556,\"#d8576b\"],[0.6666666666666666,\"#ed7953\"],[0.7777777777777778,\"#fb9f3a\"],[0.8888888888888888,\"#fdca26\"],[1.0,\"#f0f921\"]]}],\"contourcarpet\":[{\"type\":\"contourcarpet\",\"colorbar\":{\"outlinewidth\":0,\"ticks\":\"\"}}],\"contour\":[{\"type\":\"contour\",\"colorbar\":{\"outlinewidth\":0,\"ticks\":\"\"},\"colorscale\":[[0.0,\"#0d0887\"],[0.1111111111111111,\"#46039f\"],[0.2222222222222222,\"#7201a8\"],[0.3333333333333333,\"#9c179e\"],[0.4444444444444444,\"#bd3786\"],[0.5555555555555556,\"#d8576b\"],[0.6666666666666666,\"#ed7953\"],[0.7777777777777778,\"#fb9f3a\"],[0.8888888888888888,\"#fdca26\"],[1.0,\"#f0f921\"]]}],\"surface\":[{\"type\":\"surface\",\"colorbar\":{\"outlinewidth\":0,\"ticks\":\"\"},\"colorscale\":[[0.0,\"#0d0887\"],[0.1111111111111111,\"#46039f\"],[0.2222222222222222,\"#7201a8\"],[0.3333333333333333,\"#9c179e\"],[0.4444444444444444,\"#bd3786\"],[0.5555555555555556,\"#d8576b\"],[0.6666666666666666,\"#ed7953\"],[0.7777777777777778,\"#fb9f3a\"],[0.8888888888888888,\"#fdca26\"],[1.0,\"#f0f921\"]]}],\"mesh3d\":[{\"type\":\"mesh3d\",\"colorbar\":{\"outlinewidth\":0,\"ticks\":\"\"}}],\"scatter\":[{\"fillpattern\":{\"fillmode\":\"overlay\",\"size\":10,\"solidity\":0.2},\"type\":\"scatter\"}],\"parcoords\":[{\"type\":\"parcoords\",\"line\":{\"colorbar\":{\"outlinewidth\":0,\"ticks\":\"\"}}}],\"scatterpolargl\":[{\"type\":\"scatterpolargl\",\"marker\":{\"colorbar\":{\"outlinewidth\":0,\"ticks\":\"\"}}}],\"bar\":[{\"error_x\":{\"color\":\"#2a3f5f\"},\"error_y\":{\"color\":\"#2a3f5f\"},\"marker\":{\"line\":{\"color\":\"#E5ECF6\",\"width\":0.5},\"pattern\":{\"fillmode\":\"overlay\",\"size\":10,\"solidity\":0.2}},\"type\":\"bar\"}],\"scattergeo\":[{\"type\":\"scattergeo\",\"marker\":{\"colorbar\":{\"outlinewidth\":0,\"ticks\":\"\"}}}],\"scatterpolar\":[{\"type\":\"scatterpolar\",\"marker\":{\"colorbar\":{\"outlinewidth\":0,\"ticks\":\"\"}}}],\"histogram\":[{\"marker\":{\"pattern\":{\"fillmode\":\"overlay\",\"size\":10,\"solidity\":0.2}},\"type\":\"histogram\"}],\"scattergl\":[{\"type\":\"scattergl\",\"marker\":{\"colorbar\":{\"outlinewidth\":0,\"ticks\":\"\"}}}],\"scatter3d\":[{\"type\":\"scatter3d\",\"line\":{\"colorbar\":{\"outlinewidth\":0,\"ticks\":\"\"}},\"marker\":{\"colorbar\":{\"outlinewidth\":0,\"ticks\":\"\"}}}],\"scattermapbox\":[{\"type\":\"scattermapbox\",\"marker\":{\"colorbar\":{\"outlinewidth\":0,\"ticks\":\"\"}}}],\"scatterternary\":[{\"type\":\"scatterternary\",\"marker\":{\"colorbar\":{\"outlinewidth\":0,\"ticks\":\"\"}}}],\"scattercarpet\":[{\"type\":\"scattercarpet\",\"marker\":{\"colorbar\":{\"outlinewidth\":0,\"ticks\":\"\"}}}],\"carpet\":[{\"aaxis\":{\"endlinecolor\":\"#2a3f5f\",\"gridcolor\":\"white\",\"linecolor\":\"white\",\"minorgridcolor\":\"white\",\"startlinecolor\":\"#2a3f5f\"},\"baxis\":{\"endlinecolor\":\"#2a3f5f\",\"gridcolor\":\"white\",\"linecolor\":\"white\",\"minorgridcolor\":\"white\",\"startlinecolor\":\"#2a3f5f\"},\"type\":\"carpet\"}],\"table\":[{\"cells\":{\"fill\":{\"color\":\"#EBF0F8\"},\"line\":{\"color\":\"white\"}},\"header\":{\"fill\":{\"color\":\"#C8D4E3\"},\"line\":{\"color\":\"white\"}},\"type\":\"table\"}],\"barpolar\":[{\"marker\":{\"line\":{\"color\":\"#E5ECF6\",\"width\":0.5},\"pattern\":{\"fillmode\":\"overlay\",\"size\":10,\"solidity\":0.2}},\"type\":\"barpolar\"}],\"pie\":[{\"automargin\":true,\"type\":\"pie\"}]},\"layout\":{\"autotypenumbers\":\"strict\",\"colorway\":[\"#636efa\",\"#EF553B\",\"#00cc96\",\"#ab63fa\",\"#FFA15A\",\"#19d3f3\",\"#FF6692\",\"#B6E880\",\"#FF97FF\",\"#FECB52\"],\"font\":{\"color\":\"#2a3f5f\"},\"hovermode\":\"closest\",\"hoverlabel\":{\"align\":\"left\"},\"paper_bgcolor\":\"white\",\"plot_bgcolor\":\"#E5ECF6\",\"polar\":{\"bgcolor\":\"#E5ECF6\",\"angularaxis\":{\"gridcolor\":\"white\",\"linecolor\":\"white\",\"ticks\":\"\"},\"radialaxis\":{\"gridcolor\":\"white\",\"linecolor\":\"white\",\"ticks\":\"\"}},\"ternary\":{\"bgcolor\":\"#E5ECF6\",\"aaxis\":{\"gridcolor\":\"white\",\"linecolor\":\"white\",\"ticks\":\"\"},\"baxis\":{\"gridcolor\":\"white\",\"linecolor\":\"white\",\"ticks\":\"\"},\"caxis\":{\"gridcolor\":\"white\",\"linecolor\":\"white\",\"ticks\":\"\"}},\"coloraxis\":{\"colorbar\":{\"outlinewidth\":0,\"ticks\":\"\"}},\"colorscale\":{\"sequential\":[[0.0,\"#0d0887\"],[0.1111111111111111,\"#46039f\"],[0.2222222222222222,\"#7201a8\"],[0.3333333333333333,\"#9c179e\"],[0.4444444444444444,\"#bd3786\"],[0.5555555555555556,\"#d8576b\"],[0.6666666666666666,\"#ed7953\"],[0.7777777777777778,\"#fb9f3a\"],[0.8888888888888888,\"#fdca26\"],[1.0,\"#f0f921\"]],\"sequentialminus\":[[0.0,\"#0d0887\"],[0.1111111111111111,\"#46039f\"],[0.2222222222222222,\"#7201a8\"],[0.3333333333333333,\"#9c179e\"],[0.4444444444444444,\"#bd3786\"],[0.5555555555555556,\"#d8576b\"],[0.6666666666666666,\"#ed7953\"],[0.7777777777777778,\"#fb9f3a\"],[0.8888888888888888,\"#fdca26\"],[1.0,\"#f0f921\"]],\"diverging\":[[0,\"#8e0152\"],[0.1,\"#c51b7d\"],[0.2,\"#de77ae\"],[0.3,\"#f1b6da\"],[0.4,\"#fde0ef\"],[0.5,\"#f7f7f7\"],[0.6,\"#e6f5d0\"],[0.7,\"#b8e186\"],[0.8,\"#7fbc41\"],[0.9,\"#4d9221\"],[1,\"#276419\"]]},\"xaxis\":{\"gridcolor\":\"white\",\"linecolor\":\"white\",\"ticks\":\"\",\"title\":{\"standoff\":15},\"zerolinecolor\":\"white\",\"automargin\":true,\"zerolinewidth\":2},\"yaxis\":{\"gridcolor\":\"white\",\"linecolor\":\"white\",\"ticks\":\"\",\"title\":{\"standoff\":15},\"zerolinecolor\":\"white\",\"automargin\":true,\"zerolinewidth\":2},\"scene\":{\"xaxis\":{\"backgroundcolor\":\"#E5ECF6\",\"gridcolor\":\"white\",\"linecolor\":\"white\",\"showbackground\":true,\"ticks\":\"\",\"zerolinecolor\":\"white\",\"gridwidth\":2},\"yaxis\":{\"backgroundcolor\":\"#E5ECF6\",\"gridcolor\":\"white\",\"linecolor\":\"white\",\"showbackground\":true,\"ticks\":\"\",\"zerolinecolor\":\"white\",\"gridwidth\":2},\"zaxis\":{\"backgroundcolor\":\"#E5ECF6\",\"gridcolor\":\"white\",\"linecolor\":\"white\",\"showbackground\":true,\"ticks\":\"\",\"zerolinecolor\":\"white\",\"gridwidth\":2}},\"shapedefaults\":{\"line\":{\"color\":\"#2a3f5f\"}},\"annotationdefaults\":{\"arrowcolor\":\"#2a3f5f\",\"arrowhead\":0,\"arrowwidth\":1},\"geo\":{\"bgcolor\":\"white\",\"landcolor\":\"#E5ECF6\",\"subunitcolor\":\"white\",\"showland\":true,\"showlakes\":true,\"lakecolor\":\"white\"},\"title\":{\"x\":0.05},\"mapbox\":{\"style\":\"light\"}}},\"mapbox\":{\"domain\":{\"x\":[0.0,1.0],\"y\":[0.0,1.0]},\"center\":{\"lat\":55.752919,\"lon\":37.626941},\"zoom\":10,\"style\":\"open-street-map\"},\"legend\":{\"tracegroupgap\":0},\"margin\":{\"t\":0,\"r\":0,\"l\":0,\"b\":0},\"height\":800},                        {\"responsive\": true}                    ).then(function(){\n",
              "                            \n",
              "var gd = document.getElementById('9b88667f-dcd2-4fb8-817d-2a6425c2cfa6');\n",
              "var x = new MutationObserver(function (mutations, observer) {{\n",
              "        var display = window.getComputedStyle(gd).display;\n",
              "        if (!display || display === 'none') {{\n",
              "            console.log([gd, 'removed!']);\n",
              "            Plotly.purge(gd);\n",
              "            observer.disconnect();\n",
              "        }}\n",
              "}});\n",
              "\n",
              "// Listen for the removal of the full notebook cells\n",
              "var notebookContainer = gd.closest('#notebook-container');\n",
              "if (notebookContainer) {{\n",
              "    x.observe(notebookContainer, {childList: true});\n",
              "}}\n",
              "\n",
              "// Listen for the clearing of the current output cell\n",
              "var outputEl = gd.closest('.output');\n",
              "if (outputEl) {{\n",
              "    x.observe(outputEl, {childList: true});\n",
              "}}\n",
              "\n",
              "                        })                };                            </script>        </div>\n",
              "</body>\n",
              "</html>"
            ]
          },
          "metadata": {}
        }
      ]
    },
    {
      "cell_type": "markdown",
      "source": [
        "(2 балла) **Сделайте выводы о проделанной работе:**"
      ],
      "metadata": {
        "id": "u-p3Llc361PN"
      }
    },
    {
      "cell_type": "markdown",
      "source": [
        ">*Подсказки для маленьких: Что вы можете сказать про районы Москвы? Что вы можете сказать про зарплаты? Что вы можете сказать про спрос?*"
      ],
      "metadata": {
        "id": "G1c3d-qALobz"
      }
    },
    {
      "cell_type": "markdown",
      "source": [
        "Вакансий практически нет в парках и их количество уменьшается к окрайнам Москвы.\n",
        "И большинство (очень фиолетово) вакансий находится в центре."
      ],
      "metadata": {
        "id": "gkPpbtBuVqwc"
      }
    },
    {
      "cell_type": "markdown",
      "source": [
        "## Задание 2. Анализ данных - 20 баллов"
      ],
      "metadata": {
        "id": "wVcCTF_Zz58q"
      }
    },
    {
      "cell_type": "markdown",
      "source": [
        "Вам предстоит проанализировать датасет, содержащий информацию об бриллианта, их стоимости и остальных характеристиках."
      ],
      "metadata": {
        "id": "lii5YFuucxR2"
      }
    },
    {
      "cell_type": "markdown",
      "source": [
        "\n",
        "\n",
        "Поясним значения хранящиеся в колонках:\n",
        "*   `cut` - огранка бриллианта (относится к одной из примерно 10 наиболее распространенных)\n",
        "*   `color` - цвет бриллианта, прозрачные бриллианты имеют градацию `D-Z`, \"более высокие\" буквы - более желтоватые, но часто имеют лучшие значения, поскольку цвет трудно определить один раз в кольце\n",
        "*   `clarity` - чистота бриллианта, наличие включений (внутренних дефектов), чем меньше и мельче, тем лучше\n",
        "*   `carat_weight` - масса бриллианта (слабо связана с размером бриллианта, т.к. огранка и качество огранки, как правило, играют большую роль)\n",
        "*   `cut_quality` - качество ограники по системе оценки GIA Cut\n",
        "*   `lab` - лаборатория оценивания\n",
        "*   `meas_length` - длина бриллианта\n",
        "*   `meas_width` - ширина бриллианта\n",
        "*   `meas_depth` - глубина бриллианта\n",
        "*   `total_sales_price` - цена бриллианта в долларах.\n",
        "*    **и прочие колонки**"
      ],
      "metadata": {
        "id": "CvEO3-NI0Gez"
      }
    },
    {
      "cell_type": "markdown",
      "source": [
        "Скачаем данные:"
      ],
      "metadata": {
        "id": "7mK1QntN6ZXh"
      }
    },
    {
      "cell_type": "code",
      "source": [
        "!gdown 1uIWeZFz3ElB5p1brBVEwJBHTbjXNPdfU"
      ],
      "metadata": {
        "id": "LnCK3gCoebjw",
        "colab": {
          "base_uri": "https://localhost:8080/"
        },
        "outputId": "6da4a30a-c1df-463b-faf0-cefa22cd0b19"
      },
      "execution_count": 165,
      "outputs": [
        {
          "output_type": "stream",
          "name": "stdout",
          "text": [
            "Downloading...\n",
            "From: https://drive.google.com/uc?id=1uIWeZFz3ElB5p1brBVEwJBHTbjXNPdfU\n",
            "To: /content/diamonds.csv\n",
            "\r  0% 0.00/35.4M [00:00<?, ?B/s]\r 59% 21.0M/35.4M [00:00<00:00, 208MB/s]\r100% 35.4M/35.4M [00:00<00:00, 207MB/s]\n"
          ]
        }
      ]
    },
    {
      "cell_type": "markdown",
      "source": [
        "Создадим DataFrame:"
      ],
      "metadata": {
        "id": "wfSqVYoIfi3-"
      }
    },
    {
      "cell_type": "code",
      "source": [
        "diamonds = pd.read_csv(\"diamonds.csv\")"
      ],
      "metadata": {
        "id": "cDgRJzRp6Ow4"
      },
      "execution_count": 166,
      "outputs": []
    },
    {
      "cell_type": "markdown",
      "source": [
        "(0.5 балла) Выведете первые 5 строк датасета:"
      ],
      "metadata": {
        "id": "vlw_3lXG6bhv"
      }
    },
    {
      "cell_type": "code",
      "source": [
        "diamonds.head(5)"
      ],
      "metadata": {
        "id": "gHA-AnSE6fth",
        "colab": {
          "base_uri": "https://localhost:8080/",
          "height": 403
        },
        "outputId": "4617ed8a-90a0-4e0b-e19a-e8dd0034e06d"
      },
      "execution_count": 167,
      "outputs": [
        {
          "output_type": "execute_result",
          "data": {
            "text/plain": [
              "   Unnamed: 0    cut color clarity  carat_weight cut_quality  lab   symmetry  \\\n",
              "0           0  Round     E    VVS2          0.09   Excellent  IGI  Very Good   \n",
              "1           1  Round     E    VVS2          0.09   Very Good  IGI  Very Good   \n",
              "2           2  Round     E    VVS2          0.09   Excellent  IGI  Very Good   \n",
              "3           3  Round     E    VVS2          0.09   Excellent  IGI  Very Good   \n",
              "4           4  Round     E    VVS2          0.09   Very Good  IGI  Very Good   \n",
              "\n",
              "      polish eye_clean  ... meas_depth girdle_min  girdle_max  fluor_color  \\\n",
              "0  Very Good   unknown  ...       1.79          M           M      unknown   \n",
              "1  Very Good   unknown  ...       1.78        STK         STK      unknown   \n",
              "2  Very Good   unknown  ...       1.77         TN           M      unknown   \n",
              "3  Very Good   unknown  ...       1.78          M         STK      unknown   \n",
              "4  Excellent   unknown  ...       1.82        STK         STK      unknown   \n",
              "\n",
              "   fluor_intensity  fancy_color_dominant_color  fancy_color_secondary_color  \\\n",
              "0             None                     unknown                      unknown   \n",
              "1             None                     unknown                      unknown   \n",
              "2             None                     unknown                      unknown   \n",
              "3             None                     unknown                      unknown   \n",
              "4             None                     unknown                      unknown   \n",
              "\n",
              "  fancy_color_overtone fancy_color_intensity total_sales_price  \n",
              "0              unknown               unknown               200  \n",
              "1              unknown               unknown               200  \n",
              "2              unknown               unknown               200  \n",
              "3              unknown               unknown               200  \n",
              "4              unknown               unknown               200  \n",
              "\n",
              "[5 rows x 26 columns]"
            ],
            "text/html": [
              "\n",
              "  <div id=\"df-0954487d-85c5-4da0-8248-3c98e26c8603\">\n",
              "    <div class=\"colab-df-container\">\n",
              "      <div>\n",
              "<style scoped>\n",
              "    .dataframe tbody tr th:only-of-type {\n",
              "        vertical-align: middle;\n",
              "    }\n",
              "\n",
              "    .dataframe tbody tr th {\n",
              "        vertical-align: top;\n",
              "    }\n",
              "\n",
              "    .dataframe thead th {\n",
              "        text-align: right;\n",
              "    }\n",
              "</style>\n",
              "<table border=\"1\" class=\"dataframe\">\n",
              "  <thead>\n",
              "    <tr style=\"text-align: right;\">\n",
              "      <th></th>\n",
              "      <th>Unnamed: 0</th>\n",
              "      <th>cut</th>\n",
              "      <th>color</th>\n",
              "      <th>clarity</th>\n",
              "      <th>carat_weight</th>\n",
              "      <th>cut_quality</th>\n",
              "      <th>lab</th>\n",
              "      <th>symmetry</th>\n",
              "      <th>polish</th>\n",
              "      <th>eye_clean</th>\n",
              "      <th>...</th>\n",
              "      <th>meas_depth</th>\n",
              "      <th>girdle_min</th>\n",
              "      <th>girdle_max</th>\n",
              "      <th>fluor_color</th>\n",
              "      <th>fluor_intensity</th>\n",
              "      <th>fancy_color_dominant_color</th>\n",
              "      <th>fancy_color_secondary_color</th>\n",
              "      <th>fancy_color_overtone</th>\n",
              "      <th>fancy_color_intensity</th>\n",
              "      <th>total_sales_price</th>\n",
              "    </tr>\n",
              "  </thead>\n",
              "  <tbody>\n",
              "    <tr>\n",
              "      <th>0</th>\n",
              "      <td>0</td>\n",
              "      <td>Round</td>\n",
              "      <td>E</td>\n",
              "      <td>VVS2</td>\n",
              "      <td>0.09</td>\n",
              "      <td>Excellent</td>\n",
              "      <td>IGI</td>\n",
              "      <td>Very Good</td>\n",
              "      <td>Very Good</td>\n",
              "      <td>unknown</td>\n",
              "      <td>...</td>\n",
              "      <td>1.79</td>\n",
              "      <td>M</td>\n",
              "      <td>M</td>\n",
              "      <td>unknown</td>\n",
              "      <td>None</td>\n",
              "      <td>unknown</td>\n",
              "      <td>unknown</td>\n",
              "      <td>unknown</td>\n",
              "      <td>unknown</td>\n",
              "      <td>200</td>\n",
              "    </tr>\n",
              "    <tr>\n",
              "      <th>1</th>\n",
              "      <td>1</td>\n",
              "      <td>Round</td>\n",
              "      <td>E</td>\n",
              "      <td>VVS2</td>\n",
              "      <td>0.09</td>\n",
              "      <td>Very Good</td>\n",
              "      <td>IGI</td>\n",
              "      <td>Very Good</td>\n",
              "      <td>Very Good</td>\n",
              "      <td>unknown</td>\n",
              "      <td>...</td>\n",
              "      <td>1.78</td>\n",
              "      <td>STK</td>\n",
              "      <td>STK</td>\n",
              "      <td>unknown</td>\n",
              "      <td>None</td>\n",
              "      <td>unknown</td>\n",
              "      <td>unknown</td>\n",
              "      <td>unknown</td>\n",
              "      <td>unknown</td>\n",
              "      <td>200</td>\n",
              "    </tr>\n",
              "    <tr>\n",
              "      <th>2</th>\n",
              "      <td>2</td>\n",
              "      <td>Round</td>\n",
              "      <td>E</td>\n",
              "      <td>VVS2</td>\n",
              "      <td>0.09</td>\n",
              "      <td>Excellent</td>\n",
              "      <td>IGI</td>\n",
              "      <td>Very Good</td>\n",
              "      <td>Very Good</td>\n",
              "      <td>unknown</td>\n",
              "      <td>...</td>\n",
              "      <td>1.77</td>\n",
              "      <td>TN</td>\n",
              "      <td>M</td>\n",
              "      <td>unknown</td>\n",
              "      <td>None</td>\n",
              "      <td>unknown</td>\n",
              "      <td>unknown</td>\n",
              "      <td>unknown</td>\n",
              "      <td>unknown</td>\n",
              "      <td>200</td>\n",
              "    </tr>\n",
              "    <tr>\n",
              "      <th>3</th>\n",
              "      <td>3</td>\n",
              "      <td>Round</td>\n",
              "      <td>E</td>\n",
              "      <td>VVS2</td>\n",
              "      <td>0.09</td>\n",
              "      <td>Excellent</td>\n",
              "      <td>IGI</td>\n",
              "      <td>Very Good</td>\n",
              "      <td>Very Good</td>\n",
              "      <td>unknown</td>\n",
              "      <td>...</td>\n",
              "      <td>1.78</td>\n",
              "      <td>M</td>\n",
              "      <td>STK</td>\n",
              "      <td>unknown</td>\n",
              "      <td>None</td>\n",
              "      <td>unknown</td>\n",
              "      <td>unknown</td>\n",
              "      <td>unknown</td>\n",
              "      <td>unknown</td>\n",
              "      <td>200</td>\n",
              "    </tr>\n",
              "    <tr>\n",
              "      <th>4</th>\n",
              "      <td>4</td>\n",
              "      <td>Round</td>\n",
              "      <td>E</td>\n",
              "      <td>VVS2</td>\n",
              "      <td>0.09</td>\n",
              "      <td>Very Good</td>\n",
              "      <td>IGI</td>\n",
              "      <td>Very Good</td>\n",
              "      <td>Excellent</td>\n",
              "      <td>unknown</td>\n",
              "      <td>...</td>\n",
              "      <td>1.82</td>\n",
              "      <td>STK</td>\n",
              "      <td>STK</td>\n",
              "      <td>unknown</td>\n",
              "      <td>None</td>\n",
              "      <td>unknown</td>\n",
              "      <td>unknown</td>\n",
              "      <td>unknown</td>\n",
              "      <td>unknown</td>\n",
              "      <td>200</td>\n",
              "    </tr>\n",
              "  </tbody>\n",
              "</table>\n",
              "<p>5 rows × 26 columns</p>\n",
              "</div>\n",
              "      <button class=\"colab-df-convert\" onclick=\"convertToInteractive('df-0954487d-85c5-4da0-8248-3c98e26c8603')\"\n",
              "              title=\"Convert this dataframe to an interactive table.\"\n",
              "              style=\"display:none;\">\n",
              "        \n",
              "  <svg xmlns=\"http://www.w3.org/2000/svg\" height=\"24px\"viewBox=\"0 0 24 24\"\n",
              "       width=\"24px\">\n",
              "    <path d=\"M0 0h24v24H0V0z\" fill=\"none\"/>\n",
              "    <path d=\"M18.56 5.44l.94 2.06.94-2.06 2.06-.94-2.06-.94-.94-2.06-.94 2.06-2.06.94zm-11 1L8.5 8.5l.94-2.06 2.06-.94-2.06-.94L8.5 2.5l-.94 2.06-2.06.94zm10 10l.94 2.06.94-2.06 2.06-.94-2.06-.94-.94-2.06-.94 2.06-2.06.94z\"/><path d=\"M17.41 7.96l-1.37-1.37c-.4-.4-.92-.59-1.43-.59-.52 0-1.04.2-1.43.59L10.3 9.45l-7.72 7.72c-.78.78-.78 2.05 0 2.83L4 21.41c.39.39.9.59 1.41.59.51 0 1.02-.2 1.41-.59l7.78-7.78 2.81-2.81c.8-.78.8-2.07 0-2.86zM5.41 20L4 18.59l7.72-7.72 1.47 1.35L5.41 20z\"/>\n",
              "  </svg>\n",
              "      </button>\n",
              "      \n",
              "  <style>\n",
              "    .colab-df-container {\n",
              "      display:flex;\n",
              "      flex-wrap:wrap;\n",
              "      gap: 12px;\n",
              "    }\n",
              "\n",
              "    .colab-df-convert {\n",
              "      background-color: #E8F0FE;\n",
              "      border: none;\n",
              "      border-radius: 50%;\n",
              "      cursor: pointer;\n",
              "      display: none;\n",
              "      fill: #1967D2;\n",
              "      height: 32px;\n",
              "      padding: 0 0 0 0;\n",
              "      width: 32px;\n",
              "    }\n",
              "\n",
              "    .colab-df-convert:hover {\n",
              "      background-color: #E2EBFA;\n",
              "      box-shadow: 0px 1px 2px rgba(60, 64, 67, 0.3), 0px 1px 3px 1px rgba(60, 64, 67, 0.15);\n",
              "      fill: #174EA6;\n",
              "    }\n",
              "\n",
              "    [theme=dark] .colab-df-convert {\n",
              "      background-color: #3B4455;\n",
              "      fill: #D2E3FC;\n",
              "    }\n",
              "\n",
              "    [theme=dark] .colab-df-convert:hover {\n",
              "      background-color: #434B5C;\n",
              "      box-shadow: 0px 1px 3px 1px rgba(0, 0, 0, 0.15);\n",
              "      filter: drop-shadow(0px 1px 2px rgba(0, 0, 0, 0.3));\n",
              "      fill: #FFFFFF;\n",
              "    }\n",
              "  </style>\n",
              "\n",
              "      <script>\n",
              "        const buttonEl =\n",
              "          document.querySelector('#df-0954487d-85c5-4da0-8248-3c98e26c8603 button.colab-df-convert');\n",
              "        buttonEl.style.display =\n",
              "          google.colab.kernel.accessAllowed ? 'block' : 'none';\n",
              "\n",
              "        async function convertToInteractive(key) {\n",
              "          const element = document.querySelector('#df-0954487d-85c5-4da0-8248-3c98e26c8603');\n",
              "          const dataTable =\n",
              "            await google.colab.kernel.invokeFunction('convertToInteractive',\n",
              "                                                     [key], {});\n",
              "          if (!dataTable) return;\n",
              "\n",
              "          const docLinkHtml = 'Like what you see? Visit the ' +\n",
              "            '<a target=\"_blank\" href=https://colab.research.google.com/notebooks/data_table.ipynb>data table notebook</a>'\n",
              "            + ' to learn more about interactive tables.';\n",
              "          element.innerHTML = '';\n",
              "          dataTable['output_type'] = 'display_data';\n",
              "          await google.colab.output.renderOutput(dataTable, element);\n",
              "          const docLink = document.createElement('div');\n",
              "          docLink.innerHTML = docLinkHtml;\n",
              "          element.appendChild(docLink);\n",
              "        }\n",
              "      </script>\n",
              "    </div>\n",
              "  </div>\n",
              "  "
            ]
          },
          "metadata": {},
          "execution_count": 167
        }
      ]
    },
    {
      "cell_type": "markdown",
      "source": [
        "(0.5 балла) Найдите количество бриллиантов всего в данном датасете:"
      ],
      "metadata": {
        "id": "gat7bnPQ6fCE"
      }
    },
    {
      "cell_type": "code",
      "source": [
        "diamonds.shape[0]"
      ],
      "metadata": {
        "id": "-9x6z3-J7C-v",
        "colab": {
          "base_uri": "https://localhost:8080/"
        },
        "outputId": "dc9b2853-74e0-4da3-983d-76c7ac40d66b"
      },
      "execution_count": 168,
      "outputs": [
        {
          "output_type": "execute_result",
          "data": {
            "text/plain": [
              "219703"
            ]
          },
          "metadata": {},
          "execution_count": 168
        }
      ]
    },
    {
      "cell_type": "markdown",
      "source": [
        "(0.5 балла) Выведите максимальную и минимальную цену бриллианта в формате `номер - цена`:"
      ],
      "metadata": {
        "id": "fYQuIdtL7DFp"
      }
    },
    {
      "cell_type": "code",
      "source": [
        "mi = diamonds['total_sales_price'].min()\n",
        "ma = diamonds['total_sales_price'].max()\n",
        "print(diamonds.index[diamonds['total_sales_price'] == mi][0], mi, sep='\\t')\n",
        "print(diamonds.index[diamonds['total_sales_price'] == ma][0], ma, sep='\\t')"
      ],
      "metadata": {
        "id": "D_7sjzjP7SEj",
        "colab": {
          "base_uri": "https://localhost:8080/"
        },
        "outputId": "40e43aba-6d93-4856-dd18-96febaa7e1d2"
      },
      "execution_count": 169,
      "outputs": [
        {
          "output_type": "stream",
          "name": "stdout",
          "text": [
            "0\t200\n",
            "219702\t1449881\n"
          ]
        }
      ]
    },
    {
      "cell_type": "markdown",
      "source": [
        "(1 балл) Посчитайте количество пропусков (пропуском считается значение `unknown` или `None`):"
      ],
      "metadata": {
        "id": "E2mf4IIO7SOg"
      }
    },
    {
      "cell_type": "code",
      "source": [
        "diamonds.replace(['unknown', 'None'], pd.NA, inplace=True)\n",
        "diamonds.isnull().sum().sum()"
      ],
      "metadata": {
        "id": "BuJZ0UoN7qAU",
        "colab": {
          "base_uri": "https://localhost:8080/"
        },
        "outputId": "95cee75d-f5d3-4a98-c0b0-c091f83844cd"
      },
      "execution_count": 170,
      "outputs": [
        {
          "output_type": "execute_result",
          "data": {
            "text/plain": [
              "1891168"
            ]
          },
          "metadata": {},
          "execution_count": 170
        }
      ]
    },
    {
      "cell_type": "markdown",
      "source": [
        "(1 балл) Найдите в каких столбцах присутствуют пропуски:"
      ],
      "metadata": {
        "id": "d5LWUc_fh0vb"
      }
    },
    {
      "cell_type": "code",
      "source": [
        "empty_col = [col for col in diamonds.columns if diamonds[col].isnull().sum() != 0]\n",
        "print(empty_col)"
      ],
      "metadata": {
        "id": "IsU49Fouh5vy",
        "colab": {
          "base_uri": "https://localhost:8080/"
        },
        "outputId": "9602e907-0a3a-49c3-c122-2f3cd50ad8a7"
      },
      "execution_count": 171,
      "outputs": [
        {
          "output_type": "stream",
          "name": "stdout",
          "text": [
            "['color', 'cut_quality', 'eye_clean', 'culet_size', 'culet_condition', 'girdle_min', 'girdle_max', 'fluor_color', 'fluor_intensity', 'fancy_color_dominant_color', 'fancy_color_secondary_color', 'fancy_color_overtone', 'fancy_color_intensity']\n"
          ]
        }
      ]
    },
    {
      "cell_type": "markdown",
      "source": [
        "В нашем датасете присутствуют колонки, которые начинаются с `fancy_color_` или `fluor_`. Большинство значений в этих колонках - `unknown` или `None`, поэтому мы считаем их малоинформативными. "
      ],
      "metadata": {
        "id": "UznNZpJ47qGX"
      }
    },
    {
      "cell_type": "markdown",
      "source": [
        "Ваша задача:"
      ],
      "metadata": {
        "id": "Rkk6Hr2Ui87X"
      }
    },
    {
      "cell_type": "markdown",
      "source": [
        "1. (0.5 балла) найти количество таких колонок, которые начинаются с `fancy_color_` или `fluor_`:"
      ],
      "metadata": {
        "id": "YYBDAgSSi-JU"
      }
    },
    {
      "cell_type": "code",
      "source": [
        "count = len([col for col in diamonds.columns if any([col[0:12] == \"fancy_color_\", col[0:6] == \"fluor_\"])])\n",
        "print(count)"
      ],
      "metadata": {
        "id": "nbTUkk4T8-wO",
        "colab": {
          "base_uri": "https://localhost:8080/"
        },
        "outputId": "c23b005c-16aa-48bd-bf53-461e802f8604"
      },
      "execution_count": 172,
      "outputs": [
        {
          "output_type": "stream",
          "name": "stdout",
          "text": [
            "6\n"
          ]
        }
      ]
    },
    {
      "cell_type": "markdown",
      "source": [
        "2. (0.5 балла) найти количество информативных (не `None` или `unknown`) значений в этих колонках: "
      ],
      "metadata": {
        "id": "imop6nNujA6z"
      }
    },
    {
      "cell_type": "code",
      "source": [
        "s = sum(diamonds.shape[0] - diamonds[col].isnull().sum() for col in diamonds.columns if any([col[0:12] == \"fancy_color_\", col[0:6] == \"fluor_\"]))\n",
        "print(s)"
      ],
      "metadata": {
        "id": "jtJcBwAVjPHU",
        "colab": {
          "base_uri": "https://localhost:8080/"
        },
        "outputId": "518cb22a-bae3-4673-805b-499d0d25bbd4"
      },
      "execution_count": 173,
      "outputs": [
        {
          "output_type": "stream",
          "name": "stdout",
          "text": [
            "111586\n"
          ]
        }
      ]
    },
    {
      "cell_type": "markdown",
      "source": [
        "3. (0.5 балла) удалить данные колонки из датасета, сохранив изменения (в дальнейшем работаем измененным датасетом):"
      ],
      "metadata": {
        "id": "wFbuTnkbjPeq"
      }
    },
    {
      "cell_type": "code",
      "source": [
        "all = [col for col in diamonds.columns if any([col[0:12] == \"fancy_color_\", col[0:6] == \"fluor_\"])]\n",
        "diamonds.drop(columns = all, axis=1, inplace=True)"
      ],
      "metadata": {
        "id": "qSZ5cmKWjutz"
      },
      "execution_count": 174,
      "outputs": []
    },
    {
      "cell_type": "markdown",
      "source": [
        "(1 балл) Проделайте тоже самое для колонок, начинающихся с `culet_`:"
      ],
      "metadata": {
        "id": "JID3q4vr8-2h"
      }
    },
    {
      "cell_type": "code",
      "source": [
        "all = [col for col in diamonds.columns if col[0:6] == \"culet_\"]\n",
        "diamonds.drop(columns = all, axis=1, inplace=True)"
      ],
      "metadata": {
        "id": "Wfsvzyad-T6P"
      },
      "execution_count": 175,
      "outputs": []
    },
    {
      "cell_type": "markdown",
      "source": [
        "(1 балл) Посчитайте сколько бы стоил (в тысячах долларов) сейф, в котором хранились бы все бриллианты из датасета:"
      ],
      "metadata": {
        "id": "7_qYv5Xm-UCz"
      }
    },
    {
      "cell_type": "code",
      "source": [
        "round(diamonds['total_sales_price'].sum() / 1000 + 0.5)"
      ],
      "metadata": {
        "id": "g2wVyz5U-cx7",
        "colab": {
          "base_uri": "https://localhost:8080/"
        },
        "outputId": "9e13430a-1725-4a72-e5bf-a153f9f530b5"
      },
      "execution_count": 176,
      "outputs": [
        {
          "output_type": "execute_result",
          "data": {
            "text/plain": [
              "1517722"
            ]
          },
          "metadata": {},
          "execution_count": 176
        }
      ]
    },
    {
      "cell_type": "markdown",
      "source": [
        "Немного необоснованных манипуляций."
      ],
      "metadata": {
        "id": "GVwspHrUkRFv"
      }
    },
    {
      "cell_type": "markdown",
      "source": [
        "(1 балл) Выберите из датасета строки с четными индексами и выведете значения (не меняя нумерацию индексов):"
      ],
      "metadata": {
        "id": "0j5Yr0mFxxfu"
      }
    },
    {
      "cell_type": "code",
      "source": [
        "diamonds[::2]"
      ],
      "metadata": {
        "id": "dW2GOROfx6yd",
        "colab": {
          "base_uri": "https://localhost:8080/",
          "height": 609
        },
        "outputId": "742091c8-ce67-425e-cc80-b4ea78c3b98d"
      },
      "execution_count": 177,
      "outputs": [
        {
          "output_type": "execute_result",
          "data": {
            "text/plain": [
              "        Unnamed: 0    cut color clarity  carat_weight cut_quality  lab  \\\n",
              "0                0  Round     E    VVS2          0.09   Excellent  IGI   \n",
              "2                2  Round     E    VVS2          0.09   Excellent  IGI   \n",
              "4                4  Round     E    VVS2          0.09   Very Good  IGI   \n",
              "6                6  Round     E    VVS2          0.09   Very Good  IGI   \n",
              "8                8  Round     E    VVS2          0.09   Very Good  IGI   \n",
              "...            ...    ...   ...     ...           ...         ...  ...   \n",
              "219694      219695  Round     D      IF         12.52   Excellent  HRD   \n",
              "219696      219697   Oval     H     VS2         18.88        <NA>  GIA   \n",
              "219698      219699  Round     E     VS1         10.65   Excellent  GIA   \n",
              "219700      219701  Round     E     VS1         18.07   Excellent  GIA   \n",
              "219702      219703   Pear  <NA>    VVS2         10.03        <NA>  GIA   \n",
              "\n",
              "         symmetry     polish eye_clean  depth_percent  table_percent  \\\n",
              "0       Very Good  Very Good      <NA>           62.7           59.0   \n",
              "2       Very Good  Very Good      <NA>           61.1           59.0   \n",
              "4       Very Good  Excellent      <NA>           64.9           58.5   \n",
              "6       Very Good  Very Good      <NA>           64.0           57.0   \n",
              "8       Very Good  Very Good      <NA>           63.5           59.5   \n",
              "...           ...        ...       ...            ...            ...   \n",
              "219694  Excellent  Excellent      <NA>           62.1           58.0   \n",
              "219696  Excellent  Excellent      <NA>           57.1           55.0   \n",
              "219698  Excellent  Excellent      <NA>           61.3           58.0   \n",
              "219700  Excellent  Excellent      <NA>           60.2           59.0   \n",
              "219702  Very Good  Excellent      <NA>           66.7           65.0   \n",
              "\n",
              "        meas_length  meas_width  meas_depth girdle_min girdle_max  \\\n",
              "0              2.85        2.87        1.79          M          M   \n",
              "2              2.88        2.90        1.77         TN          M   \n",
              "4              2.79        2.83        1.82        STK        STK   \n",
              "6              2.85        2.88        1.84        STK        STK   \n",
              "8              2.89        2.92        1.85        STK         TK   \n",
              "...             ...         ...         ...        ...        ...   \n",
              "219694        14.84       14.91        9.24       <NA>       <NA>   \n",
              "219696        21.34       15.23        8.69         TN        STK   \n",
              "219698        14.06       14.18        8.66          M        STK   \n",
              "219700        17.06       17.10       10.20         TN          M   \n",
              "219702        15.61       11.09        7.39       <NA>       <NA>   \n",
              "\n",
              "        total_sales_price  \n",
              "0                     200  \n",
              "2                     200  \n",
              "4                     200  \n",
              "6                     200  \n",
              "8                     200  \n",
              "...                   ...  \n",
              "219694            1121792  \n",
              "219696            1132347  \n",
              "219698            1210692  \n",
              "219700            1315496  \n",
              "219702            1449881  \n",
              "\n",
              "[109852 rows x 18 columns]"
            ],
            "text/html": [
              "\n",
              "  <div id=\"df-58bb0a93-c230-49db-a8b4-9a932f537857\">\n",
              "    <div class=\"colab-df-container\">\n",
              "      <div>\n",
              "<style scoped>\n",
              "    .dataframe tbody tr th:only-of-type {\n",
              "        vertical-align: middle;\n",
              "    }\n",
              "\n",
              "    .dataframe tbody tr th {\n",
              "        vertical-align: top;\n",
              "    }\n",
              "\n",
              "    .dataframe thead th {\n",
              "        text-align: right;\n",
              "    }\n",
              "</style>\n",
              "<table border=\"1\" class=\"dataframe\">\n",
              "  <thead>\n",
              "    <tr style=\"text-align: right;\">\n",
              "      <th></th>\n",
              "      <th>Unnamed: 0</th>\n",
              "      <th>cut</th>\n",
              "      <th>color</th>\n",
              "      <th>clarity</th>\n",
              "      <th>carat_weight</th>\n",
              "      <th>cut_quality</th>\n",
              "      <th>lab</th>\n",
              "      <th>symmetry</th>\n",
              "      <th>polish</th>\n",
              "      <th>eye_clean</th>\n",
              "      <th>depth_percent</th>\n",
              "      <th>table_percent</th>\n",
              "      <th>meas_length</th>\n",
              "      <th>meas_width</th>\n",
              "      <th>meas_depth</th>\n",
              "      <th>girdle_min</th>\n",
              "      <th>girdle_max</th>\n",
              "      <th>total_sales_price</th>\n",
              "    </tr>\n",
              "  </thead>\n",
              "  <tbody>\n",
              "    <tr>\n",
              "      <th>0</th>\n",
              "      <td>0</td>\n",
              "      <td>Round</td>\n",
              "      <td>E</td>\n",
              "      <td>VVS2</td>\n",
              "      <td>0.09</td>\n",
              "      <td>Excellent</td>\n",
              "      <td>IGI</td>\n",
              "      <td>Very Good</td>\n",
              "      <td>Very Good</td>\n",
              "      <td>&lt;NA&gt;</td>\n",
              "      <td>62.7</td>\n",
              "      <td>59.0</td>\n",
              "      <td>2.85</td>\n",
              "      <td>2.87</td>\n",
              "      <td>1.79</td>\n",
              "      <td>M</td>\n",
              "      <td>M</td>\n",
              "      <td>200</td>\n",
              "    </tr>\n",
              "    <tr>\n",
              "      <th>2</th>\n",
              "      <td>2</td>\n",
              "      <td>Round</td>\n",
              "      <td>E</td>\n",
              "      <td>VVS2</td>\n",
              "      <td>0.09</td>\n",
              "      <td>Excellent</td>\n",
              "      <td>IGI</td>\n",
              "      <td>Very Good</td>\n",
              "      <td>Very Good</td>\n",
              "      <td>&lt;NA&gt;</td>\n",
              "      <td>61.1</td>\n",
              "      <td>59.0</td>\n",
              "      <td>2.88</td>\n",
              "      <td>2.90</td>\n",
              "      <td>1.77</td>\n",
              "      <td>TN</td>\n",
              "      <td>M</td>\n",
              "      <td>200</td>\n",
              "    </tr>\n",
              "    <tr>\n",
              "      <th>4</th>\n",
              "      <td>4</td>\n",
              "      <td>Round</td>\n",
              "      <td>E</td>\n",
              "      <td>VVS2</td>\n",
              "      <td>0.09</td>\n",
              "      <td>Very Good</td>\n",
              "      <td>IGI</td>\n",
              "      <td>Very Good</td>\n",
              "      <td>Excellent</td>\n",
              "      <td>&lt;NA&gt;</td>\n",
              "      <td>64.9</td>\n",
              "      <td>58.5</td>\n",
              "      <td>2.79</td>\n",
              "      <td>2.83</td>\n",
              "      <td>1.82</td>\n",
              "      <td>STK</td>\n",
              "      <td>STK</td>\n",
              "      <td>200</td>\n",
              "    </tr>\n",
              "    <tr>\n",
              "      <th>6</th>\n",
              "      <td>6</td>\n",
              "      <td>Round</td>\n",
              "      <td>E</td>\n",
              "      <td>VVS2</td>\n",
              "      <td>0.09</td>\n",
              "      <td>Very Good</td>\n",
              "      <td>IGI</td>\n",
              "      <td>Very Good</td>\n",
              "      <td>Very Good</td>\n",
              "      <td>&lt;NA&gt;</td>\n",
              "      <td>64.0</td>\n",
              "      <td>57.0</td>\n",
              "      <td>2.85</td>\n",
              "      <td>2.88</td>\n",
              "      <td>1.84</td>\n",
              "      <td>STK</td>\n",
              "      <td>STK</td>\n",
              "      <td>200</td>\n",
              "    </tr>\n",
              "    <tr>\n",
              "      <th>8</th>\n",
              "      <td>8</td>\n",
              "      <td>Round</td>\n",
              "      <td>E</td>\n",
              "      <td>VVS2</td>\n",
              "      <td>0.09</td>\n",
              "      <td>Very Good</td>\n",
              "      <td>IGI</td>\n",
              "      <td>Very Good</td>\n",
              "      <td>Very Good</td>\n",
              "      <td>&lt;NA&gt;</td>\n",
              "      <td>63.5</td>\n",
              "      <td>59.5</td>\n",
              "      <td>2.89</td>\n",
              "      <td>2.92</td>\n",
              "      <td>1.85</td>\n",
              "      <td>STK</td>\n",
              "      <td>TK</td>\n",
              "      <td>200</td>\n",
              "    </tr>\n",
              "    <tr>\n",
              "      <th>...</th>\n",
              "      <td>...</td>\n",
              "      <td>...</td>\n",
              "      <td>...</td>\n",
              "      <td>...</td>\n",
              "      <td>...</td>\n",
              "      <td>...</td>\n",
              "      <td>...</td>\n",
              "      <td>...</td>\n",
              "      <td>...</td>\n",
              "      <td>...</td>\n",
              "      <td>...</td>\n",
              "      <td>...</td>\n",
              "      <td>...</td>\n",
              "      <td>...</td>\n",
              "      <td>...</td>\n",
              "      <td>...</td>\n",
              "      <td>...</td>\n",
              "      <td>...</td>\n",
              "    </tr>\n",
              "    <tr>\n",
              "      <th>219694</th>\n",
              "      <td>219695</td>\n",
              "      <td>Round</td>\n",
              "      <td>D</td>\n",
              "      <td>IF</td>\n",
              "      <td>12.52</td>\n",
              "      <td>Excellent</td>\n",
              "      <td>HRD</td>\n",
              "      <td>Excellent</td>\n",
              "      <td>Excellent</td>\n",
              "      <td>&lt;NA&gt;</td>\n",
              "      <td>62.1</td>\n",
              "      <td>58.0</td>\n",
              "      <td>14.84</td>\n",
              "      <td>14.91</td>\n",
              "      <td>9.24</td>\n",
              "      <td>&lt;NA&gt;</td>\n",
              "      <td>&lt;NA&gt;</td>\n",
              "      <td>1121792</td>\n",
              "    </tr>\n",
              "    <tr>\n",
              "      <th>219696</th>\n",
              "      <td>219697</td>\n",
              "      <td>Oval</td>\n",
              "      <td>H</td>\n",
              "      <td>VS2</td>\n",
              "      <td>18.88</td>\n",
              "      <td>&lt;NA&gt;</td>\n",
              "      <td>GIA</td>\n",
              "      <td>Excellent</td>\n",
              "      <td>Excellent</td>\n",
              "      <td>&lt;NA&gt;</td>\n",
              "      <td>57.1</td>\n",
              "      <td>55.0</td>\n",
              "      <td>21.34</td>\n",
              "      <td>15.23</td>\n",
              "      <td>8.69</td>\n",
              "      <td>TN</td>\n",
              "      <td>STK</td>\n",
              "      <td>1132347</td>\n",
              "    </tr>\n",
              "    <tr>\n",
              "      <th>219698</th>\n",
              "      <td>219699</td>\n",
              "      <td>Round</td>\n",
              "      <td>E</td>\n",
              "      <td>VS1</td>\n",
              "      <td>10.65</td>\n",
              "      <td>Excellent</td>\n",
              "      <td>GIA</td>\n",
              "      <td>Excellent</td>\n",
              "      <td>Excellent</td>\n",
              "      <td>&lt;NA&gt;</td>\n",
              "      <td>61.3</td>\n",
              "      <td>58.0</td>\n",
              "      <td>14.06</td>\n",
              "      <td>14.18</td>\n",
              "      <td>8.66</td>\n",
              "      <td>M</td>\n",
              "      <td>STK</td>\n",
              "      <td>1210692</td>\n",
              "    </tr>\n",
              "    <tr>\n",
              "      <th>219700</th>\n",
              "      <td>219701</td>\n",
              "      <td>Round</td>\n",
              "      <td>E</td>\n",
              "      <td>VS1</td>\n",
              "      <td>18.07</td>\n",
              "      <td>Excellent</td>\n",
              "      <td>GIA</td>\n",
              "      <td>Excellent</td>\n",
              "      <td>Excellent</td>\n",
              "      <td>&lt;NA&gt;</td>\n",
              "      <td>60.2</td>\n",
              "      <td>59.0</td>\n",
              "      <td>17.06</td>\n",
              "      <td>17.10</td>\n",
              "      <td>10.20</td>\n",
              "      <td>TN</td>\n",
              "      <td>M</td>\n",
              "      <td>1315496</td>\n",
              "    </tr>\n",
              "    <tr>\n",
              "      <th>219702</th>\n",
              "      <td>219703</td>\n",
              "      <td>Pear</td>\n",
              "      <td>&lt;NA&gt;</td>\n",
              "      <td>VVS2</td>\n",
              "      <td>10.03</td>\n",
              "      <td>&lt;NA&gt;</td>\n",
              "      <td>GIA</td>\n",
              "      <td>Very Good</td>\n",
              "      <td>Excellent</td>\n",
              "      <td>&lt;NA&gt;</td>\n",
              "      <td>66.7</td>\n",
              "      <td>65.0</td>\n",
              "      <td>15.61</td>\n",
              "      <td>11.09</td>\n",
              "      <td>7.39</td>\n",
              "      <td>&lt;NA&gt;</td>\n",
              "      <td>&lt;NA&gt;</td>\n",
              "      <td>1449881</td>\n",
              "    </tr>\n",
              "  </tbody>\n",
              "</table>\n",
              "<p>109852 rows × 18 columns</p>\n",
              "</div>\n",
              "      <button class=\"colab-df-convert\" onclick=\"convertToInteractive('df-58bb0a93-c230-49db-a8b4-9a932f537857')\"\n",
              "              title=\"Convert this dataframe to an interactive table.\"\n",
              "              style=\"display:none;\">\n",
              "        \n",
              "  <svg xmlns=\"http://www.w3.org/2000/svg\" height=\"24px\"viewBox=\"0 0 24 24\"\n",
              "       width=\"24px\">\n",
              "    <path d=\"M0 0h24v24H0V0z\" fill=\"none\"/>\n",
              "    <path d=\"M18.56 5.44l.94 2.06.94-2.06 2.06-.94-2.06-.94-.94-2.06-.94 2.06-2.06.94zm-11 1L8.5 8.5l.94-2.06 2.06-.94-2.06-.94L8.5 2.5l-.94 2.06-2.06.94zm10 10l.94 2.06.94-2.06 2.06-.94-2.06-.94-.94-2.06-.94 2.06-2.06.94z\"/><path d=\"M17.41 7.96l-1.37-1.37c-.4-.4-.92-.59-1.43-.59-.52 0-1.04.2-1.43.59L10.3 9.45l-7.72 7.72c-.78.78-.78 2.05 0 2.83L4 21.41c.39.39.9.59 1.41.59.51 0 1.02-.2 1.41-.59l7.78-7.78 2.81-2.81c.8-.78.8-2.07 0-2.86zM5.41 20L4 18.59l7.72-7.72 1.47 1.35L5.41 20z\"/>\n",
              "  </svg>\n",
              "      </button>\n",
              "      \n",
              "  <style>\n",
              "    .colab-df-container {\n",
              "      display:flex;\n",
              "      flex-wrap:wrap;\n",
              "      gap: 12px;\n",
              "    }\n",
              "\n",
              "    .colab-df-convert {\n",
              "      background-color: #E8F0FE;\n",
              "      border: none;\n",
              "      border-radius: 50%;\n",
              "      cursor: pointer;\n",
              "      display: none;\n",
              "      fill: #1967D2;\n",
              "      height: 32px;\n",
              "      padding: 0 0 0 0;\n",
              "      width: 32px;\n",
              "    }\n",
              "\n",
              "    .colab-df-convert:hover {\n",
              "      background-color: #E2EBFA;\n",
              "      box-shadow: 0px 1px 2px rgba(60, 64, 67, 0.3), 0px 1px 3px 1px rgba(60, 64, 67, 0.15);\n",
              "      fill: #174EA6;\n",
              "    }\n",
              "\n",
              "    [theme=dark] .colab-df-convert {\n",
              "      background-color: #3B4455;\n",
              "      fill: #D2E3FC;\n",
              "    }\n",
              "\n",
              "    [theme=dark] .colab-df-convert:hover {\n",
              "      background-color: #434B5C;\n",
              "      box-shadow: 0px 1px 3px 1px rgba(0, 0, 0, 0.15);\n",
              "      filter: drop-shadow(0px 1px 2px rgba(0, 0, 0, 0.3));\n",
              "      fill: #FFFFFF;\n",
              "    }\n",
              "  </style>\n",
              "\n",
              "      <script>\n",
              "        const buttonEl =\n",
              "          document.querySelector('#df-58bb0a93-c230-49db-a8b4-9a932f537857 button.colab-df-convert');\n",
              "        buttonEl.style.display =\n",
              "          google.colab.kernel.accessAllowed ? 'block' : 'none';\n",
              "\n",
              "        async function convertToInteractive(key) {\n",
              "          const element = document.querySelector('#df-58bb0a93-c230-49db-a8b4-9a932f537857');\n",
              "          const dataTable =\n",
              "            await google.colab.kernel.invokeFunction('convertToInteractive',\n",
              "                                                     [key], {});\n",
              "          if (!dataTable) return;\n",
              "\n",
              "          const docLinkHtml = 'Like what you see? Visit the ' +\n",
              "            '<a target=\"_blank\" href=https://colab.research.google.com/notebooks/data_table.ipynb>data table notebook</a>'\n",
              "            + ' to learn more about interactive tables.';\n",
              "          element.innerHTML = '';\n",
              "          dataTable['output_type'] = 'display_data';\n",
              "          await google.colab.output.renderOutput(dataTable, element);\n",
              "          const docLink = document.createElement('div');\n",
              "          docLink.innerHTML = docLinkHtml;\n",
              "          element.appendChild(docLink);\n",
              "        }\n",
              "      </script>\n",
              "    </div>\n",
              "  </div>\n",
              "  "
            ]
          },
          "metadata": {},
          "execution_count": 177
        }
      ]
    },
    {
      "cell_type": "markdown",
      "source": [
        "(0.5 балла) А теперь с индексами, кратными 6:"
      ],
      "metadata": {
        "id": "mNXqS4oox7TF"
      }
    },
    {
      "cell_type": "code",
      "source": [
        "diamonds[::6]"
      ],
      "metadata": {
        "id": "hy8LyzXix_SB",
        "colab": {
          "base_uri": "https://localhost:8080/",
          "height": 591
        },
        "outputId": "2ed7f00b-e81a-459d-c41c-207effca7eed"
      },
      "execution_count": 178,
      "outputs": [
        {
          "output_type": "execute_result",
          "data": {
            "text/plain": [
              "        Unnamed: 0      cut color clarity  carat_weight cut_quality  lab  \\\n",
              "0                0    Round     E    VVS2          0.09   Excellent  IGI   \n",
              "6                6    Round     E    VVS2          0.09   Very Good  IGI   \n",
              "12              12    Round     E    VVS2          0.09   Very Good  IGI   \n",
              "18              18    Round     E    VVS2          0.09   Excellent  IGI   \n",
              "24              24    Round     L      I1          0.34   Excellent  IGI   \n",
              "...            ...      ...   ...     ...           ...         ...  ...   \n",
              "219678      219679    Round     G     VS1         10.23   Excellent  GIA   \n",
              "219684      219685  Radiant  <NA>      I1          0.89        <NA>  GIA   \n",
              "219690      219691    Round     D    VVS2         10.10   Excellent  GIA   \n",
              "219696      219697     Oval     H     VS2         18.88        <NA>  GIA   \n",
              "219702      219703     Pear  <NA>    VVS2         10.03        <NA>  GIA   \n",
              "\n",
              "         symmetry     polish eye_clean  depth_percent  table_percent  \\\n",
              "0       Very Good  Very Good      <NA>           62.7           59.0   \n",
              "6       Very Good  Very Good      <NA>           64.0           57.0   \n",
              "12      Very Good  Very Good      <NA>           61.8           58.5   \n",
              "18      Very Good  Very Good      <NA>           61.0           60.0   \n",
              "24      Excellent  Excellent      <NA>            0.0            0.0   \n",
              "...           ...        ...       ...            ...            ...   \n",
              "219678  Excellent  Excellent      <NA>           62.7           55.0   \n",
              "219684       Good       Good      <NA>           63.8           57.0   \n",
              "219690  Excellent  Excellent      <NA>           59.4           59.0   \n",
              "219696  Excellent  Excellent      <NA>           57.1           55.0   \n",
              "219702  Very Good  Excellent      <NA>           66.7           65.0   \n",
              "\n",
              "        meas_length  meas_width  meas_depth girdle_min girdle_max  \\\n",
              "0              2.85        2.87        1.79          M          M   \n",
              "6              2.85        2.88        1.84        STK        STK   \n",
              "12             2.85        2.89        1.77        STK         TK   \n",
              "18             2.91        2.92        1.78          M          M   \n",
              "24             0.00        0.00        0.00       <NA>       <NA>   \n",
              "...             ...         ...         ...        ...        ...   \n",
              "219678        13.82       13.92        8.69         TN          M   \n",
              "219684         6.44        4.96        3.16         TK        VTK   \n",
              "219690        14.07       14.15        8.39          M        STK   \n",
              "219696        21.34       15.23        8.69         TN        STK   \n",
              "219702        15.61       11.09        7.39       <NA>       <NA>   \n",
              "\n",
              "        total_sales_price  \n",
              "0                     200  \n",
              "6                     200  \n",
              "12                    200  \n",
              "18                    200  \n",
              "24                    204  \n",
              "...                   ...  \n",
              "219678             859320  \n",
              "219684             982560  \n",
              "219690            1040739  \n",
              "219696            1132347  \n",
              "219702            1449881  \n",
              "\n",
              "[36618 rows x 18 columns]"
            ],
            "text/html": [
              "\n",
              "  <div id=\"df-25f0941c-d8e1-4d0d-a4fd-959432f2a220\">\n",
              "    <div class=\"colab-df-container\">\n",
              "      <div>\n",
              "<style scoped>\n",
              "    .dataframe tbody tr th:only-of-type {\n",
              "        vertical-align: middle;\n",
              "    }\n",
              "\n",
              "    .dataframe tbody tr th {\n",
              "        vertical-align: top;\n",
              "    }\n",
              "\n",
              "    .dataframe thead th {\n",
              "        text-align: right;\n",
              "    }\n",
              "</style>\n",
              "<table border=\"1\" class=\"dataframe\">\n",
              "  <thead>\n",
              "    <tr style=\"text-align: right;\">\n",
              "      <th></th>\n",
              "      <th>Unnamed: 0</th>\n",
              "      <th>cut</th>\n",
              "      <th>color</th>\n",
              "      <th>clarity</th>\n",
              "      <th>carat_weight</th>\n",
              "      <th>cut_quality</th>\n",
              "      <th>lab</th>\n",
              "      <th>symmetry</th>\n",
              "      <th>polish</th>\n",
              "      <th>eye_clean</th>\n",
              "      <th>depth_percent</th>\n",
              "      <th>table_percent</th>\n",
              "      <th>meas_length</th>\n",
              "      <th>meas_width</th>\n",
              "      <th>meas_depth</th>\n",
              "      <th>girdle_min</th>\n",
              "      <th>girdle_max</th>\n",
              "      <th>total_sales_price</th>\n",
              "    </tr>\n",
              "  </thead>\n",
              "  <tbody>\n",
              "    <tr>\n",
              "      <th>0</th>\n",
              "      <td>0</td>\n",
              "      <td>Round</td>\n",
              "      <td>E</td>\n",
              "      <td>VVS2</td>\n",
              "      <td>0.09</td>\n",
              "      <td>Excellent</td>\n",
              "      <td>IGI</td>\n",
              "      <td>Very Good</td>\n",
              "      <td>Very Good</td>\n",
              "      <td>&lt;NA&gt;</td>\n",
              "      <td>62.7</td>\n",
              "      <td>59.0</td>\n",
              "      <td>2.85</td>\n",
              "      <td>2.87</td>\n",
              "      <td>1.79</td>\n",
              "      <td>M</td>\n",
              "      <td>M</td>\n",
              "      <td>200</td>\n",
              "    </tr>\n",
              "    <tr>\n",
              "      <th>6</th>\n",
              "      <td>6</td>\n",
              "      <td>Round</td>\n",
              "      <td>E</td>\n",
              "      <td>VVS2</td>\n",
              "      <td>0.09</td>\n",
              "      <td>Very Good</td>\n",
              "      <td>IGI</td>\n",
              "      <td>Very Good</td>\n",
              "      <td>Very Good</td>\n",
              "      <td>&lt;NA&gt;</td>\n",
              "      <td>64.0</td>\n",
              "      <td>57.0</td>\n",
              "      <td>2.85</td>\n",
              "      <td>2.88</td>\n",
              "      <td>1.84</td>\n",
              "      <td>STK</td>\n",
              "      <td>STK</td>\n",
              "      <td>200</td>\n",
              "    </tr>\n",
              "    <tr>\n",
              "      <th>12</th>\n",
              "      <td>12</td>\n",
              "      <td>Round</td>\n",
              "      <td>E</td>\n",
              "      <td>VVS2</td>\n",
              "      <td>0.09</td>\n",
              "      <td>Very Good</td>\n",
              "      <td>IGI</td>\n",
              "      <td>Very Good</td>\n",
              "      <td>Very Good</td>\n",
              "      <td>&lt;NA&gt;</td>\n",
              "      <td>61.8</td>\n",
              "      <td>58.5</td>\n",
              "      <td>2.85</td>\n",
              "      <td>2.89</td>\n",
              "      <td>1.77</td>\n",
              "      <td>STK</td>\n",
              "      <td>TK</td>\n",
              "      <td>200</td>\n",
              "    </tr>\n",
              "    <tr>\n",
              "      <th>18</th>\n",
              "      <td>18</td>\n",
              "      <td>Round</td>\n",
              "      <td>E</td>\n",
              "      <td>VVS2</td>\n",
              "      <td>0.09</td>\n",
              "      <td>Excellent</td>\n",
              "      <td>IGI</td>\n",
              "      <td>Very Good</td>\n",
              "      <td>Very Good</td>\n",
              "      <td>&lt;NA&gt;</td>\n",
              "      <td>61.0</td>\n",
              "      <td>60.0</td>\n",
              "      <td>2.91</td>\n",
              "      <td>2.92</td>\n",
              "      <td>1.78</td>\n",
              "      <td>M</td>\n",
              "      <td>M</td>\n",
              "      <td>200</td>\n",
              "    </tr>\n",
              "    <tr>\n",
              "      <th>24</th>\n",
              "      <td>24</td>\n",
              "      <td>Round</td>\n",
              "      <td>L</td>\n",
              "      <td>I1</td>\n",
              "      <td>0.34</td>\n",
              "      <td>Excellent</td>\n",
              "      <td>IGI</td>\n",
              "      <td>Excellent</td>\n",
              "      <td>Excellent</td>\n",
              "      <td>&lt;NA&gt;</td>\n",
              "      <td>0.0</td>\n",
              "      <td>0.0</td>\n",
              "      <td>0.00</td>\n",
              "      <td>0.00</td>\n",
              "      <td>0.00</td>\n",
              "      <td>&lt;NA&gt;</td>\n",
              "      <td>&lt;NA&gt;</td>\n",
              "      <td>204</td>\n",
              "    </tr>\n",
              "    <tr>\n",
              "      <th>...</th>\n",
              "      <td>...</td>\n",
              "      <td>...</td>\n",
              "      <td>...</td>\n",
              "      <td>...</td>\n",
              "      <td>...</td>\n",
              "      <td>...</td>\n",
              "      <td>...</td>\n",
              "      <td>...</td>\n",
              "      <td>...</td>\n",
              "      <td>...</td>\n",
              "      <td>...</td>\n",
              "      <td>...</td>\n",
              "      <td>...</td>\n",
              "      <td>...</td>\n",
              "      <td>...</td>\n",
              "      <td>...</td>\n",
              "      <td>...</td>\n",
              "      <td>...</td>\n",
              "    </tr>\n",
              "    <tr>\n",
              "      <th>219678</th>\n",
              "      <td>219679</td>\n",
              "      <td>Round</td>\n",
              "      <td>G</td>\n",
              "      <td>VS1</td>\n",
              "      <td>10.23</td>\n",
              "      <td>Excellent</td>\n",
              "      <td>GIA</td>\n",
              "      <td>Excellent</td>\n",
              "      <td>Excellent</td>\n",
              "      <td>&lt;NA&gt;</td>\n",
              "      <td>62.7</td>\n",
              "      <td>55.0</td>\n",
              "      <td>13.82</td>\n",
              "      <td>13.92</td>\n",
              "      <td>8.69</td>\n",
              "      <td>TN</td>\n",
              "      <td>M</td>\n",
              "      <td>859320</td>\n",
              "    </tr>\n",
              "    <tr>\n",
              "      <th>219684</th>\n",
              "      <td>219685</td>\n",
              "      <td>Radiant</td>\n",
              "      <td>&lt;NA&gt;</td>\n",
              "      <td>I1</td>\n",
              "      <td>0.89</td>\n",
              "      <td>&lt;NA&gt;</td>\n",
              "      <td>GIA</td>\n",
              "      <td>Good</td>\n",
              "      <td>Good</td>\n",
              "      <td>&lt;NA&gt;</td>\n",
              "      <td>63.8</td>\n",
              "      <td>57.0</td>\n",
              "      <td>6.44</td>\n",
              "      <td>4.96</td>\n",
              "      <td>3.16</td>\n",
              "      <td>TK</td>\n",
              "      <td>VTK</td>\n",
              "      <td>982560</td>\n",
              "    </tr>\n",
              "    <tr>\n",
              "      <th>219690</th>\n",
              "      <td>219691</td>\n",
              "      <td>Round</td>\n",
              "      <td>D</td>\n",
              "      <td>VVS2</td>\n",
              "      <td>10.10</td>\n",
              "      <td>Excellent</td>\n",
              "      <td>GIA</td>\n",
              "      <td>Excellent</td>\n",
              "      <td>Excellent</td>\n",
              "      <td>&lt;NA&gt;</td>\n",
              "      <td>59.4</td>\n",
              "      <td>59.0</td>\n",
              "      <td>14.07</td>\n",
              "      <td>14.15</td>\n",
              "      <td>8.39</td>\n",
              "      <td>M</td>\n",
              "      <td>STK</td>\n",
              "      <td>1040739</td>\n",
              "    </tr>\n",
              "    <tr>\n",
              "      <th>219696</th>\n",
              "      <td>219697</td>\n",
              "      <td>Oval</td>\n",
              "      <td>H</td>\n",
              "      <td>VS2</td>\n",
              "      <td>18.88</td>\n",
              "      <td>&lt;NA&gt;</td>\n",
              "      <td>GIA</td>\n",
              "      <td>Excellent</td>\n",
              "      <td>Excellent</td>\n",
              "      <td>&lt;NA&gt;</td>\n",
              "      <td>57.1</td>\n",
              "      <td>55.0</td>\n",
              "      <td>21.34</td>\n",
              "      <td>15.23</td>\n",
              "      <td>8.69</td>\n",
              "      <td>TN</td>\n",
              "      <td>STK</td>\n",
              "      <td>1132347</td>\n",
              "    </tr>\n",
              "    <tr>\n",
              "      <th>219702</th>\n",
              "      <td>219703</td>\n",
              "      <td>Pear</td>\n",
              "      <td>&lt;NA&gt;</td>\n",
              "      <td>VVS2</td>\n",
              "      <td>10.03</td>\n",
              "      <td>&lt;NA&gt;</td>\n",
              "      <td>GIA</td>\n",
              "      <td>Very Good</td>\n",
              "      <td>Excellent</td>\n",
              "      <td>&lt;NA&gt;</td>\n",
              "      <td>66.7</td>\n",
              "      <td>65.0</td>\n",
              "      <td>15.61</td>\n",
              "      <td>11.09</td>\n",
              "      <td>7.39</td>\n",
              "      <td>&lt;NA&gt;</td>\n",
              "      <td>&lt;NA&gt;</td>\n",
              "      <td>1449881</td>\n",
              "    </tr>\n",
              "  </tbody>\n",
              "</table>\n",
              "<p>36618 rows × 18 columns</p>\n",
              "</div>\n",
              "      <button class=\"colab-df-convert\" onclick=\"convertToInteractive('df-25f0941c-d8e1-4d0d-a4fd-959432f2a220')\"\n",
              "              title=\"Convert this dataframe to an interactive table.\"\n",
              "              style=\"display:none;\">\n",
              "        \n",
              "  <svg xmlns=\"http://www.w3.org/2000/svg\" height=\"24px\"viewBox=\"0 0 24 24\"\n",
              "       width=\"24px\">\n",
              "    <path d=\"M0 0h24v24H0V0z\" fill=\"none\"/>\n",
              "    <path d=\"M18.56 5.44l.94 2.06.94-2.06 2.06-.94-2.06-.94-.94-2.06-.94 2.06-2.06.94zm-11 1L8.5 8.5l.94-2.06 2.06-.94-2.06-.94L8.5 2.5l-.94 2.06-2.06.94zm10 10l.94 2.06.94-2.06 2.06-.94-2.06-.94-.94-2.06-.94 2.06-2.06.94z\"/><path d=\"M17.41 7.96l-1.37-1.37c-.4-.4-.92-.59-1.43-.59-.52 0-1.04.2-1.43.59L10.3 9.45l-7.72 7.72c-.78.78-.78 2.05 0 2.83L4 21.41c.39.39.9.59 1.41.59.51 0 1.02-.2 1.41-.59l7.78-7.78 2.81-2.81c.8-.78.8-2.07 0-2.86zM5.41 20L4 18.59l7.72-7.72 1.47 1.35L5.41 20z\"/>\n",
              "  </svg>\n",
              "      </button>\n",
              "      \n",
              "  <style>\n",
              "    .colab-df-container {\n",
              "      display:flex;\n",
              "      flex-wrap:wrap;\n",
              "      gap: 12px;\n",
              "    }\n",
              "\n",
              "    .colab-df-convert {\n",
              "      background-color: #E8F0FE;\n",
              "      border: none;\n",
              "      border-radius: 50%;\n",
              "      cursor: pointer;\n",
              "      display: none;\n",
              "      fill: #1967D2;\n",
              "      height: 32px;\n",
              "      padding: 0 0 0 0;\n",
              "      width: 32px;\n",
              "    }\n",
              "\n",
              "    .colab-df-convert:hover {\n",
              "      background-color: #E2EBFA;\n",
              "      box-shadow: 0px 1px 2px rgba(60, 64, 67, 0.3), 0px 1px 3px 1px rgba(60, 64, 67, 0.15);\n",
              "      fill: #174EA6;\n",
              "    }\n",
              "\n",
              "    [theme=dark] .colab-df-convert {\n",
              "      background-color: #3B4455;\n",
              "      fill: #D2E3FC;\n",
              "    }\n",
              "\n",
              "    [theme=dark] .colab-df-convert:hover {\n",
              "      background-color: #434B5C;\n",
              "      box-shadow: 0px 1px 3px 1px rgba(0, 0, 0, 0.15);\n",
              "      filter: drop-shadow(0px 1px 2px rgba(0, 0, 0, 0.3));\n",
              "      fill: #FFFFFF;\n",
              "    }\n",
              "  </style>\n",
              "\n",
              "      <script>\n",
              "        const buttonEl =\n",
              "          document.querySelector('#df-25f0941c-d8e1-4d0d-a4fd-959432f2a220 button.colab-df-convert');\n",
              "        buttonEl.style.display =\n",
              "          google.colab.kernel.accessAllowed ? 'block' : 'none';\n",
              "\n",
              "        async function convertToInteractive(key) {\n",
              "          const element = document.querySelector('#df-25f0941c-d8e1-4d0d-a4fd-959432f2a220');\n",
              "          const dataTable =\n",
              "            await google.colab.kernel.invokeFunction('convertToInteractive',\n",
              "                                                     [key], {});\n",
              "          if (!dataTable) return;\n",
              "\n",
              "          const docLinkHtml = 'Like what you see? Visit the ' +\n",
              "            '<a target=\"_blank\" href=https://colab.research.google.com/notebooks/data_table.ipynb>data table notebook</a>'\n",
              "            + ' to learn more about interactive tables.';\n",
              "          element.innerHTML = '';\n",
              "          dataTable['output_type'] = 'display_data';\n",
              "          await google.colab.output.renderOutput(dataTable, element);\n",
              "          const docLink = document.createElement('div');\n",
              "          docLink.innerHTML = docLinkHtml;\n",
              "          element.appendChild(docLink);\n",
              "        }\n",
              "      </script>\n",
              "    </div>\n",
              "  </div>\n",
              "  "
            ]
          },
          "metadata": {},
          "execution_count": 178
        }
      ]
    },
    {
      "cell_type": "markdown",
      "source": [
        "(1 балл) Выберете из датасета только категорильные признаки и выведете датасет:"
      ],
      "metadata": {
        "id": "u94LL979x_bV"
      }
    },
    {
      "cell_type": "code",
      "source": [
        "diamonds.select_dtypes(include='object')"
      ],
      "metadata": {
        "id": "2_LBNDWXyOOl",
        "colab": {
          "base_uri": "https://localhost:8080/",
          "height": 609
        },
        "outputId": "282ac170-1be5-47bb-f31a-9b84a5d4cf74"
      },
      "execution_count": 179,
      "outputs": [
        {
          "output_type": "execute_result",
          "data": {
            "text/plain": [
              "             cut color clarity cut_quality  lab   symmetry     polish  \\\n",
              "0          Round     E    VVS2   Excellent  IGI  Very Good  Very Good   \n",
              "1          Round     E    VVS2   Very Good  IGI  Very Good  Very Good   \n",
              "2          Round     E    VVS2   Excellent  IGI  Very Good  Very Good   \n",
              "3          Round     E    VVS2   Excellent  IGI  Very Good  Very Good   \n",
              "4          Round     E    VVS2   Very Good  IGI  Very Good  Excellent   \n",
              "...          ...   ...     ...         ...  ...        ...        ...   \n",
              "219698     Round     E     VS1   Excellent  GIA  Excellent  Excellent   \n",
              "219699   Radiant  <NA>     VS2        <NA>  GIA  Very Good  Very Good   \n",
              "219700     Round     E     VS1   Excellent  GIA  Excellent  Excellent   \n",
              "219701  Princess  <NA>     SI2        <NA>  GIA       Good       Good   \n",
              "219702      Pear  <NA>    VVS2        <NA>  GIA  Very Good  Excellent   \n",
              "\n",
              "       eye_clean girdle_min girdle_max  \n",
              "0           <NA>          M          M  \n",
              "1           <NA>        STK        STK  \n",
              "2           <NA>         TN          M  \n",
              "3           <NA>          M        STK  \n",
              "4           <NA>        STK        STK  \n",
              "...          ...        ...        ...  \n",
              "219698      <NA>          M        STK  \n",
              "219699      <NA>         TK        XTK  \n",
              "219700      <NA>         TN          M  \n",
              "219701      <NA>        XTN        VTK  \n",
              "219702      <NA>       <NA>       <NA>  \n",
              "\n",
              "[219703 rows x 10 columns]"
            ],
            "text/html": [
              "\n",
              "  <div id=\"df-b5a21258-820d-427b-ba70-796bc3ac9dfd\">\n",
              "    <div class=\"colab-df-container\">\n",
              "      <div>\n",
              "<style scoped>\n",
              "    .dataframe tbody tr th:only-of-type {\n",
              "        vertical-align: middle;\n",
              "    }\n",
              "\n",
              "    .dataframe tbody tr th {\n",
              "        vertical-align: top;\n",
              "    }\n",
              "\n",
              "    .dataframe thead th {\n",
              "        text-align: right;\n",
              "    }\n",
              "</style>\n",
              "<table border=\"1\" class=\"dataframe\">\n",
              "  <thead>\n",
              "    <tr style=\"text-align: right;\">\n",
              "      <th></th>\n",
              "      <th>cut</th>\n",
              "      <th>color</th>\n",
              "      <th>clarity</th>\n",
              "      <th>cut_quality</th>\n",
              "      <th>lab</th>\n",
              "      <th>symmetry</th>\n",
              "      <th>polish</th>\n",
              "      <th>eye_clean</th>\n",
              "      <th>girdle_min</th>\n",
              "      <th>girdle_max</th>\n",
              "    </tr>\n",
              "  </thead>\n",
              "  <tbody>\n",
              "    <tr>\n",
              "      <th>0</th>\n",
              "      <td>Round</td>\n",
              "      <td>E</td>\n",
              "      <td>VVS2</td>\n",
              "      <td>Excellent</td>\n",
              "      <td>IGI</td>\n",
              "      <td>Very Good</td>\n",
              "      <td>Very Good</td>\n",
              "      <td>&lt;NA&gt;</td>\n",
              "      <td>M</td>\n",
              "      <td>M</td>\n",
              "    </tr>\n",
              "    <tr>\n",
              "      <th>1</th>\n",
              "      <td>Round</td>\n",
              "      <td>E</td>\n",
              "      <td>VVS2</td>\n",
              "      <td>Very Good</td>\n",
              "      <td>IGI</td>\n",
              "      <td>Very Good</td>\n",
              "      <td>Very Good</td>\n",
              "      <td>&lt;NA&gt;</td>\n",
              "      <td>STK</td>\n",
              "      <td>STK</td>\n",
              "    </tr>\n",
              "    <tr>\n",
              "      <th>2</th>\n",
              "      <td>Round</td>\n",
              "      <td>E</td>\n",
              "      <td>VVS2</td>\n",
              "      <td>Excellent</td>\n",
              "      <td>IGI</td>\n",
              "      <td>Very Good</td>\n",
              "      <td>Very Good</td>\n",
              "      <td>&lt;NA&gt;</td>\n",
              "      <td>TN</td>\n",
              "      <td>M</td>\n",
              "    </tr>\n",
              "    <tr>\n",
              "      <th>3</th>\n",
              "      <td>Round</td>\n",
              "      <td>E</td>\n",
              "      <td>VVS2</td>\n",
              "      <td>Excellent</td>\n",
              "      <td>IGI</td>\n",
              "      <td>Very Good</td>\n",
              "      <td>Very Good</td>\n",
              "      <td>&lt;NA&gt;</td>\n",
              "      <td>M</td>\n",
              "      <td>STK</td>\n",
              "    </tr>\n",
              "    <tr>\n",
              "      <th>4</th>\n",
              "      <td>Round</td>\n",
              "      <td>E</td>\n",
              "      <td>VVS2</td>\n",
              "      <td>Very Good</td>\n",
              "      <td>IGI</td>\n",
              "      <td>Very Good</td>\n",
              "      <td>Excellent</td>\n",
              "      <td>&lt;NA&gt;</td>\n",
              "      <td>STK</td>\n",
              "      <td>STK</td>\n",
              "    </tr>\n",
              "    <tr>\n",
              "      <th>...</th>\n",
              "      <td>...</td>\n",
              "      <td>...</td>\n",
              "      <td>...</td>\n",
              "      <td>...</td>\n",
              "      <td>...</td>\n",
              "      <td>...</td>\n",
              "      <td>...</td>\n",
              "      <td>...</td>\n",
              "      <td>...</td>\n",
              "      <td>...</td>\n",
              "    </tr>\n",
              "    <tr>\n",
              "      <th>219698</th>\n",
              "      <td>Round</td>\n",
              "      <td>E</td>\n",
              "      <td>VS1</td>\n",
              "      <td>Excellent</td>\n",
              "      <td>GIA</td>\n",
              "      <td>Excellent</td>\n",
              "      <td>Excellent</td>\n",
              "      <td>&lt;NA&gt;</td>\n",
              "      <td>M</td>\n",
              "      <td>STK</td>\n",
              "    </tr>\n",
              "    <tr>\n",
              "      <th>219699</th>\n",
              "      <td>Radiant</td>\n",
              "      <td>&lt;NA&gt;</td>\n",
              "      <td>VS2</td>\n",
              "      <td>&lt;NA&gt;</td>\n",
              "      <td>GIA</td>\n",
              "      <td>Very Good</td>\n",
              "      <td>Very Good</td>\n",
              "      <td>&lt;NA&gt;</td>\n",
              "      <td>TK</td>\n",
              "      <td>XTK</td>\n",
              "    </tr>\n",
              "    <tr>\n",
              "      <th>219700</th>\n",
              "      <td>Round</td>\n",
              "      <td>E</td>\n",
              "      <td>VS1</td>\n",
              "      <td>Excellent</td>\n",
              "      <td>GIA</td>\n",
              "      <td>Excellent</td>\n",
              "      <td>Excellent</td>\n",
              "      <td>&lt;NA&gt;</td>\n",
              "      <td>TN</td>\n",
              "      <td>M</td>\n",
              "    </tr>\n",
              "    <tr>\n",
              "      <th>219701</th>\n",
              "      <td>Princess</td>\n",
              "      <td>&lt;NA&gt;</td>\n",
              "      <td>SI2</td>\n",
              "      <td>&lt;NA&gt;</td>\n",
              "      <td>GIA</td>\n",
              "      <td>Good</td>\n",
              "      <td>Good</td>\n",
              "      <td>&lt;NA&gt;</td>\n",
              "      <td>XTN</td>\n",
              "      <td>VTK</td>\n",
              "    </tr>\n",
              "    <tr>\n",
              "      <th>219702</th>\n",
              "      <td>Pear</td>\n",
              "      <td>&lt;NA&gt;</td>\n",
              "      <td>VVS2</td>\n",
              "      <td>&lt;NA&gt;</td>\n",
              "      <td>GIA</td>\n",
              "      <td>Very Good</td>\n",
              "      <td>Excellent</td>\n",
              "      <td>&lt;NA&gt;</td>\n",
              "      <td>&lt;NA&gt;</td>\n",
              "      <td>&lt;NA&gt;</td>\n",
              "    </tr>\n",
              "  </tbody>\n",
              "</table>\n",
              "<p>219703 rows × 10 columns</p>\n",
              "</div>\n",
              "      <button class=\"colab-df-convert\" onclick=\"convertToInteractive('df-b5a21258-820d-427b-ba70-796bc3ac9dfd')\"\n",
              "              title=\"Convert this dataframe to an interactive table.\"\n",
              "              style=\"display:none;\">\n",
              "        \n",
              "  <svg xmlns=\"http://www.w3.org/2000/svg\" height=\"24px\"viewBox=\"0 0 24 24\"\n",
              "       width=\"24px\">\n",
              "    <path d=\"M0 0h24v24H0V0z\" fill=\"none\"/>\n",
              "    <path d=\"M18.56 5.44l.94 2.06.94-2.06 2.06-.94-2.06-.94-.94-2.06-.94 2.06-2.06.94zm-11 1L8.5 8.5l.94-2.06 2.06-.94-2.06-.94L8.5 2.5l-.94 2.06-2.06.94zm10 10l.94 2.06.94-2.06 2.06-.94-2.06-.94-.94-2.06-.94 2.06-2.06.94z\"/><path d=\"M17.41 7.96l-1.37-1.37c-.4-.4-.92-.59-1.43-.59-.52 0-1.04.2-1.43.59L10.3 9.45l-7.72 7.72c-.78.78-.78 2.05 0 2.83L4 21.41c.39.39.9.59 1.41.59.51 0 1.02-.2 1.41-.59l7.78-7.78 2.81-2.81c.8-.78.8-2.07 0-2.86zM5.41 20L4 18.59l7.72-7.72 1.47 1.35L5.41 20z\"/>\n",
              "  </svg>\n",
              "      </button>\n",
              "      \n",
              "  <style>\n",
              "    .colab-df-container {\n",
              "      display:flex;\n",
              "      flex-wrap:wrap;\n",
              "      gap: 12px;\n",
              "    }\n",
              "\n",
              "    .colab-df-convert {\n",
              "      background-color: #E8F0FE;\n",
              "      border: none;\n",
              "      border-radius: 50%;\n",
              "      cursor: pointer;\n",
              "      display: none;\n",
              "      fill: #1967D2;\n",
              "      height: 32px;\n",
              "      padding: 0 0 0 0;\n",
              "      width: 32px;\n",
              "    }\n",
              "\n",
              "    .colab-df-convert:hover {\n",
              "      background-color: #E2EBFA;\n",
              "      box-shadow: 0px 1px 2px rgba(60, 64, 67, 0.3), 0px 1px 3px 1px rgba(60, 64, 67, 0.15);\n",
              "      fill: #174EA6;\n",
              "    }\n",
              "\n",
              "    [theme=dark] .colab-df-convert {\n",
              "      background-color: #3B4455;\n",
              "      fill: #D2E3FC;\n",
              "    }\n",
              "\n",
              "    [theme=dark] .colab-df-convert:hover {\n",
              "      background-color: #434B5C;\n",
              "      box-shadow: 0px 1px 3px 1px rgba(0, 0, 0, 0.15);\n",
              "      filter: drop-shadow(0px 1px 2px rgba(0, 0, 0, 0.3));\n",
              "      fill: #FFFFFF;\n",
              "    }\n",
              "  </style>\n",
              "\n",
              "      <script>\n",
              "        const buttonEl =\n",
              "          document.querySelector('#df-b5a21258-820d-427b-ba70-796bc3ac9dfd button.colab-df-convert');\n",
              "        buttonEl.style.display =\n",
              "          google.colab.kernel.accessAllowed ? 'block' : 'none';\n",
              "\n",
              "        async function convertToInteractive(key) {\n",
              "          const element = document.querySelector('#df-b5a21258-820d-427b-ba70-796bc3ac9dfd');\n",
              "          const dataTable =\n",
              "            await google.colab.kernel.invokeFunction('convertToInteractive',\n",
              "                                                     [key], {});\n",
              "          if (!dataTable) return;\n",
              "\n",
              "          const docLinkHtml = 'Like what you see? Visit the ' +\n",
              "            '<a target=\"_blank\" href=https://colab.research.google.com/notebooks/data_table.ipynb>data table notebook</a>'\n",
              "            + ' to learn more about interactive tables.';\n",
              "          element.innerHTML = '';\n",
              "          dataTable['output_type'] = 'display_data';\n",
              "          await google.colab.output.renderOutput(dataTable, element);\n",
              "          const docLink = document.createElement('div');\n",
              "          docLink.innerHTML = docLinkHtml;\n",
              "          element.appendChild(docLink);\n",
              "        }\n",
              "      </script>\n",
              "    </div>\n",
              "  </div>\n",
              "  "
            ]
          },
          "metadata": {},
          "execution_count": 179
        }
      ]
    },
    {
      "cell_type": "markdown",
      "source": [
        ">**Примечание**\n",
        ">\n",
        ">Данный датасет можно использовать для задания 3 (с использованием `sklearn`)"
      ],
      "metadata": {
        "id": "QANg8ziJkHGM"
      }
    },
    {
      "cell_type": "markdown",
      "source": [
        "(0.5 балла) Выберете столбец с данными о цене бриллиантов и домножите его на тот столбец, только транспонированный, и выведите полученную матрицу:"
      ],
      "metadata": {
        "id": "mV9jLhspyOgz"
      }
    },
    {
      "cell_type": "code",
      "source": [
        "# col = diamonds['total_sales_price'].to_numpy()\n",
        "col = np.array([1, 2, 3])\n",
        "# оригинальная col is too big\n",
        "# для умножения столбца на строчку и получения матрицы\n",
        "col = col.reshape(1, col.shape[0])\n",
        "print(np.matmul(col.transpose(), col))"
      ],
      "metadata": {
        "id": "vp-2ccIzSb0B",
        "outputId": "495ce7ac-39ef-42ba-d570-606ed9ff9931",
        "colab": {
          "base_uri": "https://localhost:8080/"
        }
      },
      "execution_count": 180,
      "outputs": [
        {
          "output_type": "stream",
          "name": "stdout",
          "text": [
            "[[1 2 3]\n",
            " [2 4 6]\n",
            " [3 6 9]]\n"
          ]
        }
      ]
    },
    {
      "cell_type": "markdown",
      "source": [
        "### Построение графиков"
      ],
      "metadata": {
        "id": "Pz02uapbkbGk"
      }
    },
    {
      "cell_type": "markdown",
      "source": [
        "**Требования к графику:**\n",
        "\n",
        "1.   График должен быть подписан\n",
        "2.   Оси должны быть подписаны\n",
        "3.   Должна быть легенда графика\n",
        "4.   График должен быть информативным (желательно без сильных выбросов)\n",
        "\n",
        "**Все надписи на русском языке!**"
      ],
      "metadata": {
        "id": "_zhww-rd-c5c"
      }
    },
    {
      "cell_type": "markdown",
      "source": [
        ">**Примечание**\n",
        ">\n",
        ">График необходимо строить для очищенных данных - в них не должно быть пропусков по осям, по которым строите график. При этом **не перезатирайте** имеющийся датафрейм!"
      ],
      "metadata": {
        "id": "mfebCvk0k2mo"
      }
    },
    {
      "cell_type": "markdown",
      "source": [
        "(2 балла) Постройте график `цвет бриллианта - стоимость`:"
      ],
      "metadata": {
        "id": "4R9Rwxdq-l21"
      }
    },
    {
      "cell_type": "code",
      "source": [
        "plt.title('цвет бриллианта - стоимость', fontsize=16)\n",
        "\n",
        "plt.scatter(\n",
        "  diamonds['color'].astype(str),\n",
        "  diamonds['total_sales_price'].astype(float),\n",
        ")\n",
        "plt.xlabel('цвет', fontdict=dict(size=12))\n",
        "plt.ylabel('стоимость', fontdict=dict(size=12))\n",
        "plt.show()"
      ],
      "metadata": {
        "id": "Fo6I0j5o-vQh",
        "outputId": "17ce97f3-ebbd-4824-cb9e-fa0776a32eed",
        "colab": {
          "base_uri": "https://localhost:8080/",
          "height": 479
        }
      },
      "execution_count": 181,
      "outputs": [
        {
          "output_type": "display_data",
          "data": {
            "text/plain": [
              "<Figure size 640x480 with 1 Axes>"
            ],
            "image/png": "[encoded data removed]"
          },
          "metadata": {}
        }
      ]
    },
    {
      "cell_type": "markdown",
      "source": [
        "(2 балла) Постройте график `лабараторная оценка - кол-во бриллиантов`:"
      ],
      "metadata": {
        "id": "W_UgFji5-vWx"
      }
    },
    {
      "cell_type": "code",
      "source": [
        "plt.title('лабараторная оценка - кол-во бриллиантов', fontsize=16)\n",
        "\n",
        "plt.hist(diamonds['lab'])\n",
        "plt.xlabel('лаб. оценка', fontdict=dict(size=12))\n",
        "plt.ylabel('кол-во бриллиантов', fontdict=dict(size=12))\n",
        "plt.show()"
      ],
      "metadata": {
        "id": "nyT8-TRb_c24",
        "outputId": "083bea2b-bdd4-4e42-e861-cd57074c65a3",
        "colab": {
          "base_uri": "https://localhost:8080/",
          "height": 479
        }
      },
      "execution_count": 182,
      "outputs": [
        {
          "output_type": "display_data",
          "data": {
            "text/plain": [
              "<Figure size 640x480 with 1 Axes>"
            ],
            "image/png": "[encoded data removed]"
          },
          "metadata": {}
        }
      ]
    },
    {
      "cell_type": "markdown",
      "source": [
        "(2 балла) Постройте график `вес бриллианта - стоимость`:"
      ],
      "metadata": {
        "id": "AgsMclnJ_c9H"
      }
    },
    {
      "cell_type": "code",
      "source": [
        "plt.title('вес бриллианта - стоимость', fontsize=16)\n",
        "\n",
        "plt.scatter(\n",
        "  diamonds['carat_weight'],\n",
        "  diamonds['total_sales_price'],\n",
        ")\n",
        "plt.xlabel('вес', fontdict=dict(size=12))\n",
        "plt.ylabel('стоимость', fontdict=dict(size=12))\n",
        "plt.show()"
      ],
      "metadata": {
        "id": "tn-x3pwmANQe",
        "outputId": "3780e247-e5a9-4fe3-a8f5-7fa6338ba345",
        "colab": {
          "base_uri": "https://localhost:8080/",
          "height": 479
        }
      },
      "execution_count": 183,
      "outputs": [
        {
          "output_type": "display_data",
          "data": {
            "text/plain": [
              "<Figure size 640x480 with 1 Axes>"
            ],
            "image/png": "[encoded data removed]"
          },
          "metadata": {}
        }
      ]
    },
    {
      "cell_type": "markdown",
      "source": [
        "(2 балла) Постройте график `система оценки GIA Cut - кол-во бриллиантов`:"
      ],
      "metadata": {
        "id": "0LVC1KfEAwuw"
      }
    },
    {
      "cell_type": "markdown",
      "source": [],
      "metadata": {
        "id": "ZYUo40rf8lSq"
      }
    },
    {
      "cell_type": "code",
      "source": [
        "plt.title('система оценки GIA Cut - кол-во бриллиантов', fontsize=16)\n",
        "\n",
        "plt.hist(\n",
        "  diamonds['cut_quality'].astype(str),\n",
        ")\n",
        "plt.xlabel('GIA Cut', fontdict=dict(size=12))\n",
        "plt.ylabel('кол-во бриллиантов', fontdict=dict(size=12))\n",
        "plt.show()"
      ],
      "metadata": {
        "id": "IeuLooSIA232",
        "outputId": "18c50eb5-04e2-4cd3-d359-bbfa8376cab8",
        "colab": {
          "base_uri": "https://localhost:8080/",
          "height": 479
        }
      },
      "execution_count": 184,
      "outputs": [
        {
          "output_type": "display_data",
          "data": {
            "text/plain": [
              "<Figure size 640x480 with 1 Axes>"
            ],
            "image/png": "[encoded data removed]"
          },
          "metadata": {}
        }
      ]
    },
    {
      "cell_type": "markdown",
      "source": [
        "(2 балла) **Сделайте выводы по построенным графикам:**"
      ],
      "metadata": {
        "id": "DRaaNLidFDhL"
      }
    },
    {
      "cell_type": "markdown",
      "source": [
        ">*Подсказка для маленьких: Что вы можете сказать о графиках полученных выше для данного датасета?*"
      ],
      "metadata": {
        "id": "GSuWCfdGLtn0"
      }
    },
    {
      "cell_type": "markdown",
      "source": [
        "1. Камней с огранкой <= Good нет\n",
        "2. Есть дешёвые тяжелые бриллианты, значит вес - это не единственный фактор формирования цены\n",
        "\n"
      ],
      "metadata": {
        "id": "iNdjR_X9lSt1"
      }
    },
    {
      "cell_type": "markdown",
      "source": [
        "## Задание 3. Модель - 30 баллов"
      ],
      "metadata": {
        "id": "JKYRkX_rBxxu"
      }
    },
    {
      "cell_type": "markdown",
      "source": [
        "В данном задании вам предстоит построить классифицирующую модель размер алмаза и его стоимости, а затем оценить полученную модель."
      ],
      "metadata": {
        "id": "EJO9SwpII_uJ"
      }
    },
    {
      "cell_type": "markdown",
      "source": [
        ">**Примечание**\n",
        ">\n",
        ">Данная модель не претендует на самый верный индикатор стоимости алмаза, ведь мы не учитываем ничего больше чем стоимость алмаза. Исключительно для образовательных целей :)"
      ],
      "metadata": {
        "id": "_8sA1qlRllrk"
      }
    },
    {
      "cell_type": "markdown",
      "source": [
        "Для построения модели нам понадобится 4 столбца, а именно: \n",
        "- `meas_length`\n",
        "- `meas_width`\n",
        "- `meas_depth`\n",
        "- `total_sales_price`\n",
        "\n",
        "От остальных столбцов можно избавиться."
      ],
      "metadata": {
        "id": "e78rVEGFJrVN"
      }
    },
    {
      "cell_type": "markdown",
      "source": [
        "(1 балл) Создайте новый датасет и выведите его первые 10 строк: "
      ],
      "metadata": {
        "id": "HhpeXcR1l-Ag"
      }
    },
    {
      "cell_type": "code",
      "source": [
        "ds = diamonds[['total_sales_price', 'meas_length', 'meas_width', 'meas_depth']]\n",
        "ds.head(10)"
      ],
      "metadata": {
        "id": "K87VXeCxKFrU",
        "outputId": "4e2df607-d792-4a1a-cc73-d6d53e9763d7",
        "colab": {
          "base_uri": "https://localhost:8080/",
          "height": 363
        }
      },
      "execution_count": 185,
      "outputs": [
        {
          "output_type": "execute_result",
          "data": {
            "text/plain": [
              "   total_sales_price  meas_length  meas_width  meas_depth\n",
              "0                200         2.85        2.87        1.79\n",
              "1                200         2.84        2.89        1.78\n",
              "2                200         2.88        2.90        1.77\n",
              "3                200         2.86        2.88        1.78\n",
              "4                200         2.79        2.83        1.82\n",
              "5                200         2.95        2.99        1.81\n",
              "6                200         2.85        2.88        1.84\n",
              "7                200         2.86        2.89        1.78\n",
              "8                200         2.89        2.92        1.85\n",
              "9                200         2.83        2.87        1.80"
            ],
            "text/html": [
              "\n",
              "  <div id=\"df-24279144-e08f-4b07-a0a9-763201bf23c8\">\n",
              "    <div class=\"colab-df-container\">\n",
              "      <div>\n",
              "<style scoped>\n",
              "    .dataframe tbody tr th:only-of-type {\n",
              "        vertical-align: middle;\n",
              "    }\n",
              "\n",
              "    .dataframe tbody tr th {\n",
              "        vertical-align: top;\n",
              "    }\n",
              "\n",
              "    .dataframe thead th {\n",
              "        text-align: right;\n",
              "    }\n",
              "</style>\n",
              "<table border=\"1\" class=\"dataframe\">\n",
              "  <thead>\n",
              "    <tr style=\"text-align: right;\">\n",
              "      <th></th>\n",
              "      <th>total_sales_price</th>\n",
              "      <th>meas_length</th>\n",
              "      <th>meas_width</th>\n",
              "      <th>meas_depth</th>\n",
              "    </tr>\n",
              "  </thead>\n",
              "  <tbody>\n",
              "    <tr>\n",
              "      <th>0</th>\n",
              "      <td>200</td>\n",
              "      <td>2.85</td>\n",
              "      <td>2.87</td>\n",
              "      <td>1.79</td>\n",
              "    </tr>\n",
              "    <tr>\n",
              "      <th>1</th>\n",
              "      <td>200</td>\n",
              "      <td>2.84</td>\n",
              "      <td>2.89</td>\n",
              "      <td>1.78</td>\n",
              "    </tr>\n",
              "    <tr>\n",
              "      <th>2</th>\n",
              "      <td>200</td>\n",
              "      <td>2.88</td>\n",
              "      <td>2.90</td>\n",
              "      <td>1.77</td>\n",
              "    </tr>\n",
              "    <tr>\n",
              "      <th>3</th>\n",
              "      <td>200</td>\n",
              "      <td>2.86</td>\n",
              "      <td>2.88</td>\n",
              "      <td>1.78</td>\n",
              "    </tr>\n",
              "    <tr>\n",
              "      <th>4</th>\n",
              "      <td>200</td>\n",
              "      <td>2.79</td>\n",
              "      <td>2.83</td>\n",
              "      <td>1.82</td>\n",
              "    </tr>\n",
              "    <tr>\n",
              "      <th>5</th>\n",
              "      <td>200</td>\n",
              "      <td>2.95</td>\n",
              "      <td>2.99</td>\n",
              "      <td>1.81</td>\n",
              "    </tr>\n",
              "    <tr>\n",
              "      <th>6</th>\n",
              "      <td>200</td>\n",
              "      <td>2.85</td>\n",
              "      <td>2.88</td>\n",
              "      <td>1.84</td>\n",
              "    </tr>\n",
              "    <tr>\n",
              "      <th>7</th>\n",
              "      <td>200</td>\n",
              "      <td>2.86</td>\n",
              "      <td>2.89</td>\n",
              "      <td>1.78</td>\n",
              "    </tr>\n",
              "    <tr>\n",
              "      <th>8</th>\n",
              "      <td>200</td>\n",
              "      <td>2.89</td>\n",
              "      <td>2.92</td>\n",
              "      <td>1.85</td>\n",
              "    </tr>\n",
              "    <tr>\n",
              "      <th>9</th>\n",
              "      <td>200</td>\n",
              "      <td>2.83</td>\n",
              "      <td>2.87</td>\n",
              "      <td>1.80</td>\n",
              "    </tr>\n",
              "  </tbody>\n",
              "</table>\n",
              "</div>\n",
              "      <button class=\"colab-df-convert\" onclick=\"convertToInteractive('df-24279144-e08f-4b07-a0a9-763201bf23c8')\"\n",
              "              title=\"Convert this dataframe to an interactive table.\"\n",
              "              style=\"display:none;\">\n",
              "        \n",
              "  <svg xmlns=\"http://www.w3.org/2000/svg\" height=\"24px\"viewBox=\"0 0 24 24\"\n",
              "       width=\"24px\">\n",
              "    <path d=\"M0 0h24v24H0V0z\" fill=\"none\"/>\n",
              "    <path d=\"M18.56 5.44l.94 2.06.94-2.06 2.06-.94-2.06-.94-.94-2.06-.94 2.06-2.06.94zm-11 1L8.5 8.5l.94-2.06 2.06-.94-2.06-.94L8.5 2.5l-.94 2.06-2.06.94zm10 10l.94 2.06.94-2.06 2.06-.94-2.06-.94-.94-2.06-.94 2.06-2.06.94z\"/><path d=\"M17.41 7.96l-1.37-1.37c-.4-.4-.92-.59-1.43-.59-.52 0-1.04.2-1.43.59L10.3 9.45l-7.72 7.72c-.78.78-.78 2.05 0 2.83L4 21.41c.39.39.9.59 1.41.59.51 0 1.02-.2 1.41-.59l7.78-7.78 2.81-2.81c.8-.78.8-2.07 0-2.86zM5.41 20L4 18.59l7.72-7.72 1.47 1.35L5.41 20z\"/>\n",
              "  </svg>\n",
              "      </button>\n",
              "      \n",
              "  <style>\n",
              "    .colab-df-container {\n",
              "      display:flex;\n",
              "      flex-wrap:wrap;\n",
              "      gap: 12px;\n",
              "    }\n",
              "\n",
              "    .colab-df-convert {\n",
              "      background-color: #E8F0FE;\n",
              "      border: none;\n",
              "      border-radius: 50%;\n",
              "      cursor: pointer;\n",
              "      display: none;\n",
              "      fill: #1967D2;\n",
              "      height: 32px;\n",
              "      padding: 0 0 0 0;\n",
              "      width: 32px;\n",
              "    }\n",
              "\n",
              "    .colab-df-convert:hover {\n",
              "      background-color: #E2EBFA;\n",
              "      box-shadow: 0px 1px 2px rgba(60, 64, 67, 0.3), 0px 1px 3px 1px rgba(60, 64, 67, 0.15);\n",
              "      fill: #174EA6;\n",
              "    }\n",
              "\n",
              "    [theme=dark] .colab-df-convert {\n",
              "      background-color: #3B4455;\n",
              "      fill: #D2E3FC;\n",
              "    }\n",
              "\n",
              "    [theme=dark] .colab-df-convert:hover {\n",
              "      background-color: #434B5C;\n",
              "      box-shadow: 0px 1px 3px 1px rgba(0, 0, 0, 0.15);\n",
              "      filter: drop-shadow(0px 1px 2px rgba(0, 0, 0, 0.3));\n",
              "      fill: #FFFFFF;\n",
              "    }\n",
              "  </style>\n",
              "\n",
              "      <script>\n",
              "        const buttonEl =\n",
              "          document.querySelector('#df-24279144-e08f-4b07-a0a9-763201bf23c8 button.colab-df-convert');\n",
              "        buttonEl.style.display =\n",
              "          google.colab.kernel.accessAllowed ? 'block' : 'none';\n",
              "\n",
              "        async function convertToInteractive(key) {\n",
              "          const element = document.querySelector('#df-24279144-e08f-4b07-a0a9-763201bf23c8');\n",
              "          const dataTable =\n",
              "            await google.colab.kernel.invokeFunction('convertToInteractive',\n",
              "                                                     [key], {});\n",
              "          if (!dataTable) return;\n",
              "\n",
              "          const docLinkHtml = 'Like what you see? Visit the ' +\n",
              "            '<a target=\"_blank\" href=https://colab.research.google.com/notebooks/data_table.ipynb>data table notebook</a>'\n",
              "            + ' to learn more about interactive tables.';\n",
              "          element.innerHTML = '';\n",
              "          dataTable['output_type'] = 'display_data';\n",
              "          await google.colab.output.renderOutput(dataTable, element);\n",
              "          const docLink = document.createElement('div');\n",
              "          docLink.innerHTML = docLinkHtml;\n",
              "          element.appendChild(docLink);\n",
              "        }\n",
              "      </script>\n",
              "    </div>\n",
              "  </div>\n",
              "  "
            ]
          },
          "metadata": {},
          "execution_count": 185
        }
      ]
    },
    {
      "cell_type": "markdown",
      "source": [
        "(1 балл) Перемешайте строки в датафрейме случайным образом: "
      ],
      "metadata": {
        "id": "Uex8DVspKFxn"
      }
    },
    {
      "cell_type": "code",
      "source": [
        "ds = ds.sample(frac=1)"
      ],
      "metadata": {
        "id": "5lRYIwGOKOnT"
      },
      "execution_count": 186,
      "outputs": []
    },
    {
      "cell_type": "code",
      "source": [
        "print(ds)"
      ],
      "metadata": {
        "id": "lvM4z8zBy8PF",
        "outputId": "2327a56f-9f2f-4044-c20b-5363bce1cedc",
        "colab": {
          "base_uri": "https://localhost:8080/"
        }
      },
      "execution_count": 187,
      "outputs": [
        {
          "output_type": "stream",
          "name": "stdout",
          "text": [
            "        total_sales_price  meas_length  meas_width  meas_depth\n",
            "113494               2160         4.89        3.81        2.83\n",
            "166023               5556         6.34        6.38        3.97\n",
            "35109                 832         4.33        4.35        2.67\n",
            "231                   324         6.12        3.89        2.25\n",
            "63848                1012         3.84        3.76        2.83\n",
            "...                   ...          ...         ...         ...\n",
            "98414                1522         4.71        4.73        2.80\n",
            "37463                 858         4.29        4.34        2.59\n",
            "125363               2610         5.14        5.17        3.21\n",
            "155807               4032         5.49        5.57        3.57\n",
            "61525                 996         4.35        4.36        2.67\n",
            "\n",
            "[219703 rows x 4 columns]\n"
          ]
        }
      ]
    },
    {
      "cell_type": "markdown",
      "source": [
        "(1 балл) Сформируем новую колонку - для каждого бриллианта найдем сумму Минковского (p=3) по 3 измерениям бриллианта:"
      ],
      "metadata": {
        "id": "iEHBNONDLl64"
      }
    },
    {
      "cell_type": "code",
      "source": [
        "ds['mink_sum'] = (\n",
        "  abs(ds['meas_length'] - ds['meas_width']) ** 3\n",
        "  + abs(ds['meas_length'] - ds['meas_depth']) ** 3\n",
        "  + abs(ds['meas_depth'] - ds['meas_width']) ** 3\n",
        "  ) ** (1/3)"
      ],
      "metadata": {
        "id": "V3CTAQbAMQsR"
      },
      "execution_count": 188,
      "outputs": []
    },
    {
      "cell_type": "code",
      "source": [
        "print(ds)\n"
      ],
      "metadata": {
        "id": "wjAIBIChzgwj",
        "outputId": "d2027c45-b693-41b3-ad42-87de26721f5c",
        "colab": {
          "base_uri": "https://localhost:8080/"
        }
      },
      "execution_count": 189,
      "outputs": [
        {
          "output_type": "stream",
          "name": "stdout",
          "text": [
            "        total_sales_price  meas_length  meas_width  meas_depth  mink_sum\n",
            "113494               2160         4.89        3.81        2.83  2.220113\n",
            "166023               5556         6.34        6.38        3.97  3.011425\n",
            "35109                 832         4.33        4.35        2.67  2.104144\n",
            "231                   324         6.12        3.89        2.25  4.188121\n",
            "63848                1012         3.84        3.76        2.83  1.224312\n",
            "...                   ...          ...         ...         ...       ...\n",
            "98414                1522         4.71        4.73        2.80  2.419114\n",
            "37463                 858         4.29        4.34        2.59  2.173829\n",
            "125363               2610         5.14        5.17        3.21  2.450694\n",
            "155807               4032         5.49        5.57        3.57  2.470501\n",
            "61525                 996         4.35        4.36        2.67  2.122986\n",
            "\n",
            "[219703 rows x 5 columns]\n"
          ]
        }
      ]
    },
    {
      "cell_type": "markdown",
      "source": [
        "(1 балл) Сформируем новый датасет из двух колонок - сумма Минковского и `total_sales_price`: "
      ],
      "metadata": {
        "id": "z5s5_yB8n1Hp"
      }
    },
    {
      "cell_type": "code",
      "source": [
        "new_ds = ds[['mink_sum', 'total_sales_price']]"
      ],
      "metadata": {
        "id": "tXxZnWS7n9q0"
      },
      "execution_count": 190,
      "outputs": []
    },
    {
      "cell_type": "code",
      "source": [
        "print(new_ds)"
      ],
      "metadata": {
        "id": "0ZBiQf8Rzukz",
        "outputId": "19cd2bfa-e0d8-41e1-88b7-a23cd32693c0",
        "colab": {
          "base_uri": "https://localhost:8080/"
        }
      },
      "execution_count": 191,
      "outputs": [
        {
          "output_type": "stream",
          "name": "stdout",
          "text": [
            "        mink_sum  total_sales_price\n",
            "113494  2.220113               2160\n",
            "166023  3.011425               5556\n",
            "35109   2.104144                832\n",
            "231     4.188121                324\n",
            "63848   1.224312               1012\n",
            "...          ...                ...\n",
            "98414   2.419114               1522\n",
            "37463   2.173829                858\n",
            "125363  2.450694               2610\n",
            "155807  2.470501               4032\n",
            "61525   2.122986                996\n",
            "\n",
            "[219703 rows x 2 columns]\n"
          ]
        }
      ]
    },
    {
      "cell_type": "markdown",
      "source": [
        "(1 балл) Разделите вашу выборку на две части в соотношении 8:2 - одна выборка будет для тренировка, а другая для тестов вашей модели:"
      ],
      "metadata": {
        "id": "aXCp0GmUKOvM"
      }
    },
    {
      "cell_type": "code",
      "source": [
        "test_ds = new_ds[:new_ds.shape[0] * 8 // 10]\n",
        "train_ds = new_ds[new_ds.shape[0] * 8 // 10:]"
      ],
      "metadata": {
        "id": "rxwHhdnFK3Lz"
      },
      "execution_count": 192,
      "outputs": []
    },
    {
      "cell_type": "code",
      "source": [
        "print(test_ds)\n",
        "print(train_ds)"
      ],
      "metadata": {
        "id": "nUrPRowyz6Bp",
        "outputId": "c79a923b-0f63-4478-cb09-3c7203988bd7",
        "colab": {
          "base_uri": "https://localhost:8080/"
        }
      },
      "execution_count": 193,
      "outputs": [
        {
          "output_type": "stream",
          "name": "stdout",
          "text": [
            "        mink_sum  total_sales_price\n",
            "113494  2.220113               2160\n",
            "166023  3.011425               5556\n",
            "35109   2.104144                832\n",
            "231     4.188121                324\n",
            "63848   1.224312               1012\n",
            "...          ...                ...\n",
            "154583  2.645899               4108\n",
            "32825   2.053749                842\n",
            "174568  6.333252               7100\n",
            "133828  2.331974               3020\n",
            "91135   2.425497               1356\n",
            "\n",
            "[175762 rows x 2 columns]\n",
            "        mink_sum  total_sales_price\n",
            "173648  2.942590               6470\n",
            "71336   1.997156               1062\n",
            "108351  2.519906               1946\n",
            "48832   2.387567                928\n",
            "76772   2.003354               1116\n",
            "...          ...                ...\n",
            "98414   2.419114               1522\n",
            "37463   2.173829                858\n",
            "125363  2.450694               2610\n",
            "155807  2.470501               4032\n",
            "61525   2.122986                996\n",
            "\n",
            "[43941 rows x 2 columns]\n"
          ]
        }
      ]
    },
    {
      "cell_type": "markdown",
      "source": [
        "(2 балла) Постройте график зависимости стоимости от вашего нового параметра размера для тренинг-выборки:"
      ],
      "metadata": {
        "id": "lhuRoIMRK3S3"
      }
    },
    {
      "cell_type": "code",
      "source": [
        "plt.title('стоимость - ваш новый параметр', fontsize=16)\n",
        "\n",
        "plt.scatter(\n",
        "  train_ds['mink_sum'],\n",
        "  train_ds['total_sales_price'],\n",
        "  alpha = 0.12\n",
        ")\n",
        "plt.xlabel('ваш новый параметр', fontdict=dict(size=12))\n",
        "plt.ylabel('стоимость', fontdict=dict(size=12))\n",
        "\n",
        "plt.show()"
      ],
      "metadata": {
        "id": "zdXv0wimNNZq",
        "outputId": "c38c9d92-94ef-42ce-9527-8fba5f66bb2f",
        "colab": {
          "base_uri": "https://localhost:8080/",
          "height": 478
        }
      },
      "execution_count": 194,
      "outputs": [
        {
          "output_type": "display_data",
          "data": {
            "text/plain": [
              "<Figure size 640x480 with 1 Axes>"
            ],
            "image/png": "[encoded data removed]"
          },
          "metadata": {}
        }
      ]
    },
    {
      "cell_type": "markdown",
      "source": [
        "(2 балла) Нанесите на тот же график тестовую выборку, используя другой цвет (не забудьте про параметр прозрачности):"
      ],
      "metadata": {
        "id": "0cUx_FSiNOUx"
      }
    },
    {
      "cell_type": "code",
      "source": [
        "plt.title('стоимость - ваш новый параметр', fontsize=16)\n",
        "\n",
        "plt.scatter(\n",
        "  train_ds['mink_sum'],\n",
        "  train_ds['total_sales_price'],\n",
        "  alpha = 0.12\n",
        ")\n",
        "plt.scatter(\n",
        "  test_ds['mink_sum'],\n",
        "  test_ds['total_sales_price'],\n",
        "  alpha = 0.08,\n",
        "  color='purple'\n",
        ")\n",
        "plt.xlabel('ваш новый параметр', fontdict=dict(size=12))\n",
        "plt.ylabel('стоимость', fontdict=dict(size=12))\n",
        "\n",
        "plt.show()"
      ],
      "metadata": {
        "id": "R09w4W7VNnM2",
        "outputId": "b855aa8e-f22a-4661-d749-76afbc73aad0",
        "colab": {
          "base_uri": "https://localhost:8080/",
          "height": 478
        }
      },
      "execution_count": 195,
      "outputs": [
        {
          "output_type": "display_data",
          "data": {
            "text/plain": [
              "<Figure size 640x480 with 1 Axes>"
            ],
            "image/png": "[encoded data removed]"
          },
          "metadata": {}
        }
      ]
    },
    {
      "cell_type": "markdown",
      "source": [
        "(3 балла) Найдите для каждой бриллианта из тестовой выборки его \"ближайшего соседа\" из тренинг-выборки. Для каждого бриллианта из тестовой выборки найдите расстояния до соответствующего ближайшего соседа:"
      ],
      "metadata": {
        "id": "VwIIccnpNnVj"
      }
    },
    {
      "cell_type": "code",
      "source": [
        "num = list()\n",
        "closest = list()\n",
        "distance = list()\n",
        "price_difference = list()\n",
        "\n",
        "def dist(row_lhs, row_rhs):\n",
        "  return ((row_lhs['mink_sum'] - row_rhs['mink_sum']) ** 2 + (row_lhs['total_sales_price'] - row_rhs['total_sales_price']) ** 2) ** (1/2)\n",
        "\n",
        "def diff(row_lhs, row_rhs):\n",
        "  return 100 * abs(row_lhs['total_sales_price'] - row_rhs['total_sales_price']) / row_rhs['total_sales_price'] \n",
        "\n",
        "too_much_diamonts = 5\n",
        "cnt = 0\n",
        "\n",
        "for idx, row in test_ds.iterrows():\n",
        "  min_dist = 1e32\n",
        "  closest_neigh = 0\n",
        "  price_diff = 0\n",
        "  for idx2, row2 in train_ds.iterrows():\n",
        "    if dist(row, row2) < min_dist:\n",
        "      min_dist = dist(row, row2)\n",
        "      closest_neigh = idx2\n",
        "      price_diff = diff(row2, row)\n",
        "  num.append(idx)\n",
        "  closest.append(closest_neigh)\n",
        "  distance.append(min_dist)\n",
        "  price_difference.append(price_diff)\n",
        "\n",
        "  cnt += 1\n",
        "  if cnt > too_much_diamonts:\n",
        "    break\n",
        "\n",
        "closest_ds = pd.DataFrame(list(zip(num, closest, distance, price_difference)), columns = ['test_idx', 'train_idx', 'dist', 'price_diff'])\n"
      ],
      "metadata": {
        "id": "t_jpKJ54OBb0"
      },
      "execution_count": 196,
      "outputs": []
    },
    {
      "cell_type": "code",
      "source": [
        "print(closest_ds)\n"
      ],
      "metadata": {
        "id": "zIoCUSuc2Exf",
        "outputId": "cec0c5e6-c3cf-4fe2-d65e-b4ff2f274566",
        "colab": {
          "base_uri": "https://localhost:8080/"
        }
      },
      "execution_count": 197,
      "outputs": [
        {
          "output_type": "stream",
          "name": "stdout",
          "text": [
            "   test_idx  train_idx      dist  price_diff\n",
            "0    113494     116419  0.002580    0.000000\n",
            "1    166023     166020  0.182546    0.000000\n",
            "2     35109      35355  0.000000    0.000000\n",
            "3       231        246  3.310695    0.617284\n",
            "4     63848      63871  0.099097    0.000000\n",
            "5     28294      28539  0.000000    0.000000\n"
          ]
        }
      ]
    },
    {
      "cell_type": "markdown",
      "source": [
        "(3 балла) Найдите насколько сильно (в процентах) отличается цена бриллиантов из тестовой выборки от их соответствующих ближайших соседей:"
      ],
      "metadata": {
        "id": "7R0uaHqurV_u"
      }
    },
    {
      "cell_type": "code",
      "source": [
        "closest_ds['price_diff'].max()"
      ],
      "metadata": {
        "id": "Uy2ngWJ4rn-4",
        "outputId": "abc7b49b-3ecc-48b4-f080-870474c95ec4",
        "colab": {
          "base_uri": "https://localhost:8080/"
        }
      },
      "execution_count": 198,
      "outputs": [
        {
          "output_type": "execute_result",
          "data": {
            "text/plain": [
              "0.6172839506172839"
            ]
          },
          "metadata": {},
          "execution_count": 198
        }
      ]
    },
    {
      "cell_type": "markdown",
      "source": [
        "**Данная модель является выдумкой автора. Не важен коэффициент ошибки, важны ваши шаги для получения коэффициента.**"
      ],
      "metadata": {
        "id": "tl0CHY6_OAxU"
      }
    },
    {
      "cell_type": "markdown",
      "source": [
        "### Введение в машинное обучение"
      ],
      "metadata": {
        "id": "AbrAdKSUrqz5"
      }
    },
    {
      "cell_type": "markdown",
      "source": [
        "Теперь давайте познакомимся с таким сильным инструментом как `sklearn`."
      ],
      "metadata": {
        "id": "I6sqXZLYuox4"
      }
    },
    {
      "cell_type": "markdown",
      "source": [
        "Вам необходимо:\n",
        "1. выбрать 2 категориальных признака\n",
        "2. на их основе обучить решающее дерево\n",
        "3. оценить среднеквадратичную ошибку цены бриллианта\n",
        "4. сделать пп. 1-3 и выбрать ту пару, которая дает лучший результат\n",
        "5. сделать выводы"
      ],
      "metadata": {
        "id": "q4OpdbhwsuAX"
      }
    },
    {
      "cell_type": "markdown",
      "source": [
        "(3 балла) Мы работаем с категориальными признаками, для них не понятно что есть \"больше\" и \"меньше\". Поэтому нам нужно предварительно закодировать значения наших признаков, с чем нам поможет [OneHotEncoder](https://scikit-learn.org/stable/modules/generated/sklearn.preprocessing.OneHotEncoder.html):"
      ],
      "metadata": {
        "id": "rScraaVSxQlT"
      }
    },
    {
      "cell_type": "code",
      "source": [],
      "metadata": {
        "id": "G8hDstLlxjry"
      },
      "execution_count": 198,
      "outputs": []
    },
    {
      "cell_type": "markdown",
      "source": [
        "(3 балла) Разбейте датасет на обучающую и тестовую выбору. Для этого вам поможет [train_test_split](https://scikit-learn.org/stable/modules/generated/sklearn.model_selection.train_test_split.html):"
      ],
      "metadata": {
        "id": "ig8t-nmRvojA"
      }
    },
    {
      "cell_type": "code",
      "source": [
        "# your code here"
      ],
      "metadata": {
        "id": "ChVKP43AwY8i"
      },
      "execution_count": 199,
      "outputs": []
    },
    {
      "cell_type": "markdown",
      "source": [
        "(3 балла) Затем создайте и обучите вашу модель - [DecisionTreeRegressor](https://scikit-learn.org/stable/modules/generated/sklearn.tree.DecisionTreeRegressor.html):"
      ],
      "metadata": {
        "id": "gbv2zLpkwZsq"
      }
    },
    {
      "cell_type": "code",
      "source": [
        "# your code here"
      ],
      "metadata": {
        "id": "Qfvv2j6Sws8p"
      },
      "execution_count": 200,
      "outputs": []
    },
    {
      "cell_type": "markdown",
      "source": [
        "(3 балла) Оцените ошибку вашей модели при помощи [mean_squared_error](https://scikit-learn.org/stable/modules/generated/sklearn.metrics.mean_squared_error.html):"
      ],
      "metadata": {
        "id": "nUvBoY1pwtIv"
      }
    },
    {
      "cell_type": "code",
      "source": [
        "# your code here"
      ],
      "metadata": {
        "id": "q946oHPaxGA4"
      },
      "execution_count": 201,
      "outputs": []
    },
    {
      "cell_type": "markdown",
      "source": [
        "(3 балла) **Сделайте выводы какие категориальные признаки лучше:**"
      ],
      "metadata": {
        "id": "scWwHLEKxGPl"
      }
    },
    {
      "cell_type": "markdown",
      "source": [
        "*Подсказки для маленьких: Что вы можете сказать о зависимости по вашей выборке признаков? Какой вы можете сделать вывод об готовых инструментах для работы и написанных Вами?*"
      ],
      "metadata": {
        "id": "djE6Ke2bL5WS"
      }
    },
    {
      "cell_type": "markdown",
      "source": [
        "Ваши выводы здесь :)"
      ],
      "metadata": {
        "id": "lu36_N58uvui"
      }
    }
  ]
}